{
 "cells": [
  {
   "cell_type": "code",
   "execution_count": 1,
   "id": "09288261",
   "metadata": {},
   "outputs": [],
   "source": [
    "import tensorflow as tf\n",
    "import numpy as np\n",
    "import pandas as pd"
   ]
  },
  {
   "cell_type": "code",
   "execution_count": 2,
   "id": "60379df7",
   "metadata": {},
   "outputs": [],
   "source": [
    "a=tf.constant([[1.0,2.0,3.0],[4.0,5.0,6.0]])"
   ]
  },
  {
   "cell_type": "code",
   "execution_count": 3,
   "id": "089c0c54",
   "metadata": {},
   "outputs": [
    {
     "name": "stdout",
     "output_type": "stream",
     "text": [
      "<class 'tensorflow.python.framework.ops.EagerTensor'>\n"
     ]
    }
   ],
   "source": [
    "print(type(a))"
   ]
  },
  {
   "cell_type": "code",
   "execution_count": 4,
   "id": "529ec310",
   "metadata": {},
   "outputs": [
    {
     "data": {
      "text/plain": [
       "tf.float32"
      ]
     },
     "execution_count": 4,
     "metadata": {},
     "output_type": "execute_result"
    }
   ],
   "source": [
    "a.dtype"
   ]
  },
  {
   "cell_type": "code",
   "execution_count": 5,
   "id": "68762bae",
   "metadata": {},
   "outputs": [
    {
     "data": {
      "text/plain": [
       "TensorShape([2, 3])"
      ]
     },
     "execution_count": 5,
     "metadata": {},
     "output_type": "execute_result"
    }
   ],
   "source": [
    "a.shape"
   ]
  },
  {
   "cell_type": "code",
   "execution_count": 6,
   "id": "ead9c30a",
   "metadata": {},
   "outputs": [
    {
     "data": {
      "text/plain": [
       "array([4., 5., 6.], dtype=float32)"
      ]
     },
     "execution_count": 6,
     "metadata": {},
     "output_type": "execute_result"
    }
   ],
   "source": [
    "a[1,:].numpy()"
   ]
  },
  {
   "cell_type": "code",
   "execution_count": 7,
   "id": "2a980df1",
   "metadata": {},
   "outputs": [
    {
     "data": {
      "text/plain": [
       "<tf.Tensor: shape=(), dtype=float32, numpy=6.0>"
      ]
     },
     "execution_count": 7,
     "metadata": {},
     "output_type": "execute_result"
    }
   ],
   "source": [
    "a[1,2]"
   ]
  },
  {
   "cell_type": "code",
   "execution_count": 8,
   "id": "ffd406d5",
   "metadata": {},
   "outputs": [
    {
     "data": {
      "text/plain": [
       "<tf.Tensor: shape=(2, 1), dtype=float32, numpy=\n",
       "array([[2.],\n",
       "       [5.]], dtype=float32)>"
      ]
     },
     "execution_count": 8,
     "metadata": {},
     "output_type": "execute_result"
    }
   ],
   "source": [
    "a[...,1,tf.newaxis]"
   ]
  },
  {
   "cell_type": "code",
   "execution_count": 9,
   "id": "e1378737",
   "metadata": {},
   "outputs": [
    {
     "data": {
      "text/plain": [
       "<tf.Tensor: shape=(2, 1), dtype=float32, numpy=\n",
       "array([[3.],\n",
       "       [6.]], dtype=float32)>"
      ]
     },
     "execution_count": 9,
     "metadata": {},
     "output_type": "execute_result"
    }
   ],
   "source": [
    "a[...,2,tf.newaxis]"
   ]
  },
  {
   "cell_type": "code",
   "execution_count": 12,
   "id": "6843eda5",
   "metadata": {},
   "outputs": [
    {
     "data": {
      "text/plain": [
       "<tf.Tensor: shape=(3, 1), dtype=float32, numpy=\n",
       "array([[1.],\n",
       "       [2.],\n",
       "       [3.]], dtype=float32)>"
      ]
     },
     "execution_count": 12,
     "metadata": {},
     "output_type": "execute_result"
    }
   ],
   "source": [
    "a[0,...,tf.newaxis]"
   ]
  },
  {
   "cell_type": "code",
   "execution_count": 13,
   "id": "63b4875f",
   "metadata": {},
   "outputs": [
    {
     "data": {
      "text/plain": [
       "<tf.Tensor: shape=(3,), dtype=float32, numpy=array([1., 2., 3.], dtype=float32)>"
      ]
     },
     "execution_count": 13,
     "metadata": {},
     "output_type": "execute_result"
    }
   ],
   "source": [
    "a[0,:]"
   ]
  },
  {
   "cell_type": "code",
   "execution_count": 14,
   "id": "88634adf",
   "metadata": {},
   "outputs": [
    {
     "data": {
      "text/plain": [
       "<tf.Tensor: shape=(2, 1, 3), dtype=float32, numpy=\n",
       "array([[[1., 2., 3.]],\n",
       "\n",
       "       [[4., 5., 6.]]], dtype=float32)>"
      ]
     },
     "execution_count": 14,
     "metadata": {},
     "output_type": "execute_result"
    }
   ],
   "source": [
    "a[:,tf.newaxis,:]"
   ]
  },
  {
   "cell_type": "code",
   "execution_count": 15,
   "id": "d157d544",
   "metadata": {},
   "outputs": [
    {
     "data": {
      "text/plain": [
       "<tf.Tensor: shape=(3,), dtype=int32, numpy=array([ 8,  0, 10])>"
      ]
     },
     "execution_count": 15,
     "metadata": {},
     "output_type": "execute_result"
    }
   ],
   "source": [
    "tf.constant([8,0,10])"
   ]
  },
  {
   "cell_type": "code",
   "execution_count": 16,
   "id": "11a81619",
   "metadata": {},
   "outputs": [
    {
     "data": {
      "text/plain": [
       "<tf.Tensor: shape=(1, 3), dtype=int32, numpy=array([[ 8,  0, 10]])>"
      ]
     },
     "execution_count": 16,
     "metadata": {},
     "output_type": "execute_result"
    }
   ],
   "source": [
    "tf.constant([[8,0,10]])"
   ]
  },
  {
   "cell_type": "code",
   "execution_count": 54,
   "id": "efe0e13e",
   "metadata": {},
   "outputs": [],
   "source": [
    "new_values=tf.constant([[8,0,10]])\n",
    "# Reshape new_values to match the shape of y\n",
    "new_values_reshaped = tf.tile(new_values[:,tf.newaxis, :], [1,a.shape[0], 1])\n"
   ]
  },
  {
   "cell_type": "code",
   "execution_count": 55,
   "id": "a9d84cba",
   "metadata": {},
   "outputs": [
    {
     "name": "stdout",
     "output_type": "stream",
     "text": [
      "Help on function tile in module tensorflow.python.ops.gen_array_ops:\n",
      "\n",
      "tile(input, multiples, name=None)\n",
      "    Constructs a tensor by tiling a given tensor.\n",
      "    \n",
      "    This operation creates a new tensor by replicating `input` `multiples` times.\n",
      "    \n",
      "    The output tensor's i'th dimension has `input.dims(i) * multiples[i]` elements,\n",
      "    \n",
      "    and the values of `input` are replicated `multiples[i]` times along the 'i'th\n",
      "    \n",
      "    dimension. For example, tiling `[a b c d]` by `[2]` produces\n",
      "    \n",
      "    `[a b c d a b c d]`.\n",
      "    \n",
      "    \n",
      "    \n",
      "    >>> a = tf.constant([[1,2,3],[4,5,6]], tf.int32)\n",
      "    \n",
      "    >>> b = tf.constant([1,2], tf.int32)\n",
      "    \n",
      "    >>> tf.tile(a, b)\n",
      "    \n",
      "    <tf.Tensor: shape=(2, 6), dtype=int32, numpy=\n",
      "    \n",
      "    array([[1, 2, 3, 1, 2, 3],\n",
      "    \n",
      "           [4, 5, 6, 4, 5, 6]], dtype=int32)>\n",
      "    \n",
      "    >>> c = tf.constant([2,1], tf.int32)\n",
      "    \n",
      "    >>> tf.tile(a, c)\n",
      "    \n",
      "    <tf.Tensor: shape=(4, 3), dtype=int32, numpy=\n",
      "    \n",
      "    array([[1, 2, 3],\n",
      "    \n",
      "           [4, 5, 6],\n",
      "    \n",
      "           [1, 2, 3],\n",
      "    \n",
      "           [4, 5, 6]], dtype=int32)>\n",
      "    \n",
      "    >>> d = tf.constant([2,2], tf.int32)\n",
      "    \n",
      "    >>> tf.tile(a, d)\n",
      "    \n",
      "    <tf.Tensor: shape=(4, 6), dtype=int32, numpy=\n",
      "    \n",
      "    array([[1, 2, 3, 1, 2, 3],\n",
      "    \n",
      "           [4, 5, 6, 4, 5, 6],\n",
      "    \n",
      "           [1, 2, 3, 1, 2, 3],\n",
      "    \n",
      "           [4, 5, 6, 4, 5, 6]], dtype=int32)>\n",
      "    \n",
      "    Args:\n",
      "      input: A `Tensor`. 1-D or higher.\n",
      "      multiples: A `Tensor`. Must be one of the following types: `int32`, `int64`.\n",
      "        1-D. Length must be the same as the number of dimensions in `input`\n",
      "      name: A name for the operation (optional).\n",
      "    \n",
      "    Returns:\n",
      "      A `Tensor`. Has the same type as `input`.\n",
      "\n"
     ]
    }
   ],
   "source": [
    "help(tf.tile)"
   ]
  },
  {
   "cell_type": "code",
   "execution_count": 56,
   "id": "05b4652e",
   "metadata": {},
   "outputs": [
    {
     "data": {
      "text/plain": [
       "<tf.Tensor: shape=(1, 3), dtype=int32, numpy=array([[ 8,  0, 10]])>"
      ]
     },
     "execution_count": 56,
     "metadata": {},
     "output_type": "execute_result"
    }
   ],
   "source": [
    "new_values"
   ]
  },
  {
   "cell_type": "code",
   "execution_count": 57,
   "id": "eafe6dfa",
   "metadata": {},
   "outputs": [
    {
     "data": {
      "text/plain": [
       "TensorShape([2, 3])"
      ]
     },
     "execution_count": 57,
     "metadata": {},
     "output_type": "execute_result"
    }
   ],
   "source": [
    "a.shape"
   ]
  },
  {
   "cell_type": "code",
   "execution_count": 58,
   "id": "dbcc7dd5",
   "metadata": {},
   "outputs": [
    {
     "data": {
      "text/plain": [
       "TensorShape([1, 3])"
      ]
     },
     "execution_count": 58,
     "metadata": {},
     "output_type": "execute_result"
    }
   ],
   "source": [
    "new_values.shape"
   ]
  },
  {
   "cell_type": "code",
   "execution_count": 59,
   "id": "eb013024",
   "metadata": {},
   "outputs": [
    {
     "data": {
      "text/plain": [
       "<tf.Tensor: shape=(2, 3), dtype=float32, numpy=\n",
       "array([[11., 12., 13.],\n",
       "       [14., 15., 16.]], dtype=float32)>"
      ]
     },
     "execution_count": 59,
     "metadata": {},
     "output_type": "execute_result"
    }
   ],
   "source": [
    "# adding operation\n",
    "a+10"
   ]
  },
  {
   "cell_type": "code",
   "execution_count": 60,
   "id": "461a78f2",
   "metadata": {},
   "outputs": [
    {
     "data": {
      "text/plain": [
       "<tf.Tensor: shape=(2, 3), dtype=float32, numpy=\n",
       "array([[11., 12., 13.],\n",
       "       [14., 15., 16.]], dtype=float32)>"
      ]
     },
     "execution_count": 60,
     "metadata": {},
     "output_type": "execute_result"
    }
   ],
   "source": [
    "tf.add(a,10)"
   ]
  },
  {
   "cell_type": "code",
   "execution_count": 61,
   "id": "a53e841f",
   "metadata": {},
   "outputs": [
    {
     "data": {
      "text/plain": [
       "<tf.Tensor: shape=(2, 3), dtype=float32, numpy=\n",
       "array([[ 1.,  4.,  9.],\n",
       "       [16., 25., 36.]], dtype=float32)>"
      ]
     },
     "execution_count": 61,
     "metadata": {},
     "output_type": "execute_result"
    }
   ],
   "source": [
    "tf.square(a)"
   ]
  },
  {
   "cell_type": "code",
   "execution_count": 62,
   "id": "877de0f8",
   "metadata": {},
   "outputs": [
    {
     "data": {
      "text/plain": [
       "<tf.Tensor: shape=(3, 2), dtype=float32, numpy=\n",
       "array([[1., 4.],\n",
       "       [2., 5.],\n",
       "       [3., 6.]], dtype=float32)>"
      ]
     },
     "execution_count": 62,
     "metadata": {},
     "output_type": "execute_result"
    }
   ],
   "source": [
    "tf.transpose(a)"
   ]
  },
  {
   "cell_type": "code",
   "execution_count": 63,
   "id": "28775442",
   "metadata": {},
   "outputs": [
    {
     "data": {
      "text/plain": [
       "<tf.Tensor: shape=(2, 3), dtype=float32, numpy=\n",
       "array([[1.       , 1.4142135, 1.7320508],\n",
       "       [2.       , 2.236068 , 2.4494898]], dtype=float32)>"
      ]
     },
     "execution_count": 63,
     "metadata": {},
     "output_type": "execute_result"
    }
   ],
   "source": [
    "tf.sqrt(a)"
   ]
  },
  {
   "cell_type": "code",
   "execution_count": 64,
   "id": "fe240314",
   "metadata": {},
   "outputs": [
    {
     "data": {
      "text/plain": [
       "<tf.Tensor: shape=(), dtype=float32, numpy=3.5>"
      ]
     },
     "execution_count": 64,
     "metadata": {},
     "output_type": "execute_result"
    }
   ],
   "source": [
    "tf.reduce_mean(a)"
   ]
  },
  {
   "cell_type": "code",
   "execution_count": 65,
   "id": "921d1e58",
   "metadata": {},
   "outputs": [
    {
     "data": {
      "text/plain": [
       "<tf.Tensor: shape=(), dtype=float32, numpy=21.0>"
      ]
     },
     "execution_count": 65,
     "metadata": {},
     "output_type": "execute_result"
    }
   ],
   "source": [
    "tf.reduce_sum(a)"
   ]
  },
  {
   "cell_type": "code",
   "execution_count": 66,
   "id": "3688a859",
   "metadata": {},
   "outputs": [
    {
     "data": {
      "text/plain": [
       "<tf.Tensor: shape=(), dtype=float32, numpy=6.0>"
      ]
     },
     "execution_count": 66,
     "metadata": {},
     "output_type": "execute_result"
    }
   ],
   "source": [
    "tf.reduce_max(a)"
   ]
  },
  {
   "cell_type": "code",
   "execution_count": 67,
   "id": "378d3a32",
   "metadata": {},
   "outputs": [
    {
     "data": {
      "text/plain": [
       "tf.float32"
      ]
     },
     "execution_count": 67,
     "metadata": {},
     "output_type": "execute_result"
    }
   ],
   "source": [
    "a.dtype"
   ]
  },
  {
   "cell_type": "code",
   "execution_count": 68,
   "id": "1f2ff625",
   "metadata": {},
   "outputs": [
    {
     "data": {
      "text/plain": [
       "<tf.Tensor: shape=(2, 3), dtype=float32, numpy=\n",
       "array([[1., 2., 3.],\n",
       "       [4., 5., 6.]], dtype=float32)>"
      ]
     },
     "execution_count": 68,
     "metadata": {},
     "output_type": "execute_result"
    }
   ],
   "source": [
    "a"
   ]
  },
  {
   "cell_type": "code",
   "execution_count": 69,
   "id": "df431c40",
   "metadata": {},
   "outputs": [
    {
     "data": {
      "text/plain": [
       "<tf.Tensor: shape=(2, 3), dtype=float32, numpy=\n",
       "array([[0.       , 0.6931472, 1.0986123],\n",
       "       [1.3862944, 1.609438 , 1.7917595]], dtype=float32)>"
      ]
     },
     "execution_count": 69,
     "metadata": {},
     "output_type": "execute_result"
    }
   ],
   "source": [
    "import math\n",
    "tf.math.log(a)"
   ]
  },
  {
   "cell_type": "code",
   "execution_count": 70,
   "id": "8be049f7",
   "metadata": {},
   "outputs": [
    {
     "data": {
      "text/plain": [
       "<tf.Tensor: shape=(3, 2), dtype=float32, numpy=\n",
       "array([[11., 26.],\n",
       "       [14., 35.],\n",
       "       [19., 46.]], dtype=float32)>"
      ]
     },
     "execution_count": 70,
     "metadata": {},
     "output_type": "execute_result"
    }
   ],
   "source": [
    "# keras low-level API\n",
    "from tensorflow import keras\n",
    "k=keras.backend\n",
    "k.square(k.transpose(a))+10"
   ]
  },
  {
   "cell_type": "code",
   "execution_count": 71,
   "id": "25fa92f7",
   "metadata": {},
   "outputs": [
    {
     "data": {
      "text/plain": [
       "<tf.Tensor: shape=(2, 3), dtype=float32, numpy=\n",
       "array([[1., 2., 3.],\n",
       "       [4., 5., 6.]], dtype=float32)>"
      ]
     },
     "execution_count": 71,
     "metadata": {},
     "output_type": "execute_result"
    }
   ],
   "source": [
    "a"
   ]
  },
  {
   "cell_type": "code",
   "execution_count": 72,
   "id": "dafca95b",
   "metadata": {},
   "outputs": [
    {
     "data": {
      "text/plain": [
       "<tf.Tensor: shape=(3, 2), dtype=float32, numpy=\n",
       "array([[ 1., 16.],\n",
       "       [ 4., 25.],\n",
       "       [ 9., 36.]], dtype=float32)>"
      ]
     },
     "execution_count": 72,
     "metadata": {},
     "output_type": "execute_result"
    }
   ],
   "source": [
    "tf.square(tf.transpose(a))"
   ]
  },
  {
   "cell_type": "code",
   "execution_count": 73,
   "id": "5aeee6d8",
   "metadata": {},
   "outputs": [
    {
     "data": {
      "text/plain": [
       "array([2., 4., 5.])"
      ]
     },
     "execution_count": 73,
     "metadata": {},
     "output_type": "execute_result"
    }
   ],
   "source": [
    "# Tensors and Numpy\n",
    "b=np.array([2.0,4.0,5.0])\n",
    "b"
   ]
  },
  {
   "cell_type": "code",
   "execution_count": 74,
   "id": "01e27530",
   "metadata": {},
   "outputs": [
    {
     "data": {
      "text/plain": [
       "<tf.Tensor: shape=(3,), dtype=float64, numpy=array([2., 4., 5.])>"
      ]
     },
     "execution_count": 74,
     "metadata": {},
     "output_type": "execute_result"
    }
   ],
   "source": [
    "tf.constant(b)"
   ]
  },
  {
   "cell_type": "code",
   "execution_count": 75,
   "id": "c8966ab8",
   "metadata": {},
   "outputs": [
    {
     "data": {
      "text/plain": [
       "array([[1., 2., 3.],\n",
       "       [4., 5., 6.]], dtype=float32)"
      ]
     },
     "execution_count": 75,
     "metadata": {},
     "output_type": "execute_result"
    }
   ],
   "source": [
    "a.numpy()"
   ]
  },
  {
   "cell_type": "code",
   "execution_count": 76,
   "id": "b5d6471a",
   "metadata": {},
   "outputs": [
    {
     "data": {
      "text/plain": [
       "<tf.Tensor: shape=(3,), dtype=float64, numpy=array([ 4., 16., 25.])>"
      ]
     },
     "execution_count": 76,
     "metadata": {},
     "output_type": "execute_result"
    }
   ],
   "source": [
    "tf.square(b)"
   ]
  },
  {
   "cell_type": "code",
   "execution_count": 77,
   "id": "7d69d53e",
   "metadata": {},
   "outputs": [
    {
     "data": {
      "text/plain": [
       "array([[ 1.,  4.,  9.],\n",
       "       [16., 25., 36.]], dtype=float32)"
      ]
     },
     "execution_count": 77,
     "metadata": {},
     "output_type": "execute_result"
    }
   ],
   "source": [
    "np.square(a)"
   ]
  },
  {
   "cell_type": "code",
   "execution_count": 17,
   "id": "90ed4b0b",
   "metadata": {},
   "outputs": [
    {
     "data": {
      "text/plain": [
       "<tf.Tensor: shape=(), dtype=float32, numpy=42.0>"
      ]
     },
     "execution_count": 17,
     "metadata": {},
     "output_type": "execute_result"
    }
   ],
   "source": [
    "#Type conversion\n",
    "tf.constant(2.0)+tf.constant(40.0)"
   ]
  },
  {
   "cell_type": "code",
   "execution_count": 18,
   "id": "9552146c",
   "metadata": {},
   "outputs": [
    {
     "data": {
      "text/plain": [
       "<tf.Tensor: shape=(), dtype=float32, numpy=42.0>"
      ]
     },
     "execution_count": 18,
     "metadata": {},
     "output_type": "execute_result"
    }
   ],
   "source": [
    "tf.constant(2.0)+tf.constant(40.0)"
   ]
  },
  {
   "cell_type": "code",
   "execution_count": 20,
   "id": "4d07418f",
   "metadata": {},
   "outputs": [
    {
     "data": {
      "text/plain": [
       "<tf.Tensor: shape=(), dtype=float64, numpy=42.0>"
      ]
     },
     "execution_count": 20,
     "metadata": {},
     "output_type": "execute_result"
    }
   ],
   "source": [
    "tf.constant(2.0,dtype=tf.float64)+tf.constant(40.0,dtype=tf.float64)"
   ]
  },
  {
   "cell_type": "code",
   "execution_count": 21,
   "id": "ec87da57",
   "metadata": {},
   "outputs": [
    {
     "data": {
      "text/plain": [
       "<tf.Tensor: shape=(), dtype=float32, numpy=42.0>"
      ]
     },
     "execution_count": 21,
     "metadata": {},
     "output_type": "execute_result"
    }
   ],
   "source": [
    "t2=tf.constant(40.0,dtype=tf.float64)\n",
    "tf.constant(2.0)+tf.cast(t2,tf.float32)"
   ]
  },
  {
   "cell_type": "code",
   "execution_count": 22,
   "id": "3e05b80a",
   "metadata": {},
   "outputs": [
    {
     "data": {
      "text/plain": [
       "<tf.Tensor: shape=(2, 3), dtype=float32, numpy=\n",
       "array([[1., 2., 3.],\n",
       "       [4., 5., 6.]], dtype=float32)>"
      ]
     },
     "execution_count": 22,
     "metadata": {},
     "output_type": "execute_result"
    }
   ],
   "source": [
    "a"
   ]
  },
  {
   "cell_type": "code",
   "execution_count": 23,
   "id": "211410ff",
   "metadata": {},
   "outputs": [
    {
     "data": {
      "text/plain": [
       "<tf.Tensor: shape=(2, 3), dtype=float32, numpy=\n",
       "array([[1., 2., 3.],\n",
       "       [4., 5., 6.]], dtype=float32)>"
      ]
     },
     "execution_count": 23,
     "metadata": {},
     "output_type": "execute_result"
    }
   ],
   "source": [
    "tf.cast(a,tf.float32)"
   ]
  },
  {
   "cell_type": "code",
   "execution_count": 24,
   "id": "40aa5e8f",
   "metadata": {},
   "outputs": [
    {
     "data": {
      "text/plain": [
       "<tf.Tensor: shape=(2, 3), dtype=float64, numpy=\n",
       "array([[1., 2., 3.],\n",
       "       [4., 5., 6.]])>"
      ]
     },
     "execution_count": 24,
     "metadata": {},
     "output_type": "execute_result"
    }
   ],
   "source": [
    "tf.cast(a,tf.float64)"
   ]
  },
  {
   "cell_type": "markdown",
   "id": "0b983a4e",
   "metadata": {},
   "source": [
    "#### Variables"
   ]
  },
  {
   "cell_type": "code",
   "execution_count": 25,
   "id": "1b24305d",
   "metadata": {},
   "outputs": [
    {
     "data": {
      "text/plain": [
       "<tf.Variable 'Variable:0' shape=(2, 3) dtype=float32, numpy=\n",
       "array([[1., 2., 3.],\n",
       "       [4., 5., 6.]], dtype=float32)>"
      ]
     },
     "execution_count": 25,
     "metadata": {},
     "output_type": "execute_result"
    }
   ],
   "source": [
    "v=tf.Variable([[1.0,2.0,3.0],[4.0,5.0,6.0]])\n",
    "v"
   ]
  },
  {
   "cell_type": "code",
   "execution_count": 26,
   "id": "ba890bca",
   "metadata": {},
   "outputs": [
    {
     "data": {
      "text/plain": [
       "<tf.Variable 'UnreadVariable' shape=(2, 3) dtype=float32, numpy=\n",
       "array([[ 2.,  4.,  6.],\n",
       "       [ 8., 10., 12.]], dtype=float32)>"
      ]
     },
     "execution_count": 26,
     "metadata": {},
     "output_type": "execute_result"
    }
   ],
   "source": [
    "v.assign(2*v)"
   ]
  },
  {
   "cell_type": "code",
   "execution_count": 27,
   "id": "93cb0a7a",
   "metadata": {},
   "outputs": [
    {
     "data": {
      "text/plain": [
       "<tf.Variable 'UnreadVariable' shape=(2, 3) dtype=float32, numpy=\n",
       "array([[ 2., 42.,  6.],\n",
       "       [ 8., 10., 12.]], dtype=float32)>"
      ]
     },
     "execution_count": 27,
     "metadata": {},
     "output_type": "execute_result"
    }
   ],
   "source": [
    "v[0,1].assign(42)"
   ]
  },
  {
   "cell_type": "code",
   "execution_count": 28,
   "id": "bd44b95f",
   "metadata": {},
   "outputs": [
    {
     "data": {
      "text/plain": [
       "<tf.Variable 'UnreadVariable' shape=(2, 3) dtype=float32, numpy=\n",
       "array([[ 2., 42.,  0.],\n",
       "       [ 8., 10.,  1.]], dtype=float32)>"
      ]
     },
     "execution_count": 28,
     "metadata": {},
     "output_type": "execute_result"
    }
   ],
   "source": [
    "v[:,2].assign([0.,1.])"
   ]
  },
  {
   "cell_type": "code",
   "execution_count": 29,
   "id": "5d011ced",
   "metadata": {},
   "outputs": [
    {
     "data": {
      "text/plain": [
       "<tf.Variable 'UnreadVariable' shape=(2, 3) dtype=float32, numpy=\n",
       "array([[100.,  42.,   0.],\n",
       "       [  8.,  10., 200.]], dtype=float32)>"
      ]
     },
     "execution_count": 29,
     "metadata": {},
     "output_type": "execute_result"
    }
   ],
   "source": [
    "v.scatter_nd_update(indices=[[0,0],[1,2]],updates=[100.,200.])"
   ]
  },
  {
   "cell_type": "code",
   "execution_count": 413,
   "id": "248c169b",
   "metadata": {},
   "outputs": [],
   "source": [
    "# Huber Loss Function\n",
    "# from sklearn.datasets import fetch_california_housing\n",
    "def fetch_california_housing():\n",
    "    df=pd.read_csv('housing.csv')\n",
    "    return df\n",
    "housing = fetch_california_housing()"
   ]
  },
  {
   "cell_type": "code",
   "execution_count": 414,
   "id": "6e690bc1",
   "metadata": {},
   "outputs": [
    {
     "data": {
      "text/html": [
       "<div>\n",
       "<style scoped>\n",
       "    .dataframe tbody tr th:only-of-type {\n",
       "        vertical-align: middle;\n",
       "    }\n",
       "\n",
       "    .dataframe tbody tr th {\n",
       "        vertical-align: top;\n",
       "    }\n",
       "\n",
       "    .dataframe thead th {\n",
       "        text-align: right;\n",
       "    }\n",
       "</style>\n",
       "<table border=\"1\" class=\"dataframe\">\n",
       "  <thead>\n",
       "    <tr style=\"text-align: right;\">\n",
       "      <th></th>\n",
       "      <th>longitude</th>\n",
       "      <th>latitude</th>\n",
       "      <th>housing_median_age</th>\n",
       "      <th>total_rooms</th>\n",
       "      <th>total_bedrooms</th>\n",
       "      <th>population</th>\n",
       "      <th>households</th>\n",
       "      <th>median_income</th>\n",
       "      <th>median_house_value</th>\n",
       "      <th>ocean_proximity</th>\n",
       "    </tr>\n",
       "  </thead>\n",
       "  <tbody>\n",
       "    <tr>\n",
       "      <th>0</th>\n",
       "      <td>-122.23</td>\n",
       "      <td>37.88</td>\n",
       "      <td>41.0</td>\n",
       "      <td>880.0</td>\n",
       "      <td>129.0</td>\n",
       "      <td>322.0</td>\n",
       "      <td>126.0</td>\n",
       "      <td>8.3252</td>\n",
       "      <td>452600.0</td>\n",
       "      <td>NEAR BAY</td>\n",
       "    </tr>\n",
       "    <tr>\n",
       "      <th>1</th>\n",
       "      <td>-122.22</td>\n",
       "      <td>37.86</td>\n",
       "      <td>21.0</td>\n",
       "      <td>7099.0</td>\n",
       "      <td>1106.0</td>\n",
       "      <td>2401.0</td>\n",
       "      <td>1138.0</td>\n",
       "      <td>8.3014</td>\n",
       "      <td>358500.0</td>\n",
       "      <td>NEAR BAY</td>\n",
       "    </tr>\n",
       "    <tr>\n",
       "      <th>2</th>\n",
       "      <td>-122.24</td>\n",
       "      <td>37.85</td>\n",
       "      <td>52.0</td>\n",
       "      <td>1467.0</td>\n",
       "      <td>190.0</td>\n",
       "      <td>496.0</td>\n",
       "      <td>177.0</td>\n",
       "      <td>7.2574</td>\n",
       "      <td>352100.0</td>\n",
       "      <td>NEAR BAY</td>\n",
       "    </tr>\n",
       "    <tr>\n",
       "      <th>3</th>\n",
       "      <td>-122.25</td>\n",
       "      <td>37.85</td>\n",
       "      <td>52.0</td>\n",
       "      <td>1274.0</td>\n",
       "      <td>235.0</td>\n",
       "      <td>558.0</td>\n",
       "      <td>219.0</td>\n",
       "      <td>5.6431</td>\n",
       "      <td>341300.0</td>\n",
       "      <td>NEAR BAY</td>\n",
       "    </tr>\n",
       "    <tr>\n",
       "      <th>4</th>\n",
       "      <td>-122.25</td>\n",
       "      <td>37.85</td>\n",
       "      <td>52.0</td>\n",
       "      <td>1627.0</td>\n",
       "      <td>280.0</td>\n",
       "      <td>565.0</td>\n",
       "      <td>259.0</td>\n",
       "      <td>3.8462</td>\n",
       "      <td>342200.0</td>\n",
       "      <td>NEAR BAY</td>\n",
       "    </tr>\n",
       "  </tbody>\n",
       "</table>\n",
       "</div>"
      ],
      "text/plain": [
       "   longitude  latitude  housing_median_age  total_rooms  total_bedrooms  \\\n",
       "0    -122.23     37.88                41.0        880.0           129.0   \n",
       "1    -122.22     37.86                21.0       7099.0          1106.0   \n",
       "2    -122.24     37.85                52.0       1467.0           190.0   \n",
       "3    -122.25     37.85                52.0       1274.0           235.0   \n",
       "4    -122.25     37.85                52.0       1627.0           280.0   \n",
       "\n",
       "   population  households  median_income  median_house_value ocean_proximity  \n",
       "0       322.0       126.0         8.3252            452600.0        NEAR BAY  \n",
       "1      2401.0      1138.0         8.3014            358500.0        NEAR BAY  \n",
       "2       496.0       177.0         7.2574            352100.0        NEAR BAY  \n",
       "3       558.0       219.0         5.6431            341300.0        NEAR BAY  \n",
       "4       565.0       259.0         3.8462            342200.0        NEAR BAY  "
      ]
     },
     "execution_count": 414,
     "metadata": {},
     "output_type": "execute_result"
    }
   ],
   "source": [
    "housing.head()"
   ]
  },
  {
   "cell_type": "code",
   "execution_count": 415,
   "id": "3e29801f",
   "metadata": {},
   "outputs": [
    {
     "data": {
      "text/plain": [
       "count    20640.000000\n",
       "mean      2635.763081\n",
       "std       2181.615252\n",
       "min          2.000000\n",
       "25%       1447.750000\n",
       "50%       2127.000000\n",
       "75%       3148.000000\n",
       "max      39320.000000\n",
       "Name: total_rooms, dtype: float64"
      ]
     },
     "execution_count": 415,
     "metadata": {},
     "output_type": "execute_result"
    }
   ],
   "source": [
    "housing['total_rooms'].describe()"
   ]
  },
  {
   "cell_type": "code",
   "execution_count": 416,
   "id": "5075bb50",
   "metadata": {},
   "outputs": [
    {
     "data": {
      "image/png": "[encoded data removed]",
      "text/plain": [
       "<Figure size 432x288 with 1 Axes>"
      ]
     },
     "metadata": {
      "needs_background": "light"
     },
     "output_type": "display_data"
    }
   ],
   "source": [
    "import matplotlib.pyplot as plt\n",
    "import seaborn as sns\n",
    "plt.figure()\n",
    "sns.histplot(data = housing['total_rooms'], kde = True)\n",
    "plt.show()"
   ]
  },
  {
   "cell_type": "code",
   "execution_count": 417,
   "id": "5f4d6617",
   "metadata": {},
   "outputs": [],
   "source": [
    "housing['total_rooms'].fillna(housing['total_rooms'].mean(),inplace=True)\n",
    "housing['bedroom/room']=housing['total_bedrooms']/housing['total_rooms']"
   ]
  },
  {
   "cell_type": "code",
   "execution_count": 418,
   "id": "80aa4486",
   "metadata": {},
   "outputs": [
    {
     "data": {
      "image/png": "[encoded data removed]",
      "text/plain": [
       "<Figure size 432x288 with 1 Axes>"
      ]
     },
     "metadata": {
      "needs_background": "light"
     },
     "output_type": "display_data"
    }
   ],
   "source": [
    "sns.histplot(data=housing['bedroom/room'],kde=True)\n",
    "plt.show()"
   ]
  },
  {
   "cell_type": "code",
   "execution_count": 419,
   "id": "cfb49429",
   "metadata": {},
   "outputs": [
    {
     "data": {
      "text/plain": [
       "longitude             0.000000\n",
       "latitude              0.000000\n",
       "housing_median_age    0.000000\n",
       "total_rooms           0.000000\n",
       "total_bedrooms        1.002907\n",
       "population            0.000000\n",
       "households            0.000000\n",
       "median_income         0.000000\n",
       "median_house_value    0.000000\n",
       "ocean_proximity       0.000000\n",
       "bedroom/room          1.002907\n",
       "dtype: float64"
      ]
     },
     "execution_count": 419,
     "metadata": {},
     "output_type": "execute_result"
    }
   ],
   "source": [
    "housing.isnull().sum()*100/len(housing.index)"
   ]
  },
  {
   "cell_type": "code",
   "execution_count": 420,
   "id": "eb166df8",
   "metadata": {},
   "outputs": [
    {
     "data": {
      "text/plain": [
       "array(['NEAR BAY', '<1H OCEAN', 'INLAND', 'NEAR OCEAN', 'ISLAND'],\n",
       "      dtype=object)"
      ]
     },
     "execution_count": 420,
     "metadata": {},
     "output_type": "execute_result"
    }
   ],
   "source": [
    "#categorical column\n",
    "housing['ocean_proximity'].unique()"
   ]
  },
  {
   "cell_type": "code",
   "execution_count": 421,
   "id": "1da41feb",
   "metadata": {},
   "outputs": [
    {
     "name": "stdout",
     "output_type": "stream",
     "text": [
      "(20640, 4)\n",
      "(20640, 11)\n",
      "(20640, 14)\n"
     ]
    }
   ],
   "source": [
    "housing_oc_proximity=pd.get_dummies(housing['ocean_proximity'],drop_first=True)\n",
    "print(housing_oc_proximity.shape)\n",
    "housing_oc_proximity.head(2)\n",
    "print(housing.shape)\n",
    "housing=pd.concat([housing,housing_oc_proximity],axis=1)\n",
    "housing.drop('ocean_proximity',axis=1,inplace=True)\n",
    "print(housing.shape)"
   ]
  },
  {
   "cell_type": "code",
   "execution_count": 422,
   "id": "607d345e",
   "metadata": {},
   "outputs": [
    {
     "data": {
      "text/html": [
       "<div>\n",
       "<style scoped>\n",
       "    .dataframe tbody tr th:only-of-type {\n",
       "        vertical-align: middle;\n",
       "    }\n",
       "\n",
       "    .dataframe tbody tr th {\n",
       "        vertical-align: top;\n",
       "    }\n",
       "\n",
       "    .dataframe thead th {\n",
       "        text-align: right;\n",
       "    }\n",
       "</style>\n",
       "<table border=\"1\" class=\"dataframe\">\n",
       "  <thead>\n",
       "    <tr style=\"text-align: right;\">\n",
       "      <th></th>\n",
       "      <th>INLAND</th>\n",
       "      <th>ISLAND</th>\n",
       "      <th>NEAR BAY</th>\n",
       "      <th>NEAR OCEAN</th>\n",
       "    </tr>\n",
       "  </thead>\n",
       "  <tbody>\n",
       "    <tr>\n",
       "      <th>0</th>\n",
       "      <td>0</td>\n",
       "      <td>0</td>\n",
       "      <td>1</td>\n",
       "      <td>0</td>\n",
       "    </tr>\n",
       "    <tr>\n",
       "      <th>1</th>\n",
       "      <td>0</td>\n",
       "      <td>0</td>\n",
       "      <td>1</td>\n",
       "      <td>0</td>\n",
       "    </tr>\n",
       "  </tbody>\n",
       "</table>\n",
       "</div>"
      ],
      "text/plain": [
       "   INLAND  ISLAND  NEAR BAY  NEAR OCEAN\n",
       "0       0       0         1           0\n",
       "1       0       0         1           0"
      ]
     },
     "execution_count": 422,
     "metadata": {},
     "output_type": "execute_result"
    }
   ],
   "source": [
    "housing_oc_proximity.head(2)"
   ]
  },
  {
   "cell_type": "code",
   "execution_count": 423,
   "id": "269df2c5",
   "metadata": {},
   "outputs": [
    {
     "data": {
      "image/png": "[encoded data removed]",
      "text/plain": [
       "<Figure size 432x288 with 1 Axes>"
      ]
     },
     "metadata": {
      "needs_background": "light"
     },
     "output_type": "display_data"
    }
   ],
   "source": [
    "plt.figure()\n",
    "plt.scatter(x=housing['latitude'],y=housing['longitude'])\n",
    "plt.show()"
   ]
  },
  {
   "cell_type": "code",
   "execution_count": 424,
   "id": "7d336f63",
   "metadata": {},
   "outputs": [
    {
     "name": "stdout",
     "output_type": "stream",
     "text": [
      "<class 'numpy.float64'>\n",
      "<class 'numpy.float32'>\n"
     ]
    }
   ],
   "source": [
    "print(type(housing['latitude'][0]))\n",
    "housing['latitude']=housing['latitude'].astype('float32')\n",
    "print(type(housing['latitude'][0]))"
   ]
  },
  {
   "cell_type": "code",
   "execution_count": 425,
   "id": "69bbe3d4",
   "metadata": {},
   "outputs": [
    {
     "data": {
      "text/plain": [
       "[20, 30]"
      ]
     },
     "execution_count": 425,
     "metadata": {},
     "output_type": "execute_result"
    }
   ],
   "source": [
    "a=[10,20,30]\n",
    "a.remove(10)\n",
    "a"
   ]
  },
  {
   "cell_type": "code",
   "execution_count": 427,
   "id": "5e1b200e",
   "metadata": {},
   "outputs": [
    {
     "name": "stdout",
     "output_type": "stream",
     "text": [
      "14\n",
      "12\n"
     ]
    },
    {
     "name": "stderr",
     "output_type": "stream",
     "text": [
      "C:\\Users\\ShefaliGupta\\AppData\\Local\\Temp\\ipykernel_26340\\3399558468.py:7: UserWarning: Pandas doesn't allow columns to be created via a new attribute name - see https://pandas.pydata.org/pandas-docs/stable/indexing.html#attribute-access\n",
      "  housing.data=housing[housing_cols]\n"
     ]
    }
   ],
   "source": [
    "housing_cols=list(housing.columns)\n",
    "print(len(housing_cols))\n",
    "housing.target=housing.median_income\n",
    "housing_cols.remove('median_income')\n",
    "housing_cols.remove('total_bedrooms')\n",
    "print(len(housing_cols))\n",
    "housing.data=housing[housing_cols]"
   ]
  },
  {
   "cell_type": "code",
   "execution_count": 428,
   "id": "720e8d73",
   "metadata": {},
   "outputs": [],
   "source": [
    "from sklearn.model_selection import train_test_split\n",
    "\n",
    "x_train, x_test, y_train, y_test = train_test_split(housing.data, housing.target, test_size=0.33, random_state=42)"
   ]
  },
  {
   "cell_type": "code",
   "execution_count": 429,
   "id": "1e7dd56e",
   "metadata": {},
   "outputs": [
    {
     "name": "stdout",
     "output_type": "stream",
     "text": [
      "(13828, 12) (6812, 12)\n",
      "(13828,) (6812,)\n"
     ]
    }
   ],
   "source": [
    "print(x_train.shape,x_test.shape)\n",
    "print(y_train.shape,y_test.shape)"
   ]
  },
  {
   "cell_type": "code",
   "execution_count": 433,
   "id": "3e75049b",
   "metadata": {},
   "outputs": [],
   "source": [
    "num_cols=['longitude','latitude','housing_median_age','total_rooms','population','households','median_house_value']\n",
    "cat_cols=['INLAND','ISLAND','NEAR BAY','NEAR OCEAN']"
   ]
  },
  {
   "cell_type": "code",
   "execution_count": 434,
   "id": "b029a8cf",
   "metadata": {},
   "outputs": [
    {
     "data": {
      "text/plain": [
       "pandas.core.series.Series"
      ]
     },
     "execution_count": 434,
     "metadata": {},
     "output_type": "execute_result"
    }
   ],
   "source": [
    "type(y_train)"
   ]
  },
  {
   "cell_type": "code",
   "execution_count": 435,
   "id": "9c12ab51",
   "metadata": {},
   "outputs": [
    {
     "name": "stdout",
     "output_type": "stream",
     "text": [
      "(13828, 7) (6812, 7)\n",
      "(13828, 1) (6812, 1)\n"
     ]
    }
   ],
   "source": [
    "from sklearn.preprocessing import StandardScaler\n",
    "scaler=StandardScaler()\n",
    "x_train_num=scaler.fit_transform(x_train[num_cols])\n",
    "y_train=scaler.fit_transform(y_train.values.reshape(-1,1))\n",
    "x_test_num=scaler.fit_transform(x_test[num_cols])\n",
    "y_test=scaler.fit_transform(y_test.values.reshape(-1,1))\n",
    "\n",
    "print(x_train_num.shape,x_test_num.shape)\n",
    "print(y_train.shape,y_test.shape)"
   ]
  },
  {
   "cell_type": "code",
   "execution_count": 436,
   "id": "37adb4e2",
   "metadata": {},
   "outputs": [],
   "source": [
    "x_train_num=pd.DataFrame(x_train_num,columns=num_cols)\n",
    "x_test_num=pd.DataFrame(x_test_num,columns=num_cols)"
   ]
  },
  {
   "cell_type": "code",
   "execution_count": 437,
   "id": "848bff2f",
   "metadata": {},
   "outputs": [],
   "source": [
    "x_train_cat=x_train[cat_cols].reset_index()\n",
    "x_test_cat=x_test[cat_cols].reset_index()\n",
    "x_train_cat.drop('index',axis=1,inplace=True)\n",
    "x_test_cat.drop('index',axis=1,inplace=True)"
   ]
  },
  {
   "cell_type": "code",
   "execution_count": 438,
   "id": "932a56e7",
   "metadata": {},
   "outputs": [
    {
     "name": "stdout",
     "output_type": "stream",
     "text": [
      "(13828, 11) (6812, 11)\n",
      "(13828, 1) (6812, 1)\n"
     ]
    }
   ],
   "source": [
    "x_train=pd.concat([x_train_num,x_train_cat],axis=1)\n",
    "x_test=pd.concat([x_test_num,x_test_cat],axis=1)\n",
    "\n",
    "print(x_train.shape,x_test.shape)\n",
    "print(y_train.shape,y_test.shape)"
   ]
  },
  {
   "cell_type": "code",
   "execution_count": 439,
   "id": "5e72eff0",
   "metadata": {},
   "outputs": [],
   "source": [
    "from functools import partial\n",
    "RegularizedDense=partial(keras.layers.Dense,activation=\"relu\",\n",
    "                        kernel_initializer=\"he_normal\",\n",
    "                        kernel_regularizer=keras.regularizers.l2(0.01))"
   ]
  },
  {
   "cell_type": "code",
   "execution_count": 440,
   "id": "9ed18618",
   "metadata": {},
   "outputs": [],
   "source": [
    "model1=keras.models.Sequential([RegularizedDense(30),\n",
    "                              RegularizedDense(10),\n",
    "                              RegularizedDense(1,kernel_initializer=\"glorot_uniform\")])"
   ]
  },
  {
   "cell_type": "code",
   "execution_count": 441,
   "id": "9568979c",
   "metadata": {},
   "outputs": [],
   "source": [
    "model1.compile(loss=\"mean_squared_error\",optimizer=\"sgd\")"
   ]
  },
  {
   "cell_type": "code",
   "execution_count": 442,
   "id": "61df880c",
   "metadata": {},
   "outputs": [
    {
     "name": "stdout",
     "output_type": "stream",
     "text": [
      "Epoch 1/50\n",
      "433/433 [==============================] - 3s 3ms/step - loss: 1.2876\n",
      "Epoch 2/50\n",
      "433/433 [==============================] - 1s 3ms/step - loss: 1.1306\n",
      "Epoch 3/50\n",
      "433/433 [==============================] - 1s 3ms/step - loss: 1.0312\n",
      "Epoch 4/50\n",
      "433/433 [==============================] - 1s 3ms/step - loss: 0.9547\n",
      "Epoch 5/50\n",
      "433/433 [==============================] - 1s 3ms/step - loss: 0.8935\n",
      "Epoch 6/50\n",
      "433/433 [==============================] - 1s 3ms/step - loss: 0.8434\n",
      "Epoch 7/50\n",
      "433/433 [==============================] - 1s 3ms/step - loss: 0.8010\n",
      "Epoch 8/50\n",
      "433/433 [==============================] - 1s 3ms/step - loss: 0.7670\n",
      "Epoch 9/50\n",
      "433/433 [==============================] - 1s 3ms/step - loss: 0.7385\n",
      "Epoch 10/50\n",
      "433/433 [==============================] - 1s 3ms/step - loss: 0.7154\n",
      "Epoch 11/50\n",
      "433/433 [==============================] - 1s 3ms/step - loss: 0.6940\n",
      "Epoch 12/50\n",
      "433/433 [==============================] - 1s 3ms/step - loss: 0.6777\n",
      "Epoch 13/50\n",
      "433/433 [==============================] - 1s 3ms/step - loss: 0.6644\n",
      "Epoch 14/50\n",
      "433/433 [==============================] - 1s 3ms/step - loss: 0.6523\n",
      "Epoch 15/50\n",
      "433/433 [==============================] - 1s 3ms/step - loss: 0.6424\n",
      "Epoch 16/50\n",
      "433/433 [==============================] - 1s 3ms/step - loss: 0.6355\n",
      "Epoch 17/50\n",
      "433/433 [==============================] - 1s 3ms/step - loss: 0.6289\n",
      "Epoch 18/50\n",
      "433/433 [==============================] - 1s 2ms/step - loss: 0.6225\n",
      "Epoch 19/50\n",
      "433/433 [==============================] - 1s 2ms/step - loss: 0.6173\n",
      "Epoch 20/50\n",
      "433/433 [==============================] - 1s 2ms/step - loss: 0.6135\n",
      "Epoch 21/50\n",
      "433/433 [==============================] - 1s 2ms/step - loss: 0.6109\n",
      "Epoch 22/50\n",
      "433/433 [==============================] - 1s 2ms/step - loss: 0.6078\n",
      "Epoch 23/50\n",
      "433/433 [==============================] - 1s 2ms/step - loss: 0.6049\n",
      "Epoch 24/50\n",
      "433/433 [==============================] - 1s 2ms/step - loss: 0.6034\n",
      "Epoch 25/50\n",
      "433/433 [==============================] - 1s 2ms/step - loss: 0.6012\n",
      "Epoch 26/50\n",
      "433/433 [==============================] - 1s 2ms/step - loss: 0.6003\n",
      "Epoch 27/50\n",
      "433/433 [==============================] - 1s 2ms/step - loss: 0.5985\n",
      "Epoch 28/50\n",
      "433/433 [==============================] - 1s 2ms/step - loss: 0.5970\n",
      "Epoch 29/50\n",
      "433/433 [==============================] - 1s 2ms/step - loss: 0.5962\n",
      "Epoch 30/50\n",
      "433/433 [==============================] - 1s 2ms/step - loss: 0.5950\n",
      "Epoch 31/50\n",
      "433/433 [==============================] - 1s 2ms/step - loss: 0.5946\n",
      "Epoch 32/50\n",
      "433/433 [==============================] - 1s 2ms/step - loss: 0.5942\n",
      "Epoch 33/50\n",
      "433/433 [==============================] - 1s 2ms/step - loss: 0.5939\n",
      "Epoch 34/50\n",
      "433/433 [==============================] - 1s 2ms/step - loss: 0.5940\n",
      "Epoch 35/50\n",
      "433/433 [==============================] - 1s 2ms/step - loss: 0.5931\n",
      "Epoch 36/50\n",
      "433/433 [==============================] - 1s 2ms/step - loss: 0.5928\n",
      "Epoch 37/50\n",
      "433/433 [==============================] - 1s 2ms/step - loss: 0.5929\n",
      "Epoch 38/50\n",
      "433/433 [==============================] - 1s 2ms/step - loss: 0.5922\n",
      "Epoch 39/50\n",
      "433/433 [==============================] - 1s 2ms/step - loss: 0.5917\n",
      "Epoch 40/50\n",
      "433/433 [==============================] - 1s 2ms/step - loss: 0.5898\n",
      "Epoch 41/50\n",
      "433/433 [==============================] - 1s 2ms/step - loss: 0.5918\n",
      "Epoch 42/50\n",
      "433/433 [==============================] - 1s 2ms/step - loss: 0.5905\n",
      "Epoch 43/50\n",
      "433/433 [==============================] - 1s 2ms/step - loss: 0.5909\n",
      "Epoch 44/50\n",
      "433/433 [==============================] - 1s 2ms/step - loss: 0.5910\n",
      "Epoch 45/50\n",
      "433/433 [==============================] - 1s 2ms/step - loss: 0.5911\n",
      "Epoch 46/50\n",
      "433/433 [==============================] - 1s 2ms/step - loss: 0.5903\n",
      "Epoch 47/50\n",
      "433/433 [==============================] - 1s 2ms/step - loss: 0.5903\n",
      "Epoch 48/50\n",
      "433/433 [==============================] - 1s 2ms/step - loss: 0.5903\n",
      "Epoch 49/50\n",
      "433/433 [==============================] - 1s 2ms/step - loss: 0.5904\n",
      "Epoch 50/50\n",
      "433/433 [==============================] - 1s 2ms/step - loss: 0.5904\n"
     ]
    }
   ],
   "source": [
    "history1=model1.fit(x_train,y_train,epochs=50)"
   ]
  },
  {
   "cell_type": "code",
   "execution_count": 443,
   "id": "7a602947",
   "metadata": {},
   "outputs": [
    {
     "data": {
      "text/plain": [
       "<AxesSubplot:>"
      ]
     },
     "execution_count": 443,
     "metadata": {},
     "output_type": "execute_result"
    },
    {
     "data": {
      "image/png": "[encoded data removed]",
      "text/plain": [
       "<Figure size 432x288 with 1 Axes>"
      ]
     },
     "metadata": {
      "needs_background": "light"
     },
     "output_type": "display_data"
    }
   ],
   "source": [
    "df1=pd.DataFrame(history1.history)\n",
    "df1.plot()"
   ]
  },
  {
   "cell_type": "code",
   "execution_count": 444,
   "id": "f9f9f486",
   "metadata": {},
   "outputs": [
    {
     "name": "stdout",
     "output_type": "stream",
     "text": [
      "213/213 [==============================] - 0s 1ms/step\n"
     ]
    }
   ],
   "source": [
    "y_pred=model1.predict(x_test)"
   ]
  },
  {
   "cell_type": "code",
   "execution_count": 473,
   "id": "d184bdb5",
   "metadata": {},
   "outputs": [],
   "source": [
    "y_pred=y_pred.flatten()"
   ]
  },
  {
   "cell_type": "code",
   "execution_count": 474,
   "id": "06450a41",
   "metadata": {},
   "outputs": [
    {
     "data": {
      "text/plain": [
       "numpy.ndarray"
      ]
     },
     "execution_count": 474,
     "metadata": {},
     "output_type": "execute_result"
    }
   ],
   "source": [
    "type(y_pred)"
   ]
  },
  {
   "cell_type": "code",
   "execution_count": 475,
   "id": "91fb3c36",
   "metadata": {},
   "outputs": [],
   "source": [
    "y_test=y_test.flatten()"
   ]
  },
  {
   "cell_type": "code",
   "execution_count": 476,
   "id": "d4e573aa",
   "metadata": {},
   "outputs": [
    {
     "data": {
      "text/plain": [
       "numpy.ndarray"
      ]
     },
     "execution_count": 476,
     "metadata": {},
     "output_type": "execute_result"
    }
   ],
   "source": [
    "type(y_test)"
   ]
  },
  {
   "cell_type": "code",
   "execution_count": 479,
   "id": "4007e428",
   "metadata": {},
   "outputs": [],
   "source": [
    "def huber_fn(y_true,y_pred):\n",
    "    error=y_true-y_pred\n",
    "    is_small_error=tf.abs(error)<1\n",
    "    squared_loss=tf.square(error)/2\n",
    "    linear_loss=tf.abs(error)-0.5\n",
    "    return tf.where(is_small_error,squared_loss,linear_loss)"
   ]
  },
  {
   "cell_type": "code",
   "execution_count": 480,
   "id": "f8526af8",
   "metadata": {},
   "outputs": [
    {
     "name": "stdout",
     "output_type": "stream",
     "text": [
      "tf.Tensor([0.65004883 0.24569591 0.01996021 ... 0.0033238  0.0011619  0.17352682], shape=(6812,), dtype=float64)\n"
     ]
    }
   ],
   "source": [
    "print(huber_fn(y_test,y_pred))"
   ]
  },
  {
   "cell_type": "code",
   "execution_count": 489,
   "id": "c08ab4ff",
   "metadata": {},
   "outputs": [],
   "source": [
    "# check function\n",
    "# error=pd.DataFrame({'y_true':y_test,'y_predicted':y_pred})\n",
    "# error['error']=error['y_true']-error['y_predicted']\n",
    "# error['is_small_error']=error['error'].apply(lambda x:True if tf.abs(x)<1 else False)\n",
    "# error['squared_loss']=error['error'].apply(lambda x:np.square(x)/2)\n",
    "# error['linear_loss']=error['error'].apply(lambda x:(np.abs(x)-0.5))\n",
    "# error['final_error']=error[['is_small_error','squared_loss','linear_loss']].apply(lambda x:tf.where(*x),axis=1)\n",
    "# error"
   ]
  },
  {
   "cell_type": "code",
   "execution_count": 490,
   "id": "862086d8",
   "metadata": {},
   "outputs": [],
   "source": [
    "model1.compile(loss=huber_fn,optimizer=\"sgd\")"
   ]
  },
  {
   "cell_type": "code",
   "execution_count": 491,
   "id": "f10ce26c",
   "metadata": {},
   "outputs": [
    {
     "name": "stdout",
     "output_type": "stream",
     "text": [
      "Epoch 1/50\n",
      "433/433 [==============================] - 2s 2ms/step - loss: 0.3053\n",
      "Epoch 2/50\n",
      "433/433 [==============================] - 1s 2ms/step - loss: 0.3023\n",
      "Epoch 3/50\n",
      "433/433 [==============================] - 1s 2ms/step - loss: 0.3005\n",
      "Epoch 4/50\n",
      "433/433 [==============================] - 1s 2ms/step - loss: 0.2991\n",
      "Epoch 5/50\n",
      "433/433 [==============================] - 1s 2ms/step - loss: 0.2982\n",
      "Epoch 6/50\n",
      "433/433 [==============================] - 1s 2ms/step - loss: 0.2975\n",
      "Epoch 7/50\n",
      "433/433 [==============================] - 1s 2ms/step - loss: 0.2970\n",
      "Epoch 8/50\n",
      "433/433 [==============================] - 1s 2ms/step - loss: 0.2965\n",
      "Epoch 9/50\n",
      "433/433 [==============================] - 1s 2ms/step - loss: 0.2961\n",
      "Epoch 10/50\n",
      "433/433 [==============================] - 1s 2ms/step - loss: 0.2959\n",
      "Epoch 11/50\n",
      "433/433 [==============================] - 1s 2ms/step - loss: 0.2956\n",
      "Epoch 12/50\n",
      "433/433 [==============================] - 1s 2ms/step - loss: 0.2954\n",
      "Epoch 13/50\n",
      "433/433 [==============================] - 1s 2ms/step - loss: 0.2953\n",
      "Epoch 14/50\n",
      "433/433 [==============================] - 1s 2ms/step - loss: 0.2951\n",
      "Epoch 15/50\n",
      "433/433 [==============================] - 1s 2ms/step - loss: 0.2950\n",
      "Epoch 16/50\n",
      "433/433 [==============================] - 1s 2ms/step - loss: 0.2949\n",
      "Epoch 17/50\n",
      "433/433 [==============================] - 1s 2ms/step - loss: 0.2948\n",
      "Epoch 18/50\n",
      "433/433 [==============================] - 1s 2ms/step - loss: 0.2947\n",
      "Epoch 19/50\n",
      "433/433 [==============================] - 1s 2ms/step - loss: 0.2946\n",
      "Epoch 20/50\n",
      "433/433 [==============================] - 1s 2ms/step - loss: 0.2945\n",
      "Epoch 21/50\n",
      "433/433 [==============================] - 1s 2ms/step - loss: 0.2944\n",
      "Epoch 22/50\n",
      "433/433 [==============================] - 1s 2ms/step - loss: 0.2944\n",
      "Epoch 23/50\n",
      "433/433 [==============================] - 1s 2ms/step - loss: 0.2943\n",
      "Epoch 24/50\n",
      "433/433 [==============================] - 1s 2ms/step - loss: 0.2943\n",
      "Epoch 25/50\n",
      "433/433 [==============================] - 1s 2ms/step - loss: 0.2942\n",
      "Epoch 26/50\n",
      "433/433 [==============================] - 1s 2ms/step - loss: 0.2941\n",
      "Epoch 27/50\n",
      "433/433 [==============================] - 1s 2ms/step - loss: 0.2940\n",
      "Epoch 28/50\n",
      "433/433 [==============================] - 1s 2ms/step - loss: 0.2940\n",
      "Epoch 29/50\n",
      "433/433 [==============================] - 1s 2ms/step - loss: 0.2940\n",
      "Epoch 30/50\n",
      "433/433 [==============================] - 1s 2ms/step - loss: 0.2939\n",
      "Epoch 31/50\n",
      "433/433 [==============================] - 1s 2ms/step - loss: 0.2939\n",
      "Epoch 32/50\n",
      "433/433 [==============================] - 1s 2ms/step - loss: 0.2939\n",
      "Epoch 33/50\n",
      "433/433 [==============================] - 1s 2ms/step - loss: 0.2940\n",
      "Epoch 34/50\n",
      "433/433 [==============================] - 1s 2ms/step - loss: 0.2938\n",
      "Epoch 35/50\n",
      "433/433 [==============================] - 1s 2ms/step - loss: 0.2938\n",
      "Epoch 36/50\n",
      "433/433 [==============================] - 1s 2ms/step - loss: 0.2938\n",
      "Epoch 37/50\n",
      "433/433 [==============================] - 1s 2ms/step - loss: 0.2938\n",
      "Epoch 38/50\n",
      "433/433 [==============================] - 1s 2ms/step - loss: 0.2937\n",
      "Epoch 39/50\n",
      "433/433 [==============================] - 1s 2ms/step - loss: 0.2938\n",
      "Epoch 40/50\n",
      "433/433 [==============================] - 1s 2ms/step - loss: 0.2938\n",
      "Epoch 41/50\n",
      "433/433 [==============================] - 1s 2ms/step - loss: 0.2936\n",
      "Epoch 42/50\n",
      "433/433 [==============================] - 1s 2ms/step - loss: 0.2936\n",
      "Epoch 43/50\n",
      "433/433 [==============================] - 1s 2ms/step - loss: 0.2937\n",
      "Epoch 44/50\n",
      "433/433 [==============================] - 1s 2ms/step - loss: 0.2937\n",
      "Epoch 45/50\n",
      "433/433 [==============================] - 1s 2ms/step - loss: 0.2937\n",
      "Epoch 46/50\n",
      "433/433 [==============================] - 1s 2ms/step - loss: 0.2937\n",
      "Epoch 47/50\n",
      "433/433 [==============================] - 1s 2ms/step - loss: 0.2936\n",
      "Epoch 48/50\n",
      "433/433 [==============================] - 1s 2ms/step - loss: 0.2936\n",
      "Epoch 49/50\n",
      "433/433 [==============================] - 1s 2ms/step - loss: 0.2935\n",
      "Epoch 50/50\n",
      "433/433 [==============================] - 1s 2ms/step - loss: 0.2936\n"
     ]
    },
    {
     "data": {
      "text/plain": [
       "<keras.callbacks.History at 0x243c6f5edf0>"
      ]
     },
     "execution_count": 491,
     "metadata": {},
     "output_type": "execute_result"
    }
   ],
   "source": [
    "model1.fit(x_train,y_train,epochs=50)"
   ]
  },
  {
   "cell_type": "code",
   "execution_count": 492,
   "id": "1b077394",
   "metadata": {},
   "outputs": [
    {
     "name": "stdout",
     "output_type": "stream",
     "text": [
      "Epoch 1/50\n",
      "433/433 [==============================] - 1s 2ms/step - loss: 1.1529\n",
      "Epoch 2/50\n",
      "433/433 [==============================] - 1s 2ms/step - loss: 1.0140\n",
      "Epoch 3/50\n",
      "433/433 [==============================] - 1s 2ms/step - loss: 0.8638\n",
      "Epoch 4/50\n",
      "433/433 [==============================] - 1s 2ms/step - loss: 0.7581\n",
      "Epoch 5/50\n",
      "433/433 [==============================] - 1s 2ms/step - loss: 0.6821\n",
      "Epoch 6/50\n",
      "433/433 [==============================] - 1s 2ms/step - loss: 0.6192\n",
      "Epoch 7/50\n",
      "433/433 [==============================] - 1s 2ms/step - loss: 0.5668\n",
      "Epoch 8/50\n",
      "433/433 [==============================] - 1s 2ms/step - loss: 0.5231\n",
      "Epoch 9/50\n",
      "433/433 [==============================] - 1s 2ms/step - loss: 0.4864\n",
      "Epoch 10/50\n",
      "433/433 [==============================] - 1s 2ms/step - loss: 0.4555\n",
      "Epoch 11/50\n",
      "433/433 [==============================] - 1s 2ms/step - loss: 0.4295\n",
      "Epoch 12/50\n",
      "433/433 [==============================] - 1s 2ms/step - loss: 0.4076\n",
      "Epoch 13/50\n",
      "433/433 [==============================] - 1s 2ms/step - loss: 0.3895\n",
      "Epoch 14/50\n",
      "433/433 [==============================] - 1s 2ms/step - loss: 0.3740\n",
      "Epoch 15/50\n",
      "433/433 [==============================] - 1s 2ms/step - loss: 0.3610\n",
      "Epoch 16/50\n",
      "433/433 [==============================] - 1s 2ms/step - loss: 0.3500\n",
      "Epoch 17/50\n",
      "433/433 [==============================] - 1s 2ms/step - loss: 0.3406\n",
      "Epoch 18/50\n",
      "433/433 [==============================] - 1s 2ms/step - loss: 0.3330\n",
      "Epoch 19/50\n",
      "433/433 [==============================] - 1s 2ms/step - loss: 0.3265\n",
      "Epoch 20/50\n",
      "433/433 [==============================] - 1s 2ms/step - loss: 0.3212\n",
      "Epoch 21/50\n",
      "433/433 [==============================] - 1s 2ms/step - loss: 0.3168\n",
      "Epoch 22/50\n",
      "433/433 [==============================] - 1s 2ms/step - loss: 0.3130\n",
      "Epoch 23/50\n",
      "433/433 [==============================] - 1s 2ms/step - loss: 0.3099\n",
      "Epoch 24/50\n",
      "433/433 [==============================] - 1s 2ms/step - loss: 0.3071\n",
      "Epoch 25/50\n",
      "433/433 [==============================] - 1s 2ms/step - loss: 0.3050\n",
      "Epoch 26/50\n",
      "433/433 [==============================] - 1s 2ms/step - loss: 0.3031\n",
      "Epoch 27/50\n",
      "433/433 [==============================] - 1s 2ms/step - loss: 0.3016\n",
      "Epoch 28/50\n",
      "433/433 [==============================] - 1s 2ms/step - loss: 0.3002\n",
      "Epoch 29/50\n",
      "433/433 [==============================] - 1s 2ms/step - loss: 0.2992\n",
      "Epoch 30/50\n",
      "433/433 [==============================] - 1s 2ms/step - loss: 0.2983\n",
      "Epoch 31/50\n",
      "433/433 [==============================] - 1s 2ms/step - loss: 0.2976\n",
      "Epoch 32/50\n",
      "433/433 [==============================] - 1s 2ms/step - loss: 0.2970\n",
      "Epoch 33/50\n",
      "433/433 [==============================] - 1s 2ms/step - loss: 0.2963\n",
      "Epoch 34/50\n",
      "433/433 [==============================] - 1s 2ms/step - loss: 0.2960\n",
      "Epoch 35/50\n",
      "433/433 [==============================] - 1s 2ms/step - loss: 0.2956\n",
      "Epoch 36/50\n",
      "433/433 [==============================] - 1s 2ms/step - loss: 0.2954\n",
      "Epoch 37/50\n",
      "433/433 [==============================] - 1s 2ms/step - loss: 0.2950\n",
      "Epoch 38/50\n",
      "433/433 [==============================] - 1s 2ms/step - loss: 0.2948\n",
      "Epoch 39/50\n",
      "433/433 [==============================] - 1s 2ms/step - loss: 0.2946\n",
      "Epoch 40/50\n",
      "433/433 [==============================] - 1s 2ms/step - loss: 0.2945\n",
      "Epoch 41/50\n",
      "433/433 [==============================] - 1s 2ms/step - loss: 0.2944\n",
      "Epoch 42/50\n",
      "433/433 [==============================] - 1s 2ms/step - loss: 0.2943\n",
      "Epoch 43/50\n",
      "433/433 [==============================] - 1s 2ms/step - loss: 0.2941\n",
      "Epoch 44/50\n",
      "433/433 [==============================] - 1s 2ms/step - loss: 0.2939\n",
      "Epoch 45/50\n",
      "433/433 [==============================] - 1s 2ms/step - loss: 0.2940\n",
      "Epoch 46/50\n",
      "433/433 [==============================] - 1s 2ms/step - loss: 0.2939\n",
      "Epoch 47/50\n",
      "433/433 [==============================] - 1s 2ms/step - loss: 0.2939\n",
      "Epoch 48/50\n",
      "433/433 [==============================] - 1s 2ms/step - loss: 0.2938\n",
      "Epoch 49/50\n",
      "433/433 [==============================] - 1s 2ms/step - loss: 0.2938\n",
      "Epoch 50/50\n",
      "433/433 [==============================] - 1s 2ms/step - loss: 0.2937\n"
     ]
    },
    {
     "data": {
      "text/plain": [
       "<keras.callbacks.History at 0x243ca519880>"
      ]
     },
     "execution_count": 492,
     "metadata": {},
     "output_type": "execute_result"
    }
   ],
   "source": [
    "model2=keras.models.Sequential([RegularizedDense(30),\n",
    "                              RegularizedDense(10),\n",
    "                              RegularizedDense(1,kernel_initializer=\"glorot_uniform\")])\n",
    "\n",
    "model2.compile(loss=huber_fn,optimizer=\"sgd\")\n",
    "model2.fit(x_train,y_train,epochs=50)"
   ]
  },
  {
   "cell_type": "code",
   "execution_count": null,
   "id": "2a485521",
   "metadata": {},
   "outputs": [],
   "source": []
  }
 ],
 "metadata": {
  "kernelspec": {
   "display_name": "Python 3",
   "language": "python",
   "name": "python3"
  },
  "language_info": {
   "codemirror_mode": {
    "name": "ipython",
    "version": 3
   },
   "file_extension": ".py",
   "mimetype": "text/x-python",
   "name": "python",
   "nbconvert_exporter": "python",
   "pygments_lexer": "ipython3",
   "version": "3.9.12"
  }
 },
 "nbformat": 4,
 "nbformat_minor": 5
}
