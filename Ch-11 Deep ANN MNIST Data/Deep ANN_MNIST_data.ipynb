{
 "cells": [
  {
   "cell_type": "code",
   "execution_count": 1,
   "id": "1759fd66",
   "metadata": {},
   "outputs": [],
   "source": [
    "import pandas as pd\n",
    "import numpy as np\n",
    "import matplotlib.pyplot as plt\n",
    "import tensorflow as tf\n",
    "from tensorflow import keras"
   ]
  },
  {
   "cell_type": "code",
   "execution_count": 2,
   "id": "c822718d",
   "metadata": {},
   "outputs": [],
   "source": [
    "from keras.datasets import fashion_mnist"
   ]
  },
  {
   "cell_type": "code",
   "execution_count": 3,
   "id": "4bfe4c8f",
   "metadata": {},
   "outputs": [],
   "source": [
    "(x_train_full, y_train_full), (x_test, y_test) = fashion_mnist.load_data()"
   ]
  },
  {
   "cell_type": "code",
   "execution_count": 4,
   "id": "d519aac2",
   "metadata": {},
   "outputs": [
    {
     "name": "stdout",
     "output_type": "stream",
     "text": [
      "(60000, 28, 28) (60000,)\n",
      "(10000, 28, 28) (10000,)\n"
     ]
    }
   ],
   "source": [
    "print(x_train_full.shape,y_train_full.shape)\n",
    "print(x_test.shape,y_test.shape)"
   ]
  },
  {
   "cell_type": "code",
   "execution_count": 5,
   "id": "d04194da",
   "metadata": {},
   "outputs": [],
   "source": [
    "#x_test[5]"
   ]
  },
  {
   "cell_type": "code",
   "execution_count": 6,
   "id": "29884a5a",
   "metadata": {},
   "outputs": [],
   "source": [
    "x_val=x_train_full[:5000]/255\n",
    "x_train=x_train_full[5000:]/255\n",
    "y_val=y_train_full[:5000]\n",
    "y_train=y_train_full[5000:]\n",
    "x_test=x_test/255"
   ]
  },
  {
   "cell_type": "code",
   "execution_count": 7,
   "id": "f2403be5",
   "metadata": {},
   "outputs": [],
   "source": [
    "model=keras.models.Sequential([keras.layers.Flatten(input_shape=[28,28]),\n",
    "                              keras.layers.Dense(300,activation=\"elu\"),\n",
    "                              keras.layers.Dense(100,activation=\"elu\"),\n",
    "                              keras.layers.Dense(10,activation=\"softmax\")])\n",
    "\n",
    "model.compile(loss=\"sparse_categorical_crossentropy\",optimizer=\"adam\",metrics=[\"accuracy\"])\n"
   ]
  },
  {
   "cell_type": "code",
   "execution_count": 8,
   "id": "8e99fe8e",
   "metadata": {},
   "outputs": [
    {
     "name": "stdout",
     "output_type": "stream",
     "text": [
      "(55000, 28, 28) (55000,)\n"
     ]
    }
   ],
   "source": [
    "print(x_train.shape,y_train.shape)"
   ]
  },
  {
   "cell_type": "code",
   "execution_count": 9,
   "id": "a97fb53b",
   "metadata": {},
   "outputs": [
    {
     "name": "stdout",
     "output_type": "stream",
     "text": [
      "(5000, 28, 28) (5000,)\n"
     ]
    }
   ],
   "source": [
    "print(x_val.shape,y_val.shape)"
   ]
  },
  {
   "cell_type": "code",
   "execution_count": 10,
   "id": "25814ef9",
   "metadata": {},
   "outputs": [],
   "source": [
    "#model.fit(x_train,y_train,epochs=20,validation_data=(x_val,y_val))"
   ]
  },
  {
   "cell_type": "code",
   "execution_count": 11,
   "id": "f2c4f71f",
   "metadata": {},
   "outputs": [],
   "source": [
    "import pickle"
   ]
  },
  {
   "cell_type": "code",
   "execution_count": 12,
   "id": "5d9bfe33",
   "metadata": {},
   "outputs": [],
   "source": [
    "#pickle.dump(model,open('ANN_MNIST_vanila.sav',\"wb\"))"
   ]
  },
  {
   "cell_type": "code",
   "execution_count": 13,
   "id": "3bc73c3d",
   "metadata": {},
   "outputs": [
    {
     "name": "stdout",
     "output_type": "stream",
     "text": [
      "Keras model archive loading:\n",
      "File Name                                             Modified             Size\n",
      "config.json                                    2023-06-01 13:24:26         1980\n",
      "metadata.json                                  2023-06-01 13:24:26           64\n",
      "variables.h5                                   2023-06-01 13:24:28      3223088\n",
      "Keras weights file (<HDF5 file \"variables.h5\" (mode r)>) loading:\n",
      "...layers\\dense\n",
      "......vars\n",
      ".........0\n",
      ".........1\n",
      "...layers\\dense_1\n",
      "......vars\n",
      ".........0\n",
      ".........1\n",
      "...layers\\dense_2\n",
      "......vars\n",
      ".........0\n",
      ".........1\n",
      "...layers\\flatten\n",
      "......vars\n",
      "...metrics\\mean\n",
      "......vars\n",
      ".........0\n",
      ".........1\n",
      "...metrics\\mean_metric_wrapper\n",
      "......vars\n",
      ".........0\n",
      ".........1\n",
      "...optimizer\n",
      "......vars\n",
      ".........0\n",
      ".........1\n",
      ".........10\n",
      ".........11\n",
      ".........12\n",
      ".........2\n",
      ".........3\n",
      ".........4\n",
      ".........5\n",
      ".........6\n",
      ".........7\n",
      ".........8\n",
      ".........9\n",
      "...vars\n"
     ]
    }
   ],
   "source": [
    "# model1: vanila deep ANN MNIST model\n",
    "model1=pickle.load(open('ANN_MNIST_vanila.sav', 'rb'))"
   ]
  },
  {
   "cell_type": "code",
   "execution_count": 14,
   "id": "9cbc61e7",
   "metadata": {},
   "outputs": [
    {
     "name": "stdout",
     "output_type": "stream",
     "text": [
      "313/313 [==============================] - 2s 3ms/step\n"
     ]
    },
    {
     "data": {
      "text/plain": [
       "array([[2.28995018e-15, 1.35884151e-10, 5.92796821e-14, ...,\n",
       "        1.39819679e-03, 1.22034609e-17, 9.98601735e-01],\n",
       "       [7.54221645e-08, 5.21206742e-16, 9.99606192e-01, ...,\n",
       "        3.02800444e-18, 5.08428456e-16, 8.48830563e-16],\n",
       "       [4.31813772e-33, 1.00000000e+00, 4.02715018e-37, ...,\n",
       "        0.00000000e+00, 1.34033060e-28, 2.23651910e-29],\n",
       "       ...,\n",
       "       [1.01298821e-16, 1.60270065e-17, 1.39963665e-14, ...,\n",
       "        2.51331870e-15, 1.00000000e+00, 1.63920288e-21],\n",
       "       [3.85244641e-24, 1.00000000e+00, 7.82732087e-24, ...,\n",
       "        1.96595093e-22, 2.41320803e-18, 8.47744540e-15],\n",
       "       [4.79734321e-14, 4.81083137e-14, 3.15872068e-12, ...,\n",
       "        9.74066339e-09, 8.20372741e-13, 2.49235501e-13]], dtype=float32)"
      ]
     },
     "execution_count": 14,
     "metadata": {},
     "output_type": "execute_result"
    }
   ],
   "source": [
    "# Evaluate ANN MNIST vanila model\n",
    "y_test_pred_prob=model1.predict(x_test)\n",
    "y_test_pred_prob"
   ]
  },
  {
   "cell_type": "code",
   "execution_count": 15,
   "id": "bec8cce1",
   "metadata": {},
   "outputs": [
    {
     "name": "stdout",
     "output_type": "stream",
     "text": [
      "(10000, 28, 28)\n",
      "(10000, 10)\n"
     ]
    }
   ],
   "source": [
    "print(x_test.shape)\n",
    "print(y_test_pred_prob.shape)"
   ]
  },
  {
   "cell_type": "code",
   "execution_count": 16,
   "id": "abde0a6e",
   "metadata": {},
   "outputs": [
    {
     "name": "stdout",
     "output_type": "stream",
     "text": [
      "(10000,)\n"
     ]
    },
    {
     "data": {
      "text/plain": [
       "array([9, 2, 1, ..., 8, 1, 5], dtype=int64)"
      ]
     },
     "execution_count": 16,
     "metadata": {},
     "output_type": "execute_result"
    }
   ],
   "source": [
    "y_test_pred=np.argmax(y_test_pred_prob,axis=1)\n",
    "print(y_test_pred.shape)\n",
    "y_test_pred"
   ]
  },
  {
   "cell_type": "code",
   "execution_count": 17,
   "id": "cfece2a3",
   "metadata": {},
   "outputs": [
    {
     "name": "stdout",
     "output_type": "stream",
     "text": [
      "313/313 [==============================] - 2s 4ms/step - loss: 0.4026 - accuracy: 0.8906\n"
     ]
    },
    {
     "data": {
      "text/plain": [
       "[0.4025881290435791, 0.8906000256538391]"
      ]
     },
     "execution_count": 17,
     "metadata": {},
     "output_type": "execute_result"
    }
   ],
   "source": [
    "# evaluate model on test set\n",
    "model1.evaluate(x_test,y_test)"
   ]
  },
  {
   "cell_type": "code",
   "execution_count": 18,
   "id": "4749298e",
   "metadata": {},
   "outputs": [
    {
     "name": "stdout",
     "output_type": "stream",
     "text": [
      "1719/1719 [==============================] - 7s 4ms/step - loss: 0.1353 - accuracy: 0.9477\n"
     ]
    },
    {
     "data": {
      "text/plain": [
       "[0.13529574871063232, 0.9476545453071594]"
      ]
     },
     "execution_count": 18,
     "metadata": {},
     "output_type": "execute_result"
    }
   ],
   "source": [
    "model1.evaluate(x_train,y_train)"
   ]
  },
  {
   "cell_type": "code",
   "execution_count": 19,
   "id": "11c5be0c",
   "metadata": {},
   "outputs": [],
   "source": [
    "# check accuracy manually on test set\n",
    "# def check_sim(a,b):\n",
    "#     if a==b:\n",
    "#         return 1\n",
    "#     else:\n",
    "#         return 0\n",
    "# eval_test=pd.DataFrame({'y_test_pred':pd.Series(y_test_pred),'y_test':pd.Series(y_test)})\n",
    "# eval_test['sim']=eval_test.apply(lambda x:check_sim(*x),axis=1)\n",
    "# accuracy=eval_test['sim'].sum()*100/len(eval_test.index)\n",
    "# print(accuracy)\n",
    "# eval_test"
   ]
  },
  {
   "cell_type": "markdown",
   "id": "0ee48997",
   "metadata": {},
   "source": [
    "#### Apply Deep ANN techniques to the dataset"
   ]
  },
  {
   "cell_type": "markdown",
   "id": "05e94dfa",
   "metadata": {},
   "source": [
    "#### 1. Initialisation methods"
   ]
  },
  {
   "cell_type": "code",
   "execution_count": 20,
   "id": "e7f9d734",
   "metadata": {},
   "outputs": [],
   "source": [
    "he_avg_init=keras.initializers.VarianceScaling(scale=2,mode=\"fan_avg\",distribution=\"uniform\")\n",
    "\n",
    "model1=keras.models.Sequential([keras.layers.Flatten(input_shape=[28,28]),\n",
    "                              keras.layers.Dense(300,activation=\"relu\",kernel_initializer=\"he_normal\"),\n",
    "                              keras.layers.Dense(100,activation=\"relu\",kernel_initializer=\"he_normal\"),\n",
    "                              keras.layers.Dense(10,activation=\"softmax\",kernel_initializer=he_avg_init)])\n",
    "\n",
    "model1.compile(loss=\"sparse_categorical_crossentropy\",optimizer=\"adam\",metrics=[\"accuracy\"])"
   ]
  },
  {
   "cell_type": "code",
   "execution_count": 21,
   "id": "dcfd08cf",
   "metadata": {},
   "outputs": [
    {
     "name": "stdout",
     "output_type": "stream",
     "text": [
      "Epoch 1/5\n",
      "1719/1719 [==============================] - 13s 7ms/step - loss: 0.4859 - accuracy: 0.8265 - val_loss: 0.3693 - val_accuracy: 0.8714\n",
      "Epoch 2/5\n",
      "1719/1719 [==============================] - 11s 6ms/step - loss: 0.3671 - accuracy: 0.8642 - val_loss: 0.3295 - val_accuracy: 0.8774\n",
      "Epoch 3/5\n",
      "1719/1719 [==============================] - 11s 6ms/step - loss: 0.3300 - accuracy: 0.8785 - val_loss: 0.3709 - val_accuracy: 0.8660\n",
      "Epoch 4/5\n",
      "1719/1719 [==============================] - 11s 6ms/step - loss: 0.3078 - accuracy: 0.8853 - val_loss: 0.3221 - val_accuracy: 0.8834\n",
      "Epoch 5/5\n",
      "1719/1719 [==============================] - 11s 6ms/step - loss: 0.2883 - accuracy: 0.8919 - val_loss: 0.3138 - val_accuracy: 0.8866\n"
     ]
    }
   ],
   "source": [
    "history1=model1.fit(x_train,y_train,validation_data=(x_val,y_val),epochs=5)"
   ]
  },
  {
   "cell_type": "code",
   "execution_count": 22,
   "id": "960fa9bc",
   "metadata": {},
   "outputs": [
    {
     "data": {
      "text/plain": [
       "{'loss': [0.48585960268974304,\n",
       "  0.36714693903923035,\n",
       "  0.3300038278102875,\n",
       "  0.30782073736190796,\n",
       "  0.2883121371269226],\n",
       " 'accuracy': [0.8265454769134521,\n",
       "  0.8642363548278809,\n",
       "  0.8785454630851746,\n",
       "  0.8852909207344055,\n",
       "  0.8919273018836975],\n",
       " 'val_loss': [0.3693040609359741,\n",
       "  0.32946792244911194,\n",
       "  0.37085065245628357,\n",
       "  0.32209542393684387,\n",
       "  0.31381866335868835],\n",
       " 'val_accuracy': [0.871399998664856,\n",
       "  0.8773999810218811,\n",
       "  0.8659999966621399,\n",
       "  0.883400022983551,\n",
       "  0.8866000175476074]}"
      ]
     },
     "execution_count": 22,
     "metadata": {},
     "output_type": "execute_result"
    }
   ],
   "source": [
    "history1.history"
   ]
  },
  {
   "cell_type": "code",
   "execution_count": 23,
   "id": "8fee2018",
   "metadata": {},
   "outputs": [
    {
     "data": {
      "text/plain": [
       "<Figure size 576x432 with 0 Axes>"
      ]
     },
     "metadata": {},
     "output_type": "display_data"
    },
    {
     "data": {
      "image/png": "[encoded data removed]",
      "text/plain": [
       "<Figure size 432x288 with 1 Axes>"
      ]
     },
     "metadata": {
      "needs_background": "light"
     },
     "output_type": "display_data"
    }
   ],
   "source": [
    "plt.figure(figsize=(8,6))\n",
    "pd.DataFrame(history1.history).plot()\n",
    "plt.grid(True)\n",
    "plt.show()"
   ]
  },
  {
   "cell_type": "code",
   "execution_count": 24,
   "id": "f1676716",
   "metadata": {},
   "outputs": [
    {
     "name": "stdout",
     "output_type": "stream",
     "text": [
      "313/313 [==============================] - 1s 4ms/step - loss: 0.3489 - accuracy: 0.8756\n"
     ]
    },
    {
     "data": {
      "text/plain": [
       "[0.34890374541282654, 0.8755999803543091]"
      ]
     },
     "execution_count": 24,
     "metadata": {},
     "output_type": "execute_result"
    }
   ],
   "source": [
    "model1.evaluate(x_test,y_test)"
   ]
  },
  {
   "cell_type": "markdown",
   "id": "8c880eb5",
   "metadata": {},
   "source": [
    "#### 2. Batch Normalisation"
   ]
  },
  {
   "cell_type": "code",
   "execution_count": 25,
   "id": "ef18e5c4",
   "metadata": {},
   "outputs": [],
   "source": [
    "he_avg_init=keras.initializers.VarianceScaling(scale=2,mode=\"fan_avg\",distribution=\"uniform\")\n",
    "\n",
    "model2=keras.models.Sequential([keras.layers.Flatten(input_shape=[28,28]),\n",
    "                                keras.layers.BatchNormalization(),\n",
    "                              keras.layers.Dense(300,activation=\"relu\",kernel_initializer=\"he_normal\"),\n",
    "                                keras.layers.BatchNormalization(),\n",
    "                              keras.layers.Dense(100,activation=\"relu\",kernel_initializer=\"he_normal\"),\n",
    "                                keras.layers.BatchNormalization(),\n",
    "                              keras.layers.Dense(10,activation=\"softmax\",kernel_initializer=he_avg_init)])\n",
    "\n",
    "model2.compile(loss=\"sparse_categorical_crossentropy\",optimizer=\"adam\",metrics=[\"accuracy\"])"
   ]
  },
  {
   "cell_type": "code",
   "execution_count": 26,
   "id": "4ba0ef6c",
   "metadata": {},
   "outputs": [
    {
     "name": "stdout",
     "output_type": "stream",
     "text": [
      "Epoch 1/5\n",
      "1719/1719 [==============================] - 19s 9ms/step - loss: 0.4793 - accuracy: 0.8284 - val_loss: 0.3517 - val_accuracy: 0.8702\n",
      "Epoch 2/5\n",
      "1719/1719 [==============================] - 14s 8ms/step - loss: 0.3662 - accuracy: 0.8667 - val_loss: 0.3442 - val_accuracy: 0.8734\n",
      "Epoch 3/5\n",
      "1719/1719 [==============================] - 14s 8ms/step - loss: 0.3319 - accuracy: 0.8760 - val_loss: 0.3169 - val_accuracy: 0.8826\n",
      "Epoch 4/5\n",
      "1719/1719 [==============================] - 14s 8ms/step - loss: 0.3055 - accuracy: 0.8862 - val_loss: 0.3281 - val_accuracy: 0.8772\n",
      "Epoch 5/5\n",
      "1719/1719 [==============================] - 14s 8ms/step - loss: 0.2831 - accuracy: 0.8942 - val_loss: 0.3118 - val_accuracy: 0.8868\n"
     ]
    }
   ],
   "source": [
    "history2=model2.fit(x_train,y_train,validation_data=(x_val,y_val),epochs=5)"
   ]
  },
  {
   "cell_type": "code",
   "execution_count": 27,
   "id": "ecf9e5b1",
   "metadata": {},
   "outputs": [
    {
     "name": "stdout",
     "output_type": "stream",
     "text": [
      "313/313 [==============================] - 1s 4ms/step - loss: 0.3368 - accuracy: 0.8820\n"
     ]
    },
    {
     "data": {
      "text/plain": [
       "[0.33681774139404297, 0.8820000290870667]"
      ]
     },
     "execution_count": 27,
     "metadata": {},
     "output_type": "execute_result"
    }
   ],
   "source": [
    "model2.evaluate(x_test,y_test)"
   ]
  },
  {
   "cell_type": "markdown",
   "id": "022ca032",
   "metadata": {},
   "source": [
    "#### 3. Gradient Clipping"
   ]
  },
  {
   "cell_type": "code",
   "execution_count": 28,
   "id": "a3f4c95b",
   "metadata": {},
   "outputs": [],
   "source": [
    "he_avg_init=keras.initializers.VarianceScaling(scale=2,mode=\"fan_avg\",distribution=\"uniform\")\n",
    "\n",
    "model3=keras.models.Sequential([keras.layers.Flatten(input_shape=[28,28]),\n",
    "                                keras.layers.BatchNormalization(),\n",
    "                              keras.layers.Dense(300,activation=\"relu\",kernel_initializer=\"he_normal\"),\n",
    "                                keras.layers.BatchNormalization(),\n",
    "                              keras.layers.Dense(100,activation=\"relu\",kernel_initializer=\"he_normal\"),\n",
    "                                keras.layers.BatchNormalization(),\n",
    "                              keras.layers.Dense(10,activation=\"softmax\",kernel_initializer=he_avg_init)])\n",
    "\n",
    "optimizer=keras.optimizers.SGD(clipvalue=1.0)\n",
    "#optimizer=keras.optimizers.SGD(clipnorm=1.0)\n",
    "model3.compile(loss=\"sparse_categorical_crossentropy\",optimizer=optimizer,metrics=[\"accuracy\"])"
   ]
  },
  {
   "cell_type": "code",
   "execution_count": 29,
   "id": "66a8b86a",
   "metadata": {},
   "outputs": [
    {
     "name": "stdout",
     "output_type": "stream",
     "text": [
      "Epoch 1/5\n",
      "1719/1719 [==============================] - 16s 8ms/step - loss: 0.5533 - accuracy: 0.8080 - val_loss: 0.3977 - val_accuracy: 0.8622\n",
      "Epoch 2/5\n",
      "1719/1719 [==============================] - 13s 7ms/step - loss: 0.4023 - accuracy: 0.8568 - val_loss: 0.3588 - val_accuracy: 0.8710\n",
      "Epoch 3/5\n",
      "1719/1719 [==============================] - 13s 7ms/step - loss: 0.3611 - accuracy: 0.8703 - val_loss: 0.3538 - val_accuracy: 0.8742\n",
      "Epoch 4/5\n",
      "1719/1719 [==============================] - 13s 7ms/step - loss: 0.3328 - accuracy: 0.8792 - val_loss: 0.3285 - val_accuracy: 0.8850\n",
      "Epoch 5/5\n",
      "1719/1719 [==============================] - 13s 7ms/step - loss: 0.3154 - accuracy: 0.8847 - val_loss: 0.3208 - val_accuracy: 0.8854\n"
     ]
    }
   ],
   "source": [
    "history3=model3.fit(x_train,y_train,validation_data=(x_val,y_val),epochs=5)"
   ]
  },
  {
   "cell_type": "code",
   "execution_count": 30,
   "id": "92afdc7e",
   "metadata": {},
   "outputs": [
    {
     "name": "stdout",
     "output_type": "stream",
     "text": [
      "313/313 [==============================] - 1s 4ms/step - loss: 0.3503 - accuracy: 0.8736\n"
     ]
    },
    {
     "data": {
      "text/plain": [
       "[0.35032105445861816, 0.8736000061035156]"
      ]
     },
     "execution_count": 30,
     "metadata": {},
     "output_type": "execute_result"
    }
   ],
   "source": [
    "model3.evaluate(x_test,y_test)"
   ]
  },
  {
   "cell_type": "markdown",
   "id": "01ab01bf",
   "metadata": {},
   "source": [
    "#### 4. Transfer Learning"
   ]
  },
  {
   "cell_type": "code",
   "execution_count": 31,
   "id": "5c0670cb",
   "metadata": {},
   "outputs": [],
   "source": [
    "# model4=pickle.load(open('ANN_MNIST_RndSearch_2CV.sav',\"rb\"))\n",
    "# model4.summary()"
   ]
  },
  {
   "cell_type": "code",
   "execution_count": 32,
   "id": "5786eae2",
   "metadata": {},
   "outputs": [
    {
     "name": "stdout",
     "output_type": "stream",
     "text": [
      "313/313 [==============================] - 1s 4ms/step - loss: 0.3489 - accuracy: 0.8756\n"
     ]
    },
    {
     "data": {
      "text/plain": [
       "[0.34890374541282654, 0.8755999803543091]"
      ]
     },
     "execution_count": 32,
     "metadata": {},
     "output_type": "execute_result"
    }
   ],
   "source": [
    "model1.evaluate(x_test,y_test)"
   ]
  },
  {
   "cell_type": "code",
   "execution_count": 33,
   "id": "73677417",
   "metadata": {},
   "outputs": [],
   "source": [
    "# clone model2 to model_A \n",
    "# model_A=keras.models.clone_model(model1)\n",
    "# model_A.set_weights(model1.get_weights())"
   ]
  },
  {
   "cell_type": "code",
   "execution_count": 34,
   "id": "3d293c9c",
   "metadata": {},
   "outputs": [],
   "source": [
    "# model_B_on_A=keras.models.Sequential(model_A.layers[:-1])\n",
    "# model_B_on_A.add(keras.layers.Dense(10,activation=\"softmax\"))"
   ]
  },
  {
   "cell_type": "code",
   "execution_count": 35,
   "id": "cc8ef1bd",
   "metadata": {},
   "outputs": [],
   "source": [
    "# MNIST Dataset\n",
    "(x_train_full_A, y_train_full_A), (x_test_A, y_test_A) = keras.datasets.mnist.load_data()"
   ]
  },
  {
   "cell_type": "code",
   "execution_count": 36,
   "id": "10c9a74d",
   "metadata": {},
   "outputs": [],
   "source": [
    "# (x_train, y_train), (x_test, y_test) = keras.datasets.cifar10.load_data()\n",
    "# print(x_train.shape,y_train.shape)\n",
    "# print(x_test.shape,y_test.shape)\n",
    "# print(len(np.unique(y_train)))\n",
    "# print(np.unique(y_train))\n",
    "\n",
    "# cat_class_map={0:'airplane',1:'automobile',2:'bird',3:'cat',4:'deer',5:'dog',6:'frog',7:'horse',8:'ship',9:'truck'}\n",
    "\n",
    "# plt.imshow(x_train[1])\n",
    "# print(y_train[1])\n",
    "# plt.show()"
   ]
  },
  {
   "cell_type": "code",
   "execution_count": 37,
   "id": "54b03f01",
   "metadata": {},
   "outputs": [
    {
     "name": "stdout",
     "output_type": "stream",
     "text": [
      "(60000, 28, 28) (60000,)\n",
      "(10000, 28, 28) (10000,)\n"
     ]
    }
   ],
   "source": [
    "print(x_train_full_A.shape,y_train_full_A.shape)\n",
    "print(x_test_A.shape,y_test_A.shape)"
   ]
  },
  {
   "cell_type": "code",
   "execution_count": 38,
   "id": "4e5ccbd9",
   "metadata": {},
   "outputs": [
    {
     "name": "stdout",
     "output_type": "stream",
     "text": [
      "10\n"
     ]
    },
    {
     "data": {
      "image/png": "[encoded data removed]",
      "text/plain": [
       "<Figure size 432x288 with 1 Axes>"
      ]
     },
     "metadata": {
      "needs_background": "light"
     },
     "output_type": "display_data"
    }
   ],
   "source": [
    "print(len(np.unique(y_train_full_A)))\n",
    "\n",
    "plt.imshow(x_train_full_A[1])\n",
    "# print(x_train_full_A[1])\n",
    "plt.show()"
   ]
  },
  {
   "cell_type": "code",
   "execution_count": 39,
   "id": "db8747cf",
   "metadata": {},
   "outputs": [],
   "source": [
    "# x_train_full_A[0]"
   ]
  },
  {
   "cell_type": "code",
   "execution_count": 40,
   "id": "75e5928a",
   "metadata": {},
   "outputs": [],
   "source": [
    "x_val_A=x_train_full_A[:5000]/255\n",
    "x_train_A=x_train_full_A[5000:]/255\n",
    "y_val_A=y_train_full_A[:5000]\n",
    "y_train_A=y_train_full_A[5000:]\n",
    "x_test_A=x_test_A/255"
   ]
  },
  {
   "cell_type": "code",
   "execution_count": 41,
   "id": "2a06b852",
   "metadata": {},
   "outputs": [],
   "source": [
    "model_A=keras.models.Sequential([keras.layers.Flatten(input_shape=[28,28]),\n",
    "                                keras.layers.Dense(300,activation=\"elu\"),\n",
    "                                keras.layers.Dense(100,activation=\"elu\"),\n",
    "                                keras.layers.Dense(10,activation=\"softmax\")])\n",
    "\n",
    "model_A.compile(loss=\"sparse_categorical_crossentropy\",optimizer=\"adam\",metrics=[\"accuracy\"])"
   ]
  },
  {
   "cell_type": "code",
   "execution_count": 42,
   "id": "e7aacfbb",
   "metadata": {},
   "outputs": [
    {
     "name": "stdout",
     "output_type": "stream",
     "text": [
      "Epoch 1/20\n",
      "1719/1719 [==============================] - 13s 7ms/step - loss: 0.2427 - accuracy: 0.9267 - val_loss: 0.1393 - val_accuracy: 0.9582\n",
      "Epoch 2/20\n",
      "1719/1719 [==============================] - 11s 6ms/step - loss: 0.1114 - accuracy: 0.9656 - val_loss: 0.0853 - val_accuracy: 0.9750\n",
      "Epoch 3/20\n",
      "1719/1719 [==============================] - 11s 6ms/step - loss: 0.0789 - accuracy: 0.9749 - val_loss: 0.0834 - val_accuracy: 0.9742\n",
      "Epoch 4/20\n",
      "1719/1719 [==============================] - 11s 6ms/step - loss: 0.0571 - accuracy: 0.9808 - val_loss: 0.0884 - val_accuracy: 0.9758\n",
      "Epoch 5/20\n",
      "1719/1719 [==============================] - 11s 6ms/step - loss: 0.0451 - accuracy: 0.9852 - val_loss: 0.0774 - val_accuracy: 0.9792\n",
      "Epoch 6/20\n",
      "1719/1719 [==============================] - 11s 6ms/step - loss: 0.0380 - accuracy: 0.9874 - val_loss: 0.0814 - val_accuracy: 0.9804\n",
      "Epoch 7/20\n",
      "1719/1719 [==============================] - 11s 6ms/step - loss: 0.0317 - accuracy: 0.9893 - val_loss: 0.0813 - val_accuracy: 0.9802\n",
      "Epoch 8/20\n",
      "1719/1719 [==============================] - 11s 6ms/step - loss: 0.0266 - accuracy: 0.9916 - val_loss: 0.0936 - val_accuracy: 0.9790\n",
      "Epoch 9/20\n",
      "1719/1719 [==============================] - 11s 6ms/step - loss: 0.0214 - accuracy: 0.9932 - val_loss: 0.0760 - val_accuracy: 0.9814\n",
      "Epoch 10/20\n",
      "1719/1719 [==============================] - 11s 6ms/step - loss: 0.0213 - accuracy: 0.9931 - val_loss: 0.0879 - val_accuracy: 0.9814\n",
      "Epoch 11/20\n",
      "1719/1719 [==============================] - 11s 6ms/step - loss: 0.0196 - accuracy: 0.9934 - val_loss: 0.0896 - val_accuracy: 0.9816\n",
      "Epoch 12/20\n",
      "1719/1719 [==============================] - 11s 6ms/step - loss: 0.0154 - accuracy: 0.9948 - val_loss: 0.1065 - val_accuracy: 0.9786\n",
      "Epoch 13/20\n",
      "1719/1719 [==============================] - 11s 6ms/step - loss: 0.0186 - accuracy: 0.9943 - val_loss: 0.0936 - val_accuracy: 0.9820\n",
      "Epoch 14/20\n",
      "1719/1719 [==============================] - 11s 6ms/step - loss: 0.0158 - accuracy: 0.9955 - val_loss: 0.1097 - val_accuracy: 0.9826\n",
      "Epoch 15/20\n",
      "1719/1719 [==============================] - 11s 6ms/step - loss: 0.0116 - accuracy: 0.9963 - val_loss: 0.0979 - val_accuracy: 0.9822\n",
      "Epoch 16/20\n",
      "1719/1719 [==============================] - 11s 6ms/step - loss: 0.0156 - accuracy: 0.9954 - val_loss: 0.1070 - val_accuracy: 0.9812\n",
      "Epoch 17/20\n",
      "1719/1719 [==============================] - 11s 6ms/step - loss: 0.0120 - accuracy: 0.9962 - val_loss: 0.0991 - val_accuracy: 0.9822\n",
      "Epoch 18/20\n",
      "1719/1719 [==============================] - 11s 6ms/step - loss: 0.0134 - accuracy: 0.9962 - val_loss: 0.1144 - val_accuracy: 0.9798\n",
      "Epoch 19/20\n",
      "1719/1719 [==============================] - 11s 6ms/step - loss: 0.0127 - accuracy: 0.9962 - val_loss: 0.1287 - val_accuracy: 0.9794\n",
      "Epoch 20/20\n",
      "1719/1719 [==============================] - 11s 6ms/step - loss: 0.0121 - accuracy: 0.9965 - val_loss: 0.1231 - val_accuracy: 0.9846\n"
     ]
    }
   ],
   "source": [
    "history_A=model_A.fit(x_train_A,y_train_A,validation_data=(x_val_A,y_val_A),epochs=20)"
   ]
  },
  {
   "cell_type": "code",
   "execution_count": 43,
   "id": "8747e2e4",
   "metadata": {},
   "outputs": [
    {
     "name": "stdout",
     "output_type": "stream",
     "text": [
      "313/313 [==============================] - 1s 4ms/step - loss: 0.1271 - accuracy: 0.9809\n"
     ]
    },
    {
     "data": {
      "text/plain": [
       "[0.12712667882442474, 0.98089998960495]"
      ]
     },
     "execution_count": 43,
     "metadata": {},
     "output_type": "execute_result"
    }
   ],
   "source": [
    "model_A.evaluate(x_test_A,y_test_A)"
   ]
  },
  {
   "cell_type": "code",
   "execution_count": 44,
   "id": "8ae15510",
   "metadata": {},
   "outputs": [],
   "source": [
    "clone_model_A=keras.models.clone_model(model_A)\n",
    "clone_model_A.set_weights(model_A.get_weights())"
   ]
  },
  {
   "cell_type": "code",
   "execution_count": 45,
   "id": "85fb7a57",
   "metadata": {},
   "outputs": [],
   "source": [
    "# model_B_on_A=keras.models.Sequential(keras.layers.Flatten(input_shape=[32,32]))\n",
    "# model_B_on_A.add(model_A.layers[1:-1])\n",
    "model_B_on_A=keras.models.Sequential(model_A.layers[:-1])\n",
    "model_B_on_A.add(keras.layers.Dense(10,activation=\"softmax\"))"
   ]
  },
  {
   "cell_type": "code",
   "execution_count": 46,
   "id": "3180ff01",
   "metadata": {},
   "outputs": [],
   "source": [
    "for layer in model_B_on_A.layers[:-1]:\n",
    "    layer.trainable=False"
   ]
  },
  {
   "cell_type": "code",
   "execution_count": 47,
   "id": "d55dd55a",
   "metadata": {},
   "outputs": [
    {
     "name": "stdout",
     "output_type": "stream",
     "text": [
      "Epoch 1/5\n",
      "1719/1719 [==============================] - 11s 5ms/step - loss: 1.1104 - accuracy: 0.6646 - val_loss: 0.7068 - val_accuracy: 0.7520\n",
      "Epoch 2/5\n",
      "1719/1719 [==============================] - 8s 5ms/step - loss: 0.6758 - accuracy: 0.7540 - val_loss: 0.6409 - val_accuracy: 0.7674\n",
      "Epoch 3/5\n",
      "1719/1719 [==============================] - 7s 4ms/step - loss: 0.6281 - accuracy: 0.7718 - val_loss: 0.6139 - val_accuracy: 0.7858\n",
      "Epoch 4/5\n",
      "1719/1719 [==============================] - 7s 4ms/step - loss: 0.6084 - accuracy: 0.7792 - val_loss: 0.5864 - val_accuracy: 0.8038\n",
      "Epoch 5/5\n",
      "1719/1719 [==============================] - 7s 4ms/step - loss: 0.5972 - accuracy: 0.7819 - val_loss: 0.5913 - val_accuracy: 0.8010\n"
     ]
    }
   ],
   "source": [
    "model_B_on_A.compile(loss=\"sparse_categorical_crossentropy\",metrics=[\"accuracy\"],optimizer=\"adam\")\n",
    "historyB_on_A=model_B_on_A.fit(x_train,y_train,epochs=5,validation_data=(x_val,y_val))"
   ]
  },
  {
   "cell_type": "code",
   "execution_count": 48,
   "id": "8947a333",
   "metadata": {},
   "outputs": [
    {
     "name": "stdout",
     "output_type": "stream",
     "text": [
      "313/313 [==============================] - 1s 4ms/step - loss: 0.6329 - accuracy: 0.7770\n"
     ]
    },
    {
     "data": {
      "text/plain": [
       "[0.6328879594802856, 0.7770000100135803]"
      ]
     },
     "execution_count": 48,
     "metadata": {},
     "output_type": "execute_result"
    }
   ],
   "source": [
    "model_B_on_A.evaluate(x_test,y_test)"
   ]
  },
  {
   "cell_type": "code",
   "execution_count": 49,
   "id": "3966ef22",
   "metadata": {},
   "outputs": [],
   "source": [
    "for layer in model_B_on_A.layers[:-1]:\n",
    "    layer.trainable=True"
   ]
  },
  {
   "cell_type": "code",
   "execution_count": 50,
   "id": "a14aef98",
   "metadata": {},
   "outputs": [],
   "source": [
    "optimizer=keras.optimizers.Adam(learning_rate=1e-4)"
   ]
  },
  {
   "cell_type": "code",
   "execution_count": 51,
   "id": "3d8d8a1d",
   "metadata": {},
   "outputs": [
    {
     "name": "stdout",
     "output_type": "stream",
     "text": [
      "Epoch 1/20\n",
      "1719/1719 [==============================] - 13s 7ms/step - loss: 0.5055 - accuracy: 0.8187 - val_loss: 0.4748 - val_accuracy: 0.8384\n",
      "Epoch 2/20\n",
      "1719/1719 [==============================] - 13s 7ms/step - loss: 0.4341 - accuracy: 0.8455 - val_loss: 0.4208 - val_accuracy: 0.8562\n",
      "Epoch 3/20\n",
      "1719/1719 [==============================] - 12s 7ms/step - loss: 0.3962 - accuracy: 0.8582 - val_loss: 0.4027 - val_accuracy: 0.8604\n",
      "Epoch 4/20\n",
      "1719/1719 [==============================] - 12s 7ms/step - loss: 0.3713 - accuracy: 0.8656 - val_loss: 0.3867 - val_accuracy: 0.8658\n",
      "Epoch 5/20\n",
      "1719/1719 [==============================] - 12s 7ms/step - loss: 0.3503 - accuracy: 0.8749 - val_loss: 0.3752 - val_accuracy: 0.8678\n",
      "Epoch 6/20\n",
      "1719/1719 [==============================] - 12s 7ms/step - loss: 0.3342 - accuracy: 0.8787 - val_loss: 0.3693 - val_accuracy: 0.8708\n",
      "Epoch 7/20\n",
      "1719/1719 [==============================] - 11s 7ms/step - loss: 0.3206 - accuracy: 0.8833 - val_loss: 0.3552 - val_accuracy: 0.8762\n",
      "Epoch 8/20\n",
      "1719/1719 [==============================] - 12s 7ms/step - loss: 0.3088 - accuracy: 0.8877 - val_loss: 0.3630 - val_accuracy: 0.8728\n",
      "Epoch 9/20\n",
      "1719/1719 [==============================] - 12s 7ms/step - loss: 0.2983 - accuracy: 0.8904 - val_loss: 0.3498 - val_accuracy: 0.8764\n",
      "Epoch 10/20\n",
      "1719/1719 [==============================] - 11s 7ms/step - loss: 0.2891 - accuracy: 0.8944 - val_loss: 0.3388 - val_accuracy: 0.8804\n",
      "Epoch 11/20\n",
      "1719/1719 [==============================] - 12s 7ms/step - loss: 0.2803 - accuracy: 0.8970 - val_loss: 0.3338 - val_accuracy: 0.8828\n",
      "Epoch 12/20\n",
      "1719/1719 [==============================] - 12s 7ms/step - loss: 0.2720 - accuracy: 0.9005 - val_loss: 0.3338 - val_accuracy: 0.8838\n",
      "Epoch 13/20\n",
      "1719/1719 [==============================] - 12s 7ms/step - loss: 0.2654 - accuracy: 0.9027 - val_loss: 0.3276 - val_accuracy: 0.8824\n",
      "Epoch 14/20\n",
      "1719/1719 [==============================] - 12s 7ms/step - loss: 0.2587 - accuracy: 0.9049 - val_loss: 0.3275 - val_accuracy: 0.8874\n",
      "Epoch 15/20\n",
      "1719/1719 [==============================] - 12s 7ms/step - loss: 0.2521 - accuracy: 0.9065 - val_loss: 0.3335 - val_accuracy: 0.8842\n",
      "Epoch 16/20\n",
      "1719/1719 [==============================] - 12s 7ms/step - loss: 0.2465 - accuracy: 0.9096 - val_loss: 0.3261 - val_accuracy: 0.8868\n",
      "Epoch 17/20\n",
      "1719/1719 [==============================] - 12s 7ms/step - loss: 0.2409 - accuracy: 0.9116 - val_loss: 0.3194 - val_accuracy: 0.8900\n",
      "Epoch 18/20\n",
      "1719/1719 [==============================] - 11s 7ms/step - loss: 0.2350 - accuracy: 0.9137 - val_loss: 0.3243 - val_accuracy: 0.8874\n",
      "Epoch 19/20\n",
      "1719/1719 [==============================] - 12s 7ms/step - loss: 0.2298 - accuracy: 0.9161 - val_loss: 0.3230 - val_accuracy: 0.8878\n",
      "Epoch 20/20\n",
      "1719/1719 [==============================] - 12s 7ms/step - loss: 0.2259 - accuracy: 0.9179 - val_loss: 0.3223 - val_accuracy: 0.8876\n"
     ]
    }
   ],
   "source": [
    "model_B_on_A.compile(loss=\"sparse_categorical_crossentropy\",metrics=[\"accuracy\"],optimizer=optimizer)\n",
    "historyB_on_A2=model_B_on_A.fit(x_train,y_train,epochs=20,validation_data=(x_val,y_val))"
   ]
  },
  {
   "cell_type": "markdown",
   "id": "d747717c",
   "metadata": {},
   "source": [
    "#### 5. Optimizers"
   ]
  },
  {
   "cell_type": "code",
   "execution_count": 52,
   "id": "6bea6acc",
   "metadata": {},
   "outputs": [
    {
     "name": "stdout",
     "output_type": "stream",
     "text": [
      "Epoch 1/5\n",
      "1719/1719 [==============================] - 11s 6ms/step - loss: 0.0104 - accuracy: 0.9971 - val_loss: 0.1339 - val_accuracy: 0.9816\n",
      "Epoch 2/5\n",
      "1719/1719 [==============================] - 10s 6ms/step - loss: 0.0036 - accuracy: 0.9989 - val_loss: 0.1268 - val_accuracy: 0.9828\n",
      "Epoch 3/5\n",
      "1719/1719 [==============================] - 10s 6ms/step - loss: 0.0022 - accuracy: 0.9995 - val_loss: 0.1256 - val_accuracy: 0.9828\n",
      "Epoch 4/5\n",
      "1719/1719 [==============================] - 10s 6ms/step - loss: 0.0016 - accuracy: 0.9997 - val_loss: 0.1237 - val_accuracy: 0.9834\n",
      "Epoch 5/5\n",
      "1719/1719 [==============================] - 283s 165ms/step - loss: 0.0013 - accuracy: 0.9997 - val_loss: 0.1232 - val_accuracy: 0.9836\n"
     ]
    }
   ],
   "source": [
    "# 5.0 SGD optimizer we already saw\n",
    "# 5.1 Momentum Optimization\n",
    "optimizer=keras.optimizers.SGD(learning_rate=0.001,momentum=0.9)\n",
    "model_A.compile(loss=\"sparse_categorical_crossentropy\",metrics=[\"accuracy\"],optimizer=optimizer)\n",
    "history_A2=model_A.fit(x_train_A,y_train_A,epochs=5,validation_data=(x_val_A,y_val_A))\n"
   ]
  },
  {
   "cell_type": "code",
   "execution_count": 53,
   "id": "efb180ea",
   "metadata": {},
   "outputs": [
    {
     "name": "stdout",
     "output_type": "stream",
     "text": [
      "Epoch 1/5\n",
      "1719/1719 [==============================] - 13s 7ms/step - loss: 0.0010 - accuracy: 0.9998 - val_loss: 0.1227 - val_accuracy: 0.9832\n",
      "Epoch 2/5\n",
      "1719/1719 [==============================] - 10s 6ms/step - loss: 8.5818e-04 - accuracy: 0.9999 - val_loss: 0.1222 - val_accuracy: 0.9834\n",
      "Epoch 3/5\n",
      "1719/1719 [==============================] - 12s 7ms/step - loss: 7.3074e-04 - accuracy: 0.9999 - val_loss: 0.1218 - val_accuracy: 0.9838\n",
      "Epoch 4/5\n",
      "1719/1719 [==============================] - 12s 7ms/step - loss: 6.3971e-04 - accuracy: 0.9999 - val_loss: 0.1214 - val_accuracy: 0.9844\n",
      "Epoch 5/5\n",
      "1719/1719 [==============================] - 12s 7ms/step - loss: 5.7833e-04 - accuracy: 1.0000 - val_loss: 0.1214 - val_accuracy: 0.9850\n"
     ]
    }
   ],
   "source": [
    "# 5.2 NAG Optimizer\n",
    "optimizer=keras.optimizers.SGD(learning_rate=0.001,momentum=0.9,nesterov=True)\n",
    "model_A.compile(loss=\"sparse_categorical_crossentropy\",metrics=[\"accuracy\"],optimizer=optimizer)\n",
    "history_A3=model_A.fit(x_train_A,y_train_A,epochs=5,validation_data=(x_val_A,y_val_A))\n"
   ]
  },
  {
   "cell_type": "code",
   "execution_count": 54,
   "id": "223e2885",
   "metadata": {},
   "outputs": [
    {
     "name": "stdout",
     "output_type": "stream",
     "text": [
      "Epoch 1/5\n",
      "1719/1719 [==============================] - 15s 8ms/step - loss: 5.1224e-04 - accuracy: 1.0000 - val_loss: 0.1213 - val_accuracy: 0.9850\n",
      "Epoch 2/5\n",
      "1719/1719 [==============================] - 12s 7ms/step - loss: 4.9896e-04 - accuracy: 1.0000 - val_loss: 0.1212 - val_accuracy: 0.9850\n",
      "Epoch 3/5\n",
      "1719/1719 [==============================] - 12s 7ms/step - loss: 4.8705e-04 - accuracy: 1.0000 - val_loss: 0.1212 - val_accuracy: 0.9850\n",
      "Epoch 4/5\n",
      "1719/1719 [==============================] - 12s 7ms/step - loss: 4.7619e-04 - accuracy: 1.0000 - val_loss: 0.1211 - val_accuracy: 0.9852\n",
      "Epoch 5/5\n",
      "1719/1719 [==============================] - 12s 7ms/step - loss: 4.6612e-04 - accuracy: 1.0000 - val_loss: 0.1210 - val_accuracy: 0.9852\n"
     ]
    }
   ],
   "source": [
    "# 5.3 Adagrad Optimizer\n",
    "optimizer=keras.optimizers.Adagrad(learning_rate=0.001,epsilon=1e-07)\n",
    "model_A.compile(loss=\"sparse_categorical_crossentropy\",metrics=[\"accuracy\"],optimizer=optimizer)\n",
    "history_A4=model_A.fit(x_train_A,y_train_A,epochs=5,validation_data=(x_val_A,y_val_A))"
   ]
  },
  {
   "cell_type": "code",
   "execution_count": 55,
   "id": "69de2c20",
   "metadata": {},
   "outputs": [
    {
     "name": "stdout",
     "output_type": "stream",
     "text": [
      "Epoch 1/5\n",
      "1719/1719 [==============================] - 16s 8ms/step - loss: 0.0022 - accuracy: 0.9993 - val_loss: 0.1113 - val_accuracy: 0.9862\n",
      "Epoch 2/5\n",
      "1719/1719 [==============================] - 12s 7ms/step - loss: 5.0054e-04 - accuracy: 0.9998 - val_loss: 0.1201 - val_accuracy: 0.9850\n",
      "Epoch 3/5\n",
      "1719/1719 [==============================] - 12s 7ms/step - loss: 4.6613e-05 - accuracy: 1.0000 - val_loss: 0.1101 - val_accuracy: 0.9864\n",
      "Epoch 4/5\n",
      "1719/1719 [==============================] - 11s 6ms/step - loss: 2.2229e-05 - accuracy: 1.0000 - val_loss: 0.1171 - val_accuracy: 0.9860\n",
      "Epoch 5/5\n",
      "1719/1719 [==============================] - 12s 7ms/step - loss: 1.0489e-05 - accuracy: 1.0000 - val_loss: 0.1166 - val_accuracy: 0.9868\n"
     ]
    }
   ],
   "source": [
    "# 5.4 RMS Prop Optimizer\n",
    "optimizer=keras.optimizers.RMSprop(learning_rate=0.001,rho=0.9)\n",
    "model_A.compile(loss=\"sparse_categorical_crossentropy\",metrics=[\"accuracy\"],optimizer=optimizer)\n",
    "history_A5=model_A.fit(x_train_A,y_train_A,epochs=5,validation_data=(x_val_A,y_val_A))"
   ]
  },
  {
   "cell_type": "code",
   "execution_count": 56,
   "id": "475c4cd7",
   "metadata": {},
   "outputs": [
    {
     "name": "stdout",
     "output_type": "stream",
     "text": [
      "Epoch 1/5\n",
      "1719/1719 [==============================] - 15s 7ms/step - loss: 0.0156 - accuracy: 0.9961 - val_loss: 0.1469 - val_accuracy: 0.9776\n",
      "Epoch 2/5\n",
      "1719/1719 [==============================] - 11s 7ms/step - loss: 0.0139 - accuracy: 0.9961 - val_loss: 0.1505 - val_accuracy: 0.9806\n",
      "Epoch 3/5\n",
      "1719/1719 [==============================] - 12s 7ms/step - loss: 0.0116 - accuracy: 0.9966 - val_loss: 0.1584 - val_accuracy: 0.9814\n",
      "Epoch 4/5\n",
      "1719/1719 [==============================] - 11s 6ms/step - loss: 0.0099 - accuracy: 0.9969 - val_loss: 0.2192 - val_accuracy: 0.9768\n",
      "Epoch 5/5\n",
      "1719/1719 [==============================] - 12s 7ms/step - loss: 0.0137 - accuracy: 0.9963 - val_loss: 0.1594 - val_accuracy: 0.9814\n"
     ]
    }
   ],
   "source": [
    "# 5.5 Adam Optimizer\n",
    "optimizer=keras.optimizers.Adam(learning_rate=0.001,beta_1=0.9,beta_2=0.999)\n",
    "model_A.compile(loss=\"sparse_categorical_crossentropy\",metrics=[\"accuracy\"],optimizer=optimizer)\n",
    "history_A6=model_A.fit(x_train_A,y_train_A,epochs=5,validation_data=(x_val_A,y_val_A))"
   ]
  },
  {
   "cell_type": "markdown",
   "id": "b68d4e10",
   "metadata": {},
   "source": [
    "#### 6. Learning Rate Scheduler"
   ]
  },
  {
   "cell_type": "code",
   "execution_count": 112,
   "id": "75a38dd0",
   "metadata": {},
   "outputs": [
    {
     "data": {
      "text/plain": [
       "0.7943282347242815"
      ]
     },
     "execution_count": 112,
     "metadata": {},
     "output_type": "execute_result"
    }
   ],
   "source": [
    "0.1**(0.1)  #0.1=1/10"
   ]
  },
  {
   "cell_type": "code",
   "execution_count": 113,
   "id": "6e7e6cc3",
   "metadata": {},
   "outputs": [
    {
     "data": {
      "text/plain": [
       "0.6309573444801932"
      ]
     },
     "execution_count": 113,
     "metadata": {},
     "output_type": "execute_result"
    }
   ],
   "source": [
    "0.1**(0.2)   # 0.2=1/5"
   ]
  },
  {
   "cell_type": "code",
   "execution_count": 110,
   "id": "b09d0f0a",
   "metadata": {},
   "outputs": [
    {
     "name": "stdout",
     "output_type": "stream",
     "text": [
      "<function exponential_decay at 0x0000020DEC2BBB80>\n",
      "<keras.callbacks.LearningRateScheduler object at 0x0000020DEC5529D0>\n"
     ]
    },
    {
     "ename": "TypeError",
     "evalue": "fit() got an unexpected keyword argument 'learning_rate'",
     "output_type": "error",
     "traceback": [
      "\u001b[1;31m---------------------------------------------------------------------------\u001b[0m",
      "\u001b[1;31mTypeError\u001b[0m                                 Traceback (most recent call last)",
      "Input \u001b[1;32mIn [110]\u001b[0m, in \u001b[0;36m<cell line: 13>\u001b[1;34m()\u001b[0m\n\u001b[0;32m     11\u001b[0m lr_scheduler \u001b[38;5;241m=\u001b[39m keras\u001b[38;5;241m.\u001b[39mcallbacks\u001b[38;5;241m.\u001b[39mLearningRateScheduler(exponential_decay_fn)\n\u001b[0;32m     12\u001b[0m \u001b[38;5;28mprint\u001b[39m(lr_scheduler)\n\u001b[1;32m---> 13\u001b[0m history_A7\u001b[38;5;241m=\u001b[39m\u001b[43mmodel_A\u001b[49m\u001b[38;5;241;43m.\u001b[39;49m\u001b[43mfit\u001b[49m\u001b[43m(\u001b[49m\u001b[43mx_train_A\u001b[49m\u001b[43m,\u001b[49m\u001b[43my_train_A\u001b[49m\u001b[43m,\u001b[49m\u001b[43mvalidation_data\u001b[49m\u001b[38;5;241;43m=\u001b[39;49m\u001b[43m(\u001b[49m\u001b[43mx_val_A\u001b[49m\u001b[43m,\u001b[49m\u001b[43my_val_A\u001b[49m\u001b[43m)\u001b[49m\u001b[43m,\u001b[49m\u001b[43mcallbacks\u001b[49m\u001b[38;5;241;43m=\u001b[39;49m\u001b[43m[\u001b[49m\u001b[43mlr_scheduler\u001b[49m\u001b[43m]\u001b[49m\u001b[43m,\u001b[49m\u001b[43m \u001b[49m\u001b[43mepochs\u001b[49m\u001b[38;5;241;43m=\u001b[39;49m\u001b[38;5;241;43m15\u001b[39;49m\u001b[43m,\u001b[49m\u001b[43m \u001b[49m\u001b[43mlearning_rate\u001b[49m\u001b[38;5;241;43m=\u001b[39;49m\u001b[38;5;241;43m0.001\u001b[39;49m\u001b[43m)\u001b[49m\n",
      "File \u001b[1;32m~\\anaconda3\\lib\\site-packages\\keras\\utils\\traceback_utils.py:70\u001b[0m, in \u001b[0;36mfilter_traceback.<locals>.error_handler\u001b[1;34m(*args, **kwargs)\u001b[0m\n\u001b[0;32m     67\u001b[0m     filtered_tb \u001b[38;5;241m=\u001b[39m _process_traceback_frames(e\u001b[38;5;241m.\u001b[39m__traceback__)\n\u001b[0;32m     68\u001b[0m     \u001b[38;5;66;03m# To get the full stack trace, call:\u001b[39;00m\n\u001b[0;32m     69\u001b[0m     \u001b[38;5;66;03m# `tf.debugging.disable_traceback_filtering()`\u001b[39;00m\n\u001b[1;32m---> 70\u001b[0m     \u001b[38;5;28;01mraise\u001b[39;00m e\u001b[38;5;241m.\u001b[39mwith_traceback(filtered_tb) \u001b[38;5;28;01mfrom\u001b[39;00m \u001b[38;5;28mNone\u001b[39m\n\u001b[0;32m     71\u001b[0m \u001b[38;5;28;01mfinally\u001b[39;00m:\n\u001b[0;32m     72\u001b[0m     \u001b[38;5;28;01mdel\u001b[39;00m filtered_tb\n",
      "File \u001b[1;32m~\\anaconda3\\lib\\site-packages\\keras\\utils\\traceback_utils.py:65\u001b[0m, in \u001b[0;36mfilter_traceback.<locals>.error_handler\u001b[1;34m(*args, **kwargs)\u001b[0m\n\u001b[0;32m     63\u001b[0m filtered_tb \u001b[38;5;241m=\u001b[39m \u001b[38;5;28;01mNone\u001b[39;00m\n\u001b[0;32m     64\u001b[0m \u001b[38;5;28;01mtry\u001b[39;00m:\n\u001b[1;32m---> 65\u001b[0m     \u001b[38;5;28;01mreturn\u001b[39;00m fn(\u001b[38;5;241m*\u001b[39margs, \u001b[38;5;241m*\u001b[39m\u001b[38;5;241m*\u001b[39mkwargs)\n\u001b[0;32m     66\u001b[0m \u001b[38;5;28;01mexcept\u001b[39;00m \u001b[38;5;167;01mException\u001b[39;00m \u001b[38;5;28;01mas\u001b[39;00m e:\n\u001b[0;32m     67\u001b[0m     filtered_tb \u001b[38;5;241m=\u001b[39m _process_traceback_frames(e\u001b[38;5;241m.\u001b[39m__traceback__)\n",
      "\u001b[1;31mTypeError\u001b[0m: fit() got an unexpected keyword argument 'learning_rate'"
     ]
    }
   ],
   "source": [
    "# 6.1 Exponential Learning Rate Decay\n",
    "# s:The decay is the inverse of s (the num‐ber of steps it takes to divide the learning rate by one more unit)\n",
    "def exponential_decay(e,l):\n",
    "    print(\"e l = \",e,l)\n",
    "    if e==0:\n",
    "        return 0.0\n",
    "    return (l**(20/e))\n",
    "\n",
    "exponential_decay_fn = exponential_decay\n",
    "print(exponential_decay_fn)\n",
    "lr_scheduler = keras.callbacks.LearningRateScheduler(exponential_decay_fn)\n",
    "print(lr_scheduler)\n",
    "history_A7=model_A.fit(x_train_A,y_train_A,validation_data=(x_val_A,y_val_A),callbacks=[lr_scheduler], epochs=15)"
   ]
  },
  {
   "cell_type": "code",
   "execution_count": 70,
   "id": "87a7b43f",
   "metadata": {},
   "outputs": [],
   "source": [
    "# 6.2 Piecewise constant function\n",
    "def piecewise_constant_fn(epoch):\n",
    "    if epoch < 5:\n",
    "        return 0.01\n",
    "    elif epoch < 15:\n",
    "        return 0.005\n",
    "    else:\n",
    "        return 0.001\n"
   ]
  },
  {
   "cell_type": "code",
   "execution_count": 74,
   "id": "bf81c82b",
   "metadata": {},
   "outputs": [
    {
     "name": "stdout",
     "output_type": "stream",
     "text": [
      "<keras.callbacks.LearningRateScheduler object at 0x0000020DF2AB96A0>\n",
      "Epoch 1/10\n",
      "1719/1719 [==============================] - 9s 5ms/step - loss: 0.1821 - accuracy: 0.9715 - val_loss: 0.2554 - val_accuracy: 0.9640 - lr: 0.0100\n",
      "Epoch 2/10\n",
      "1719/1719 [==============================] - 9s 5ms/step - loss: 0.1812 - accuracy: 0.9737 - val_loss: 0.2672 - val_accuracy: 0.9646 - lr: 0.0100\n",
      "Epoch 3/10\n",
      "1719/1719 [==============================] - 9s 5ms/step - loss: 0.1802 - accuracy: 0.9748 - val_loss: 0.2761 - val_accuracy: 0.9658 - lr: 0.0100\n",
      "Epoch 4/10\n",
      "1719/1719 [==============================] - 9s 5ms/step - loss: 0.1711 - accuracy: 0.9765 - val_loss: 0.3778 - val_accuracy: 0.9654 - lr: 0.0100\n",
      "Epoch 5/10\n",
      "1719/1719 [==============================] - 9s 5ms/step - loss: 0.1764 - accuracy: 0.9770 - val_loss: 0.3174 - val_accuracy: 0.9710 - lr: 0.0100\n",
      "Epoch 6/10\n",
      "1719/1719 [==============================] - 9s 5ms/step - loss: 0.0734 - accuracy: 0.9879 - val_loss: 0.1945 - val_accuracy: 0.9758 - lr: 0.0050\n",
      "Epoch 7/10\n",
      "1719/1719 [==============================] - 9s 5ms/step - loss: 0.0541 - accuracy: 0.9906 - val_loss: 0.2317 - val_accuracy: 0.9710 - lr: 0.0050\n",
      "Epoch 8/10\n",
      "1719/1719 [==============================] - 9s 5ms/step - loss: 0.0577 - accuracy: 0.9906 - val_loss: 0.2419 - val_accuracy: 0.9750 - lr: 0.0050\n",
      "Epoch 9/10\n",
      "1719/1719 [==============================] - 9s 5ms/step - loss: 0.0565 - accuracy: 0.9904 - val_loss: 0.2642 - val_accuracy: 0.9772 - lr: 0.0050\n",
      "Epoch 10/10\n",
      "1719/1719 [==============================] - 9s 5ms/step - loss: 0.0558 - accuracy: 0.9915 - val_loss: 0.3783 - val_accuracy: 0.9772 - lr: 0.0050\n"
     ]
    }
   ],
   "source": [
    "lr_scheduler = keras.callbacks.LearningRateScheduler(piecewise_constant_fn)\n",
    "print(lr_scheduler)\n",
    "history_A8=model_A.fit(x_train_A,y_train_A,validation_data=(x_val_A,y_val_A),epochs=10,callbacks=[lr_scheduler])"
   ]
  },
  {
   "cell_type": "code",
   "execution_count": null,
   "id": "b3e94114",
   "metadata": {},
   "outputs": [],
   "source": [
    "lr_scheduler = keras.callbacks.ReduceLROnPlateau(factor=0.5, patience=5)"
   ]
  },
  {
   "cell_type": "code",
   "execution_count": null,
   "id": "d5ba72c6",
   "metadata": {},
   "outputs": [],
   "source": [
    "# 6.3 "
   ]
  },
  {
   "cell_type": "code",
   "execution_count": 69,
   "id": "00be7450",
   "metadata": {},
   "outputs": [
    {
     "data": {
      "text/plain": [
       "0.009048374180359595"
      ]
     },
     "execution_count": 69,
     "metadata": {},
     "output_type": "execute_result"
    }
   ],
   "source": [
    "import math\n",
    "0.01 * math.exp(-0.1)"
   ]
  },
  {
   "cell_type": "markdown",
   "id": "6de44ff7",
   "metadata": {},
   "source": [
    "#### 7. Regularizer"
   ]
  },
  {
   "cell_type": "markdown",
   "id": "854c09d4",
   "metadata": {},
   "source": [
    "##### 7.a l1 and l2 regularizer"
   ]
  },
  {
   "cell_type": "code",
   "execution_count": 75,
   "id": "10d18ed3",
   "metadata": {},
   "outputs": [],
   "source": [
    "layer = keras.layers.Dense(100, activation=\"elu\",\n",
    " kernel_initializer=\"he_normal\",\n",
    " kernel_regularizer=keras.regularizers.l2(0.01))\n"
   ]
  },
  {
   "cell_type": "code",
   "execution_count": 76,
   "id": "447055af",
   "metadata": {},
   "outputs": [],
   "source": [
    "# To vaoid writing function definition again and again\n",
    "from functools import partial\n",
    "\n",
    "RegularizedDense = partial(keras.layers.Dense,\n",
    " activation=\"elu\",\n",
    " kernel_initializer=\"he_normal\",\n",
    " kernel_regularizer=keras.regularizers.l2(0.01))\n",
    "\n",
    "model = keras.models.Sequential([\n",
    " keras.layers.Flatten(input_shape=[28, 28]),\n",
    " RegularizedDense(300),\n",
    " RegularizedDense(100),\n",
    " RegularizedDense(10, activation=\"softmax\",\n",
    " kernel_initializer=\"glorot_uniform\")\n",
    "])\n"
   ]
  },
  {
   "cell_type": "markdown",
   "id": "9b27e269",
   "metadata": {},
   "source": [
    "##### 7.b Dropout"
   ]
  },
  {
   "cell_type": "code",
   "execution_count": 77,
   "id": "58f49799",
   "metadata": {},
   "outputs": [],
   "source": [
    "model_A_drop = keras.models.Sequential([\n",
    " keras.layers.Flatten(input_shape=[28, 28]),\n",
    " keras.layers.Dropout(rate=0.2),\n",
    " keras.layers.Dense(300, activation=\"elu\", kernel_initializer=\"he_normal\"),\n",
    " keras.layers.Dropout(rate=0.2),\n",
    " keras.layers.Dense(100, activation=\"elu\", kernel_initializer=\"he_normal\"),\n",
    " keras.layers.Dropout(rate=0.2),\n",
    " keras.layers.Dense(10, activation=\"softmax\")\n",
    "])"
   ]
  },
  {
   "cell_type": "code",
   "execution_count": 82,
   "id": "7fecb1c1",
   "metadata": {},
   "outputs": [],
   "source": [
    "optimizer=keras.optimizers.Adam(learning_rate=0.001,beta_1=0.9,beta_2=0.999)"
   ]
  },
  {
   "cell_type": "code",
   "execution_count": 83,
   "id": "73278bcb",
   "metadata": {},
   "outputs": [
    {
     "name": "stdout",
     "output_type": "stream",
     "text": [
      "Epoch 1/5\n",
      "1719/1719 [==============================] - 12s 6ms/step - loss: 0.2348 - accuracy: 0.9273 - val_loss: 0.1206 - val_accuracy: 0.9642\n",
      "Epoch 2/5\n",
      "1719/1719 [==============================] - 12s 7ms/step - loss: 0.1701 - accuracy: 0.9466 - val_loss: 0.0975 - val_accuracy: 0.9710\n",
      "Epoch 3/5\n",
      "1719/1719 [==============================] - 12s 7ms/step - loss: 0.1401 - accuracy: 0.9557 - val_loss: 0.0820 - val_accuracy: 0.9770\n",
      "Epoch 4/5\n",
      "1719/1719 [==============================] - 12s 7ms/step - loss: 0.1250 - accuracy: 0.9603 - val_loss: 0.0769 - val_accuracy: 0.9806\n",
      "Epoch 5/5\n",
      "1719/1719 [==============================] - 11s 6ms/step - loss: 0.1105 - accuracy: 0.9649 - val_loss: 0.0804 - val_accuracy: 0.9780\n"
     ]
    }
   ],
   "source": [
    "model_A_drop.compile(loss=\"sparse_categorical_crossentropy\",metrics=[\"accuracy\"],optimizer=optimizer)\n",
    "history_A_drop=model_A_drop.fit(x_train_A,y_train_A,epochs=5,validation_data=(x_val_A,y_val_A))"
   ]
  },
  {
   "cell_type": "code",
   "execution_count": null,
   "id": "bc32bc22",
   "metadata": {},
   "outputs": [],
   "source": [
    "# Dropout is carried on train set rather than test set.\n",
    "# Dropout layer is active on train set and inactive on test set"
   ]
  },
  {
   "cell_type": "markdown",
   "id": "52d8ccfa",
   "metadata": {},
   "source": [
    "##### 7.c Monte -Carle Dropout"
   ]
  },
  {
   "cell_type": "code",
   "execution_count": 84,
   "id": "aeb48c6e",
   "metadata": {},
   "outputs": [],
   "source": [
    "y_probas=np.stack([model_A(x_test_A,training=True) for sample in range(100)])\n",
    "y_proba=y_probas.mean(axis=0)"
   ]
  },
  {
   "cell_type": "code",
   "execution_count": 86,
   "id": "273c8f2f",
   "metadata": {},
   "outputs": [
    {
     "name": "stdout",
     "output_type": "stream",
     "text": [
      "1/1 [==============================] - 0s 139ms/step\n"
     ]
    },
    {
     "data": {
      "text/plain": [
       "array([[0., 0., 0., 0., 0., 0., 0., 1., 0., 0.]], dtype=float32)"
      ]
     },
     "execution_count": 86,
     "metadata": {},
     "output_type": "execute_result"
    }
   ],
   "source": [
    "np.round(model_A.predict(x_test_A[:1],2))"
   ]
  },
  {
   "cell_type": "code",
   "execution_count": 87,
   "id": "e54c9f6a",
   "metadata": {},
   "outputs": [
    {
     "data": {
      "text/plain": [
       "array([[[0., 0., 0., 0., 0., 0., 0., 1., 0., 0.]],\n",
       "\n",
       "       [[0., 0., 0., 0., 0., 0., 0., 1., 0., 0.]],\n",
       "\n",
       "       [[0., 0., 0., 0., 0., 0., 0., 1., 0., 0.]],\n",
       "\n",
       "       [[0., 0., 0., 0., 0., 0., 0., 1., 0., 0.]],\n",
       "\n",
       "       [[0., 0., 0., 0., 0., 0., 0., 1., 0., 0.]],\n",
       "\n",
       "       [[0., 0., 0., 0., 0., 0., 0., 1., 0., 0.]],\n",
       "\n",
       "       [[0., 0., 0., 0., 0., 0., 0., 1., 0., 0.]],\n",
       "\n",
       "       [[0., 0., 0., 0., 0., 0., 0., 1., 0., 0.]],\n",
       "\n",
       "       [[0., 0., 0., 0., 0., 0., 0., 1., 0., 0.]],\n",
       "\n",
       "       [[0., 0., 0., 0., 0., 0., 0., 1., 0., 0.]],\n",
       "\n",
       "       [[0., 0., 0., 0., 0., 0., 0., 1., 0., 0.]],\n",
       "\n",
       "       [[0., 0., 0., 0., 0., 0., 0., 1., 0., 0.]],\n",
       "\n",
       "       [[0., 0., 0., 0., 0., 0., 0., 1., 0., 0.]],\n",
       "\n",
       "       [[0., 0., 0., 0., 0., 0., 0., 1., 0., 0.]],\n",
       "\n",
       "       [[0., 0., 0., 0., 0., 0., 0., 1., 0., 0.]],\n",
       "\n",
       "       [[0., 0., 0., 0., 0., 0., 0., 1., 0., 0.]],\n",
       "\n",
       "       [[0., 0., 0., 0., 0., 0., 0., 1., 0., 0.]],\n",
       "\n",
       "       [[0., 0., 0., 0., 0., 0., 0., 1., 0., 0.]],\n",
       "\n",
       "       [[0., 0., 0., 0., 0., 0., 0., 1., 0., 0.]],\n",
       "\n",
       "       [[0., 0., 0., 0., 0., 0., 0., 1., 0., 0.]],\n",
       "\n",
       "       [[0., 0., 0., 0., 0., 0., 0., 1., 0., 0.]],\n",
       "\n",
       "       [[0., 0., 0., 0., 0., 0., 0., 1., 0., 0.]],\n",
       "\n",
       "       [[0., 0., 0., 0., 0., 0., 0., 1., 0., 0.]],\n",
       "\n",
       "       [[0., 0., 0., 0., 0., 0., 0., 1., 0., 0.]],\n",
       "\n",
       "       [[0., 0., 0., 0., 0., 0., 0., 1., 0., 0.]],\n",
       "\n",
       "       [[0., 0., 0., 0., 0., 0., 0., 1., 0., 0.]],\n",
       "\n",
       "       [[0., 0., 0., 0., 0., 0., 0., 1., 0., 0.]],\n",
       "\n",
       "       [[0., 0., 0., 0., 0., 0., 0., 1., 0., 0.]],\n",
       "\n",
       "       [[0., 0., 0., 0., 0., 0., 0., 1., 0., 0.]],\n",
       "\n",
       "       [[0., 0., 0., 0., 0., 0., 0., 1., 0., 0.]],\n",
       "\n",
       "       [[0., 0., 0., 0., 0., 0., 0., 1., 0., 0.]],\n",
       "\n",
       "       [[0., 0., 0., 0., 0., 0., 0., 1., 0., 0.]],\n",
       "\n",
       "       [[0., 0., 0., 0., 0., 0., 0., 1., 0., 0.]],\n",
       "\n",
       "       [[0., 0., 0., 0., 0., 0., 0., 1., 0., 0.]],\n",
       "\n",
       "       [[0., 0., 0., 0., 0., 0., 0., 1., 0., 0.]],\n",
       "\n",
       "       [[0., 0., 0., 0., 0., 0., 0., 1., 0., 0.]],\n",
       "\n",
       "       [[0., 0., 0., 0., 0., 0., 0., 1., 0., 0.]],\n",
       "\n",
       "       [[0., 0., 0., 0., 0., 0., 0., 1., 0., 0.]],\n",
       "\n",
       "       [[0., 0., 0., 0., 0., 0., 0., 1., 0., 0.]],\n",
       "\n",
       "       [[0., 0., 0., 0., 0., 0., 0., 1., 0., 0.]],\n",
       "\n",
       "       [[0., 0., 0., 0., 0., 0., 0., 1., 0., 0.]],\n",
       "\n",
       "       [[0., 0., 0., 0., 0., 0., 0., 1., 0., 0.]],\n",
       "\n",
       "       [[0., 0., 0., 0., 0., 0., 0., 1., 0., 0.]],\n",
       "\n",
       "       [[0., 0., 0., 0., 0., 0., 0., 1., 0., 0.]],\n",
       "\n",
       "       [[0., 0., 0., 0., 0., 0., 0., 1., 0., 0.]],\n",
       "\n",
       "       [[0., 0., 0., 0., 0., 0., 0., 1., 0., 0.]],\n",
       "\n",
       "       [[0., 0., 0., 0., 0., 0., 0., 1., 0., 0.]],\n",
       "\n",
       "       [[0., 0., 0., 0., 0., 0., 0., 1., 0., 0.]],\n",
       "\n",
       "       [[0., 0., 0., 0., 0., 0., 0., 1., 0., 0.]],\n",
       "\n",
       "       [[0., 0., 0., 0., 0., 0., 0., 1., 0., 0.]],\n",
       "\n",
       "       [[0., 0., 0., 0., 0., 0., 0., 1., 0., 0.]],\n",
       "\n",
       "       [[0., 0., 0., 0., 0., 0., 0., 1., 0., 0.]],\n",
       "\n",
       "       [[0., 0., 0., 0., 0., 0., 0., 1., 0., 0.]],\n",
       "\n",
       "       [[0., 0., 0., 0., 0., 0., 0., 1., 0., 0.]],\n",
       "\n",
       "       [[0., 0., 0., 0., 0., 0., 0., 1., 0., 0.]],\n",
       "\n",
       "       [[0., 0., 0., 0., 0., 0., 0., 1., 0., 0.]],\n",
       "\n",
       "       [[0., 0., 0., 0., 0., 0., 0., 1., 0., 0.]],\n",
       "\n",
       "       [[0., 0., 0., 0., 0., 0., 0., 1., 0., 0.]],\n",
       "\n",
       "       [[0., 0., 0., 0., 0., 0., 0., 1., 0., 0.]],\n",
       "\n",
       "       [[0., 0., 0., 0., 0., 0., 0., 1., 0., 0.]],\n",
       "\n",
       "       [[0., 0., 0., 0., 0., 0., 0., 1., 0., 0.]],\n",
       "\n",
       "       [[0., 0., 0., 0., 0., 0., 0., 1., 0., 0.]],\n",
       "\n",
       "       [[0., 0., 0., 0., 0., 0., 0., 1., 0., 0.]],\n",
       "\n",
       "       [[0., 0., 0., 0., 0., 0., 0., 1., 0., 0.]],\n",
       "\n",
       "       [[0., 0., 0., 0., 0., 0., 0., 1., 0., 0.]],\n",
       "\n",
       "       [[0., 0., 0., 0., 0., 0., 0., 1., 0., 0.]],\n",
       "\n",
       "       [[0., 0., 0., 0., 0., 0., 0., 1., 0., 0.]],\n",
       "\n",
       "       [[0., 0., 0., 0., 0., 0., 0., 1., 0., 0.]],\n",
       "\n",
       "       [[0., 0., 0., 0., 0., 0., 0., 1., 0., 0.]],\n",
       "\n",
       "       [[0., 0., 0., 0., 0., 0., 0., 1., 0., 0.]],\n",
       "\n",
       "       [[0., 0., 0., 0., 0., 0., 0., 1., 0., 0.]],\n",
       "\n",
       "       [[0., 0., 0., 0., 0., 0., 0., 1., 0., 0.]],\n",
       "\n",
       "       [[0., 0., 0., 0., 0., 0., 0., 1., 0., 0.]],\n",
       "\n",
       "       [[0., 0., 0., 0., 0., 0., 0., 1., 0., 0.]],\n",
       "\n",
       "       [[0., 0., 0., 0., 0., 0., 0., 1., 0., 0.]],\n",
       "\n",
       "       [[0., 0., 0., 0., 0., 0., 0., 1., 0., 0.]],\n",
       "\n",
       "       [[0., 0., 0., 0., 0., 0., 0., 1., 0., 0.]],\n",
       "\n",
       "       [[0., 0., 0., 0., 0., 0., 0., 1., 0., 0.]],\n",
       "\n",
       "       [[0., 0., 0., 0., 0., 0., 0., 1., 0., 0.]],\n",
       "\n",
       "       [[0., 0., 0., 0., 0., 0., 0., 1., 0., 0.]],\n",
       "\n",
       "       [[0., 0., 0., 0., 0., 0., 0., 1., 0., 0.]],\n",
       "\n",
       "       [[0., 0., 0., 0., 0., 0., 0., 1., 0., 0.]],\n",
       "\n",
       "       [[0., 0., 0., 0., 0., 0., 0., 1., 0., 0.]],\n",
       "\n",
       "       [[0., 0., 0., 0., 0., 0., 0., 1., 0., 0.]],\n",
       "\n",
       "       [[0., 0., 0., 0., 0., 0., 0., 1., 0., 0.]],\n",
       "\n",
       "       [[0., 0., 0., 0., 0., 0., 0., 1., 0., 0.]],\n",
       "\n",
       "       [[0., 0., 0., 0., 0., 0., 0., 1., 0., 0.]],\n",
       "\n",
       "       [[0., 0., 0., 0., 0., 0., 0., 1., 0., 0.]],\n",
       "\n",
       "       [[0., 0., 0., 0., 0., 0., 0., 1., 0., 0.]],\n",
       "\n",
       "       [[0., 0., 0., 0., 0., 0., 0., 1., 0., 0.]],\n",
       "\n",
       "       [[0., 0., 0., 0., 0., 0., 0., 1., 0., 0.]],\n",
       "\n",
       "       [[0., 0., 0., 0., 0., 0., 0., 1., 0., 0.]],\n",
       "\n",
       "       [[0., 0., 0., 0., 0., 0., 0., 1., 0., 0.]],\n",
       "\n",
       "       [[0., 0., 0., 0., 0., 0., 0., 1., 0., 0.]],\n",
       "\n",
       "       [[0., 0., 0., 0., 0., 0., 0., 1., 0., 0.]],\n",
       "\n",
       "       [[0., 0., 0., 0., 0., 0., 0., 1., 0., 0.]],\n",
       "\n",
       "       [[0., 0., 0., 0., 0., 0., 0., 1., 0., 0.]],\n",
       "\n",
       "       [[0., 0., 0., 0., 0., 0., 0., 1., 0., 0.]],\n",
       "\n",
       "       [[0., 0., 0., 0., 0., 0., 0., 1., 0., 0.]],\n",
       "\n",
       "       [[0., 0., 0., 0., 0., 0., 0., 1., 0., 0.]]], dtype=float32)"
      ]
     },
     "execution_count": 87,
     "metadata": {},
     "output_type": "execute_result"
    }
   ],
   "source": [
    "np.round(y_probas[:,:1],2)"
   ]
  },
  {
   "cell_type": "code",
   "execution_count": 88,
   "id": "86105bdd",
   "metadata": {},
   "outputs": [
    {
     "data": {
      "text/plain": [
       "array([[0., 0., 0., 0., 0., 0., 0., 1., 0., 0.]], dtype=float32)"
      ]
     },
     "execution_count": 88,
     "metadata": {},
     "output_type": "execute_result"
    }
   ],
   "source": [
    "np.round(y_proba[:1],2)"
   ]
  },
  {
   "cell_type": "code",
   "execution_count": 90,
   "id": "f3c8e368",
   "metadata": {},
   "outputs": [
    {
     "data": {
      "text/plain": [
       "array([[0., 0., 0., 0., 0., 0., 0., 0., 0., 0.]], dtype=float32)"
      ]
     },
     "execution_count": 90,
     "metadata": {},
     "output_type": "execute_result"
    }
   ],
   "source": [
    "y_std=y_probas.std(axis=0)\n",
    "np.round(y_std[:1],2)"
   ]
  },
  {
   "cell_type": "markdown",
   "id": "a45c9b12",
   "metadata": {},
   "source": [
    "##### 7.d Max-Norm regularization"
   ]
  },
  {
   "cell_type": "code",
   "execution_count": 92,
   "id": "ba0a784b",
   "metadata": {},
   "outputs": [
    {
     "data": {
      "text/plain": [
       "<keras.layers.core.dense.Dense at 0x20de9e382e0>"
      ]
     },
     "execution_count": 92,
     "metadata": {},
     "output_type": "execute_result"
    }
   ],
   "source": [
    "# To constrain weight to help alleviate the unstable gradient problem(if not using Batch Normalisation)\n",
    "keras.layers.Dense(100,activation=\"elu\",kernel_initializer=\"he_normal\",kernel_constraint=keras.constraints.max_norm(1))"
   ]
  },
  {
   "cell_type": "code",
   "execution_count": null,
   "id": "fed331a7",
   "metadata": {},
   "outputs": [],
   "source": []
  }
 ],
 "metadata": {
  "kernelspec": {
   "display_name": "Python 3",
   "language": "python",
   "name": "python3"
  },
  "language_info": {
   "codemirror_mode": {
    "name": "ipython",
    "version": 3
   },
   "file_extension": ".py",
   "mimetype": "text/x-python",
   "name": "python",
   "nbconvert_exporter": "python",
   "pygments_lexer": "ipython3",
   "version": "3.9.12"
  }
 },
 "nbformat": 4,
 "nbformat_minor": 5
}
