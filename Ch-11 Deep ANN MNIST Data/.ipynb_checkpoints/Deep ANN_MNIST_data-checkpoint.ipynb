{
 "cells": [
  {
   "cell_type": "code",
   "execution_count": 1,
   "id": "1759fd66",
   "metadata": {},
   "outputs": [],
   "source": [
    "import pandas as pd\n",
    "import numpy as np\n",
    "import matplotlib.pyplot as plt\n",
    "import tensorflow as tf\n",
    "from tensorflow import keras"
   ]
  },
  {
   "cell_type": "code",
   "execution_count": 2,
   "id": "c822718d",
   "metadata": {},
   "outputs": [],
   "source": [
    "from keras.datasets import fashion_mnist"
   ]
  },
  {
   "cell_type": "code",
   "execution_count": 3,
   "id": "4bfe4c8f",
   "metadata": {},
   "outputs": [],
   "source": [
    "(x_train_full, y_train_full), (x_test, y_test) = fashion_mnist.load_data()"
   ]
  },
  {
   "cell_type": "code",
   "execution_count": 4,
   "id": "d519aac2",
   "metadata": {},
   "outputs": [
    {
     "name": "stdout",
     "output_type": "stream",
     "text": [
      "(60000, 28, 28) (60000,)\n",
      "(10000, 28, 28) (10000,)\n"
     ]
    }
   ],
   "source": [
    "print(x_train_full.shape,y_train_full.shape)\n",
    "print(x_test.shape,y_test.shape)"
   ]
  },
  {
   "cell_type": "code",
   "execution_count": 5,
   "id": "d04194da",
   "metadata": {},
   "outputs": [],
   "source": [
    "#x_test[5]"
   ]
  },
  {
   "cell_type": "code",
   "execution_count": 6,
   "id": "29884a5a",
   "metadata": {},
   "outputs": [],
   "source": [
    "x_val=x_train_full[:5000]/255\n",
    "x_train=x_train_full[5000:]/255\n",
    "y_val=y_train_full[:5000]\n",
    "y_train=y_train_full[5000:]\n",
    "x_test=x_test/255"
   ]
  },
  {
   "cell_type": "code",
   "execution_count": 7,
   "id": "f2403be5",
   "metadata": {},
   "outputs": [],
   "source": [
    "model=keras.models.Sequential([keras.layers.Flatten(input_shape=[28,28]),\n",
    "                              keras.layers.Dense(300,activation=\"elu\"),\n",
    "                              keras.layers.Dense(100,activation=\"elu\"),\n",
    "                              keras.layers.Dense(10,activation=\"softmax\")])\n",
    "\n",
    "model.compile(loss=\"sparse_categorical_crossentropy\",optimizer=\"adam\",metrics=[\"accuracy\"])\n"
   ]
  },
  {
   "cell_type": "code",
   "execution_count": 8,
   "id": "8e99fe8e",
   "metadata": {},
   "outputs": [
    {
     "name": "stdout",
     "output_type": "stream",
     "text": [
      "(55000, 28, 28) (55000,)\n"
     ]
    }
   ],
   "source": [
    "print(x_train.shape,y_train.shape)"
   ]
  },
  {
   "cell_type": "code",
   "execution_count": 9,
   "id": "a97fb53b",
   "metadata": {},
   "outputs": [
    {
     "name": "stdout",
     "output_type": "stream",
     "text": [
      "(5000, 28, 28) (5000,)\n"
     ]
    }
   ],
   "source": [
    "print(x_val.shape,y_val.shape)"
   ]
  },
  {
   "cell_type": "code",
   "execution_count": 10,
   "id": "25814ef9",
   "metadata": {},
   "outputs": [],
   "source": [
    "#model.fit(x_train,y_train,epochs=20,validation_data=(x_val,y_val))"
   ]
  },
  {
   "cell_type": "code",
   "execution_count": 11,
   "id": "f2c4f71f",
   "metadata": {},
   "outputs": [],
   "source": [
    "import pickle"
   ]
  },
  {
   "cell_type": "code",
   "execution_count": 12,
   "id": "5d9bfe33",
   "metadata": {},
   "outputs": [],
   "source": [
    "#pickle.dump(model,open('ANN_MNIST_vanila.sav',\"wb\"))"
   ]
  },
  {
   "cell_type": "code",
   "execution_count": null,
   "id": "3bc73c3d",
   "metadata": {},
   "outputs": [],
   "source": [
    "# model1: vanila deep ANN MNIST model\n",
    "model1="
   ]
  }
 ],
 "metadata": {
  "kernelspec": {
   "display_name": "Python 3",
   "language": "python",
   "name": "python3"
  },
  "language_info": {
   "codemirror_mode": {
    "name": "ipython",
    "version": 3
   },
   "file_extension": ".py",
   "mimetype": "text/x-python",
   "name": "python",
   "nbconvert_exporter": "python",
   "pygments_lexer": "ipython3",
   "version": "3.9.12"
  }
 },
 "nbformat": 4,
 "nbformat_minor": 5
}
