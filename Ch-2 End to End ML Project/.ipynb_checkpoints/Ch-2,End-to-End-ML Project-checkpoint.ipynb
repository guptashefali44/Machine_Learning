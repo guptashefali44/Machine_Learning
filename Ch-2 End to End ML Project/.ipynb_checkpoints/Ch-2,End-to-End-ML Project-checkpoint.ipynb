{
 "cells": [
  {
   "cell_type": "code",
   "execution_count": null,
   "id": "e416d6f3",
   "metadata": {},
   "outputs": [],
   "source": [
    "#Pipeline: A sequence of data processing components is called a data pipeline."
   ]
  },
  {
   "cell_type": "code",
   "execution_count": null,
   "id": "722d1984",
   "metadata": {},
   "outputs": [],
   "source": [
    "# Batch learning vs online learning\n",
    "#In batch learning, the model processes a fixed set of training data all at once, while in online learning, the model processes data as it arrives sequentially."
   ]
  },
  {
   "cell_type": "code",
   "execution_count": null,
   "id": "4617370b",
   "metadata": {},
   "outputs": [],
   "source": [
    "# performance matric in case of regression.\n",
    "# Generally RMSE but if there are many outliers MAE can also be used."
   ]
  },
  {
   "cell_type": "code",
   "execution_count": null,
   "id": "47121453",
   "metadata": {},
   "outputs": [],
   "source": [
    "#data from :\n",
    "#https://github.com/ageron/handson-ml2"
   ]
  },
  {
   "cell_type": "code",
   "execution_count": null,
   "id": "6d88ee87",
   "metadata": {},
   "outputs": [],
   "source": [
    "# urllib python module: Its main purpose is to allow Python programs to easily access and interact with web resources, such as web pages, web services, and APIs."
   ]
  },
  {
   "cell_type": "code",
   "execution_count": 1,
   "id": "8ad2e3e7",
   "metadata": {},
   "outputs": [],
   "source": [
    "import os\n",
    "import tarfile\n",
    "import urllib"
   ]
  },
  {
   "cell_type": "code",
   "execution_count": 2,
   "id": "3f105b04",
   "metadata": {},
   "outputs": [
    {
     "name": "stdout",
     "output_type": "stream",
     "text": [
      "https://github.com/ageron/handson-ml2/master/datasets/housing/housing.tgz\n"
     ]
    }
   ],
   "source": [
    "DOWNLOAD_ROOT='https://github.com/ageron/handson-ml2/master/'\n",
    "HOUSING_PATH = \"datasets/housing\"\n",
    "HOUSING_URL = DOWNLOAD_ROOT + HOUSING_PATH + \"/housing.tgz\"\n",
    "\n",
    "print(HOUSING_URL)"
   ]
  },
  {
   "cell_type": "code",
   "execution_count": 3,
   "id": "63ea1cf0",
   "metadata": {},
   "outputs": [],
   "source": [
    "if not os.path.isdir(HOUSING_PATH):\n",
    " os.makedirs(HOUSING_PATH)"
   ]
  },
  {
   "cell_type": "code",
   "execution_count": null,
   "id": "5c442290",
   "metadata": {},
   "outputs": [],
   "source": [
    "def fetch_housing_data(housing_url=HOUSING_URL, housing_path=HOUSING_PATH):\n",
    " if not os.path.isdir(housing_path):\n",
    " os.makedirs(housing_path)\n",
    " tgz_path = os.path.join(housing_path, \"housing.tgz\")\n",
    " urllib.request.urlretrieve(housing_url, tgz_path)\n",
    " housing_tgz = tarfile.open(tgz_path)\n",
    " housing_tgz.extractall(path=housing_path)\n",
    " housing_tgz.close()"
   ]
  }
 ],
 "metadata": {
  "kernelspec": {
   "display_name": "Python 3",
   "language": "python",
   "name": "python3"
  },
  "language_info": {
   "codemirror_mode": {
    "name": "ipython",
    "version": 3
   },
   "file_extension": ".py",
   "mimetype": "text/x-python",
   "name": "python",
   "nbconvert_exporter": "python",
   "pygments_lexer": "ipython3",
   "version": "3.9.12"
  }
 },
 "nbformat": 4,
 "nbformat_minor": 5
}
