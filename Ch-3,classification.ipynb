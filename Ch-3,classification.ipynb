{
 "cells": [
  {
   "cell_type": "code",
   "execution_count": 1,
   "id": "64553eb3",
   "metadata": {},
   "outputs": [],
   "source": [
    "from sklearn.datasets import fetch_openml"
   ]
  },
  {
   "cell_type": "code",
   "execution_count": 2,
   "id": "28acd739",
   "metadata": {},
   "outputs": [],
   "source": [
    "mnist=fetch_openml('mnist_784',version=1,as_frame= False)\n"
   ]
  },
  {
   "cell_type": "code",
   "execution_count": 3,
   "id": "51014028",
   "metadata": {},
   "outputs": [
    {
     "data": {
      "text/plain": [
       "dict_keys(['data', 'target', 'frame', 'categories', 'feature_names', 'target_names', 'DESCR', 'details', 'url'])"
      ]
     },
     "execution_count": 3,
     "metadata": {},
     "output_type": "execute_result"
    }
   ],
   "source": [
    "mnist.keys()"
   ]
  },
  {
   "cell_type": "code",
   "execution_count": 4,
   "id": "a50e83a0",
   "metadata": {},
   "outputs": [
    {
     "data": {
      "text/plain": [
       "'\"Datasets loaded by Scikit-Learn generally have a similar dictionary structure includ‐\\ning:'"
      ]
     },
     "execution_count": 4,
     "metadata": {},
     "output_type": "execute_result"
    }
   ],
   "source": [
    "\"\"\"\"Datasets loaded by Scikit-Learn generally have a similar dictionary structure includ‐\n",
    "ing:\"\"\"\n",
    "\n",
    "#DESCR: key describing the dataset\n",
    "# data: key containing an array with one row per instance and one column per feature\n",
    "#target:A key containing an array with the lables"
   ]
  },
  {
   "cell_type": "code",
   "execution_count": 5,
   "id": "952253f4",
   "metadata": {},
   "outputs": [
    {
     "name": "stdout",
     "output_type": "stream",
     "text": [
      "<class 'sklearn.utils.Bunch'>\n"
     ]
    }
   ],
   "source": [
    "print(type(mnist))"
   ]
  },
  {
   "cell_type": "code",
   "execution_count": 6,
   "id": "54b71bf5",
   "metadata": {},
   "outputs": [
    {
     "name": "stdout",
     "output_type": "stream",
     "text": [
      "(70000, 784)\n",
      "(70000,)\n"
     ]
    }
   ],
   "source": [
    "X,y=mnist['data'],mnist['target']\n",
    "print(X.shape)\n",
    "print(y.shape)"
   ]
  },
  {
   "cell_type": "code",
   "execution_count": 7,
   "id": "22880a9d",
   "metadata": {},
   "outputs": [
    {
     "data": {
      "text/plain": [
       "784"
      ]
     },
     "execution_count": 7,
     "metadata": {},
     "output_type": "execute_result"
    }
   ],
   "source": [
    "28*28"
   ]
  },
  {
   "cell_type": "code",
   "execution_count": 8,
   "id": "d2cb3f89",
   "metadata": {},
   "outputs": [],
   "source": [
    "import matplotlib as mpl\n",
    "import matplotlib.pyplot as plt"
   ]
  },
  {
   "cell_type": "code",
   "execution_count": 9,
   "id": "4b476b49",
   "metadata": {},
   "outputs": [
    {
     "name": "stdout",
     "output_type": "stream",
     "text": [
      "(784,)\n",
      "(28, 28)\n"
     ]
    }
   ],
   "source": [
    "some_digit=X[0]\n",
    "print(some_digit.shape)\n",
    "some_digit_image=some_digit.reshape(28,28)\n",
    "print(some_digit_image.shape)"
   ]
  },
  {
   "cell_type": "code",
   "execution_count": 10,
   "id": "ad3bc379",
   "metadata": {},
   "outputs": [
    {
     "data": {
      "image/png": "[encoded data removed]",
      "text/plain": [
       "<Figure size 432x288 with 1 Axes>"
      ]
     },
     "metadata": {
      "needs_background": "light"
     },
     "output_type": "display_data"
    }
   ],
   "source": [
    "plt.imshow(some_digit_image,cmap=\"binary\")\n",
    "plt.axis(\"off\")\n",
    "plt.show()"
   ]
  },
  {
   "cell_type": "code",
   "execution_count": 11,
   "id": "30f1bafb",
   "metadata": {},
   "outputs": [
    {
     "data": {
      "text/plain": [
       "'5'"
      ]
     },
     "execution_count": 11,
     "metadata": {},
     "output_type": "execute_result"
    }
   ],
   "source": [
    "y[0]"
   ]
  },
  {
   "cell_type": "code",
   "execution_count": 12,
   "id": "ce9a3a9e",
   "metadata": {},
   "outputs": [
    {
     "data": {
      "text/plain": [
       "array([5, 0, 4, ..., 4, 5, 6])"
      ]
     },
     "execution_count": 12,
     "metadata": {},
     "output_type": "execute_result"
    }
   ],
   "source": [
    "y=y.astype(int)\n",
    "y"
   ]
  },
  {
   "cell_type": "code",
   "execution_count": 13,
   "id": "67a141a4",
   "metadata": {},
   "outputs": [],
   "source": [
    "X_train, X_test, y_train, y_test = X[:60000], X[60000:], y[:60000], y[60000:]"
   ]
  },
  {
   "cell_type": "code",
   "execution_count": 14,
   "id": "59094e4b",
   "metadata": {},
   "outputs": [
    {
     "name": "stdout",
     "output_type": "stream",
     "text": [
      "(60000, 784)\n",
      "(10000, 784)\n",
      "(60000,)\n",
      "(10000,)\n"
     ]
    }
   ],
   "source": [
    "print(X_train.shape)\n",
    "print(X_test.shape)\n",
    "print(y_train.shape)\n",
    "print(y_test.shape)"
   ]
  },
  {
   "cell_type": "code",
   "execution_count": 15,
   "id": "e8acd21e",
   "metadata": {},
   "outputs": [
    {
     "data": {
      "text/plain": [
       "array([[0., 0., 0., ..., 0., 0., 0.],\n",
       "       [0., 0., 0., ..., 0., 0., 0.],\n",
       "       [0., 0., 0., ..., 0., 0., 0.],\n",
       "       ...,\n",
       "       [0., 0., 0., ..., 0., 0., 0.],\n",
       "       [0., 0., 0., ..., 0., 0., 0.],\n",
       "       [0., 0., 0., ..., 0., 0., 0.]])"
      ]
     },
     "execution_count": 15,
     "metadata": {},
     "output_type": "execute_result"
    }
   ],
   "source": [
    "X_train"
   ]
  },
  {
   "cell_type": "code",
   "execution_count": 16,
   "id": "107b5153",
   "metadata": {},
   "outputs": [
    {
     "data": {
      "text/plain": [
       "array([5, 0, 4, ..., 5, 6, 8])"
      ]
     },
     "execution_count": 16,
     "metadata": {},
     "output_type": "execute_result"
    }
   ],
   "source": [
    "y_train"
   ]
  },
  {
   "cell_type": "code",
   "execution_count": 17,
   "id": "12faec04",
   "metadata": {},
   "outputs": [
    {
     "name": "stdout",
     "output_type": "stream",
     "text": [
      "100\n"
     ]
    },
    {
     "data": {
      "text/plain": [
       "array([98, 85, 14, 53,  5,  6, 90, 58, 86,  4, 71, 95,  8, 96, 48, 80, 10,\n",
       "       42, 41,  2, 29, 39,  7,  1, 19, 20, 55,  0, 87, 89, 21, 61, 74, 69,\n",
       "       31, 56, 94, 25, 67, 93, 77, 64, 46, 52, 63, 18, 47, 32, 40, 70, 44,\n",
       "       92, 82, 84, 88, 91, 79, 72, 45, 34, 73, 59, 11, 38, 22, 78, 37, 66,\n",
       "       97, 12, 62, 33, 81, 16, 49, 50, 57, 35, 30, 24, 36, 28,  3, 26, 15,\n",
       "       65, 83, 27, 43, 99,  9, 76, 54, 17, 68, 60, 51, 13, 75, 23])"
      ]
     },
     "execution_count": 17,
     "metadata": {},
     "output_type": "execute_result"
    }
   ],
   "source": [
    "import numpy as np\n",
    "t=np.random.permutation(100)\n",
    "print(len(t))\n",
    "t"
   ]
  },
  {
   "cell_type": "code",
   "execution_count": 18,
   "id": "d3dffbb4",
   "metadata": {},
   "outputs": [],
   "source": [
    "# shuffling is important to ensure that all cross-validation sets are similar\n",
    "import numpy as np\n",
    "shuffle_index = np.random.permutation(60000)\n",
    "X_train, y_train = X_train[shuffle_index], y_train[shuffle_index]   "
   ]
  },
  {
   "cell_type": "code",
   "execution_count": 19,
   "id": "528b4366",
   "metadata": {},
   "outputs": [],
   "source": [
    "# Training a binary classifier\n",
    "y_train_5 = (y_train == 5)"
   ]
  },
  {
   "cell_type": "code",
   "execution_count": 20,
   "id": "a5b5c41d",
   "metadata": {},
   "outputs": [
    {
     "name": "stdout",
     "output_type": "stream",
     "text": [
      "(60000,)\n",
      "(60000,)\n"
     ]
    }
   ],
   "source": [
    "print(y_train.shape)\n",
    "print(y_train_5.shape)"
   ]
  },
  {
   "cell_type": "code",
   "execution_count": 21,
   "id": "48305806",
   "metadata": {},
   "outputs": [
    {
     "data": {
      "text/plain": [
       "SGDClassifier(random_state=42)"
      ]
     },
     "execution_count": 21,
     "metadata": {},
     "output_type": "execute_result"
    }
   ],
   "source": [
    "from sklearn.linear_model import SGDClassifier\n",
    "sgd_clf = SGDClassifier(random_state=42)\n",
    "sgd_clf.fit(X_train, y_train_5)\n"
   ]
  },
  {
   "cell_type": "code",
   "execution_count": 22,
   "id": "7f59bb56",
   "metadata": {},
   "outputs": [],
   "source": [
    "from sklearn.model_selection import StratifiedKFold\n",
    "from sklearn.base import clone"
   ]
  },
  {
   "cell_type": "code",
   "execution_count": 23,
   "id": "e0cbb175",
   "metadata": {},
   "outputs": [
    {
     "name": "stdout",
     "output_type": "stream",
     "text": [
      "<class 'sklearn.model_selection._split.StratifiedKFold'>\n"
     ]
    },
    {
     "data": {
      "text/plain": [
       "StratifiedKFold(n_splits=3, random_state=None, shuffle=False)"
      ]
     },
     "execution_count": 23,
     "metadata": {},
     "output_type": "execute_result"
    }
   ],
   "source": [
    "skfolds = StratifiedKFold(n_splits=3)\n",
    "print(type(skfolds))\n",
    "skfolds"
   ]
  },
  {
   "cell_type": "code",
   "execution_count": 24,
   "id": "9f23ee8e",
   "metadata": {},
   "outputs": [
    {
     "name": "stdout",
     "output_type": "stream",
     "text": [
      "<generator object _BaseKFold.split at 0x00000250A4424C80>\n"
     ]
    }
   ],
   "source": [
    "print(skfolds.split(X_train, y_train_5))"
   ]
  },
  {
   "cell_type": "code",
   "execution_count": 25,
   "id": "979ec254",
   "metadata": {},
   "outputs": [
    {
     "name": "stdout",
     "output_type": "stream",
     "text": [
      "**************\n",
      "<class 'numpy.ndarray'> 40000 [19725 19729 19741 ... 59997 59998 59999]\n",
      "<class 'numpy.ndarray'> 20000 [    0     1     2 ... 20021 20023 20024]\n",
      "**************\n",
      "**************\n",
      "<class 'numpy.ndarray'> 40000 [    0     1     2 ... 59997 59998 59999]\n",
      "<class 'numpy.ndarray'> 20000 [19725 19729 19741 ... 40047 40061 40067]\n",
      "**************\n",
      "**************\n",
      "<class 'numpy.ndarray'> 40000 [    0     1     2 ... 40047 40061 40067]\n",
      "<class 'numpy.ndarray'> 20000 [39992 39993 39994 ... 59997 59998 59999]\n",
      "**************\n",
      "3\n"
     ]
    }
   ],
   "source": [
    "test=[]\n",
    "for i,j in skfolds.split(X_train, y_train_5):\n",
    "    print('**************')\n",
    "    print(type(i),len(i),i)\n",
    "    print(type(j),len(j),j)\n",
    "    test.append(j)\n",
    "    print('**************')\n",
    "print(len(test))"
   ]
  },
  {
   "cell_type": "code",
   "execution_count": 26,
   "id": "0aec9325",
   "metadata": {},
   "outputs": [
    {
     "name": "stdout",
     "output_type": "stream",
     "text": [
      "0\n"
     ]
    }
   ],
   "source": [
    "a=[item for item in test[0] if item in test[2]]\n",
    "print(len(a))"
   ]
  },
  {
   "cell_type": "code",
   "execution_count": 27,
   "id": "ef617ed8",
   "metadata": {},
   "outputs": [
    {
     "name": "stdout",
     "output_type": "stream",
     "text": [
      "0.9369\n",
      "0.96285\n",
      "0.96845\n"
     ]
    }
   ],
   "source": [
    "for train_index, test_index in skfolds.split(X_train, y_train_5):\n",
    "     clone_clf = clone(sgd_clf)\n",
    "     X_train_folds = X_train[train_index]\n",
    "     y_train_folds = (y_train_5[train_index])\n",
    "     X_test_fold = X_train[test_index]\n",
    "     y_test_fold = (y_train_5[test_index])\n",
    "     clone_clf.fit(X_train_folds, y_train_folds)\n",
    "     y_pred = clone_clf.predict(X_test_fold)\n",
    "     n_correct = sum(y_pred == y_test_fold)\n",
    "     print(n_correct / len(y_pred))"
   ]
  },
  {
   "cell_type": "code",
   "execution_count": 28,
   "id": "d24ba7da",
   "metadata": {},
   "outputs": [
    {
     "data": {
      "text/plain": [
       "array([0.9369 , 0.96285, 0.96845])"
      ]
     },
     "execution_count": 28,
     "metadata": {},
     "output_type": "execute_result"
    }
   ],
   "source": [
    "from sklearn.model_selection import cross_val_score\n",
    "cross_val_score(sgd_clf, X_train, y_train_5, cv=3, scoring=\"accuracy\")"
   ]
  },
  {
   "cell_type": "code",
   "execution_count": 29,
   "id": "4af3b1bf",
   "metadata": {},
   "outputs": [],
   "source": [
    "from sklearn.base import BaseEstimator"
   ]
  },
  {
   "cell_type": "code",
   "execution_count": 30,
   "id": "c3051c34",
   "metadata": {},
   "outputs": [],
   "source": [
    "class Never5Classifier(BaseEstimator):\n",
    "    def fit(self,X,y=None):\n",
    "        pass\n",
    "    def predict(self,X):\n",
    "        return np.zeros((len(X),1),dtype=bool)\n",
    "                                            \n"
   ]
  },
  {
   "cell_type": "code",
   "execution_count": 31,
   "id": "d999f958",
   "metadata": {},
   "outputs": [
    {
     "data": {
      "text/plain": [
       "array([0.9086 , 0.91105, 0.9093 ])"
      ]
     },
     "execution_count": 31,
     "metadata": {},
     "output_type": "execute_result"
    }
   ],
   "source": [
    "never_5_clf = Never5Classifier()\n",
    "cross_val_score(never_5_clf, X_train, y_train_5, cv=3, scoring=\"accuracy\")"
   ]
  },
  {
   "cell_type": "code",
   "execution_count": 32,
   "id": "64b87e88",
   "metadata": {},
   "outputs": [],
   "source": [
    "# confusion Matrix\n",
    "from sklearn.model_selection import cross_val_predict\n",
    "y_train_pred = cross_val_predict(sgd_clf, X_train, y_train_5, cv=3)\n"
   ]
  },
  {
   "cell_type": "code",
   "execution_count": 33,
   "id": "c93ec0fb",
   "metadata": {},
   "outputs": [
    {
     "data": {
      "text/plain": [
       "array([False,  True, False, ..., False, False, False])"
      ]
     },
     "execution_count": 33,
     "metadata": {},
     "output_type": "execute_result"
    }
   ],
   "source": [
    "y_train_pred"
   ]
  },
  {
   "cell_type": "code",
   "execution_count": 34,
   "id": "c1f170a3",
   "metadata": {},
   "outputs": [
    {
     "data": {
      "text/plain": [
       "array([[53170,  1409],\n",
       "       [ 1227,  4194]], dtype=int64)"
      ]
     },
     "execution_count": 34,
     "metadata": {},
     "output_type": "execute_result"
    }
   ],
   "source": [
    "from sklearn.metrics import confusion_matrix\n",
    "confusion_matrix(y_train_5, y_train_pred)\n"
   ]
  },
  {
   "cell_type": "code",
   "execution_count": 35,
   "id": "2f367ec5",
   "metadata": {},
   "outputs": [
    {
     "name": "stdout",
     "output_type": "stream",
     "text": [
      "(60000,)\n",
      "(20000,)\n"
     ]
    }
   ],
   "source": [
    "print(y_train_5.shape)\n",
    "print(y_pred.shape)"
   ]
  },
  {
   "cell_type": "code",
   "execution_count": 36,
   "id": "a490e049",
   "metadata": {},
   "outputs": [
    {
     "name": "stdout",
     "output_type": "stream",
     "text": [
      "Precision: 0.7485275745136534\n",
      "Recall: 0.7736579966795795\n"
     ]
    }
   ],
   "source": [
    "# Precision and Recall\n",
    "from sklearn.metrics import precision_score, recall_score\n",
    "print('Precision:',precision_score(y_train_5, y_train_pred))\n",
    "print('Recall:',recall_score(y_train_5, y_train_pred))\n",
    "    \n"
   ]
  },
  {
   "cell_type": "code",
   "execution_count": 37,
   "id": "75cd03e4",
   "metadata": {},
   "outputs": [
    {
     "name": "stdout",
     "output_type": "stream",
     "text": [
      "f1_score: 0.7608853410740204\n"
     ]
    }
   ],
   "source": [
    "# F1 Score\n",
    "from sklearn.metrics import f1_score\n",
    "print('f1_score:',f1_score(y_train_5, y_train_pred))\n"
   ]
  },
  {
   "cell_type": "code",
   "execution_count": null,
   "id": "052a65bf",
   "metadata": {},
   "outputs": [],
   "source": [
    "# difference between predict() & decision_function() of a classifier\n",
    "\n",
    "#predict(): is used to obtain the predicted class label of a data point\n",
    "# decision_function():  is used to obtain a score or decision value indicating the confidence of the classifier in its prediction.\n",
    "\n",
    "#For example, in a binary classification problem, a positive value of the decision function indicates that the classifier is more confident that the data point belongs to the positive class, while a negative value indicates that the classifier is more confident that the data point belongs to the negative class.\n",
    "\n",
    "# decision_function() is more usefull for multiclass_classification."
   ]
  },
  {
   "cell_type": "code",
   "execution_count": 38,
   "id": "fb532201",
   "metadata": {},
   "outputs": [
    {
     "data": {
      "text/plain": [
       "array([4381.67967841])"
      ]
     },
     "execution_count": 38,
     "metadata": {},
     "output_type": "execute_result"
    }
   ],
   "source": [
    "y_scores = sgd_clf.decision_function([some_digit])\n",
    "y_scores"
   ]
  },
  {
   "cell_type": "code",
   "execution_count": 39,
   "id": "d3fd0b76",
   "metadata": {},
   "outputs": [
    {
     "data": {
      "text/plain": [
       "array([False])"
      ]
     },
     "execution_count": 39,
     "metadata": {},
     "output_type": "execute_result"
    }
   ],
   "source": [
    "threshold=200000\n",
    "y_some_digit_pred = (y_scores > threshold)\n",
    "y_some_digit_pred"
   ]
  },
  {
   "cell_type": "code",
   "execution_count": 40,
   "id": "5651e68d",
   "metadata": {},
   "outputs": [],
   "source": [
    "y_scores = cross_val_predict(sgd_clf, X_train, y_train_5, cv=3,\n",
    " method=\"decision_function\")"
   ]
  },
  {
   "cell_type": "code",
   "execution_count": 41,
   "id": "7b9267ae",
   "metadata": {},
   "outputs": [
    {
     "data": {
      "text/plain": [
       "array([ -3038.9719912 ,    139.03271111, -11478.50125728, ...,\n",
       "       -14997.98678155,  -8656.43131226, -14529.89794979])"
      ]
     },
     "execution_count": 41,
     "metadata": {},
     "output_type": "execute_result"
    }
   ],
   "source": [
    "y_scores"
   ]
  },
  {
   "cell_type": "code",
   "execution_count": 42,
   "id": "4ebbae6e",
   "metadata": {},
   "outputs": [
    {
     "data": {
      "text/plain": [
       "array([False, False, False, ..., False, False, False])"
      ]
     },
     "execution_count": 42,
     "metadata": {},
     "output_type": "execute_result"
    }
   ],
   "source": [
    "y_train_5"
   ]
  },
  {
   "cell_type": "code",
   "execution_count": 43,
   "id": "a71e2f76",
   "metadata": {},
   "outputs": [],
   "source": [
    "# Precision Recall Curve\n",
    "from sklearn.metrics import precision_recall_curve\n",
    "precisions, recalls, thresholds = precision_recall_curve(y_train_5, y_scores)"
   ]
  },
  {
   "cell_type": "code",
   "execution_count": 44,
   "id": "7959d6bf",
   "metadata": {},
   "outputs": [
    {
     "name": "stdout",
     "output_type": "stream",
     "text": [
      "59928 59928 59927 60000 60000\n"
     ]
    }
   ],
   "source": [
    "print(len(precisions),len(recalls),len(thresholds),len(y_train_5),len(y_scores))"
   ]
  },
  {
   "cell_type": "code",
   "execution_count": 45,
   "id": "895e297b",
   "metadata": {},
   "outputs": [
    {
     "data": {
      "text/plain": [
       "array([-76142.54946793, -75990.73952918, -75885.43783943, ...,\n",
       "        25648.13650861,  28794.91354273,  29272.16989661])"
      ]
     },
     "execution_count": 45,
     "metadata": {},
     "output_type": "execute_result"
    }
   ],
   "source": [
    "thresholds"
   ]
  },
  {
   "cell_type": "code",
   "execution_count": 46,
   "id": "460db8f5",
   "metadata": {},
   "outputs": [
    {
     "data": {
      "image/png": "[encoded data removed]",
      "text/plain": [
       "<Figure size 432x288 with 1 Axes>"
      ]
     },
     "metadata": {
      "needs_background": "light"
     },
     "output_type": "display_data"
    }
   ],
   "source": [
    "# plot_precision_recall_vs_threshold(precisions, recalls, thresholds)\n",
    "def plot_precision_recall_vs_threshold(precisions, recalls, thresholds):\n",
    " plt.plot(thresholds, precisions[:-1], \"b--\", label=\"Precision\")\n",
    " plt.plot(thresholds, recalls[:-1], \"g-\", label=\"Recall\")\n",
    " plt.xlabel(\"Threshold\")\n",
    " plt.legend(loc=\"upper left\")\n",
    " plt.ylim([0, 1])\n",
    "\n",
    "plot_precision_recall_vs_threshold(precisions, recalls, thresholds)\n",
    "plt.show()"
   ]
  },
  {
   "cell_type": "code",
   "execution_count": 47,
   "id": "c954e4ee",
   "metadata": {},
   "outputs": [
    {
     "name": "stdout",
     "output_type": "stream",
     "text": [
      "60000\n",
      "1784\n"
     ]
    },
    {
     "data": {
      "text/plain": [
       "array([False, False, False, ..., False, False, False])"
      ]
     },
     "execution_count": 47,
     "metadata": {},
     "output_type": "execute_result"
    }
   ],
   "source": [
    "y_train_pred_90 = (y_scores > 7000)                         # if you want precision more than 90 \n",
    "print(len(y_train_pred_90))\n",
    "print(sum(y_train_pred_90))\n",
    "y_train_pred_90\n"
   ]
  },
  {
   "cell_type": "code",
   "execution_count": 48,
   "id": "634692ed",
   "metadata": {},
   "outputs": [
    {
     "name": "stdout",
     "output_type": "stream",
     "text": [
      "precision: 0.9501121076233184\n",
      "recall: 0.3126729385722192\n"
     ]
    }
   ],
   "source": [
    "#Let’s check these predictions’ precision and recall:\n",
    "print('precision:',precision_score(y_train_5, y_train_pred_90))\n",
    "print('recall:',recall_score(y_train_5, y_train_pred_90))"
   ]
  },
  {
   "cell_type": "code",
   "execution_count": 49,
   "id": "2e92cdb9",
   "metadata": {},
   "outputs": [],
   "source": [
    "#ROC Curve\n",
    "from sklearn.metrics import roc_curve\n",
    "fpr, tpr, thresholds = roc_curve(y_train_5, y_scores)"
   ]
  },
  {
   "cell_type": "code",
   "execution_count": 50,
   "id": "9ba61499",
   "metadata": {},
   "outputs": [
    {
     "name": "stdout",
     "output_type": "stream",
     "text": [
      "3796 [0.         0.         0.         ... 0.99868081 0.99868081 1.        ]\n",
      "***********\n",
      "3796 [0.00000000e+00 1.84467810e-04 1.66021029e-03 ... 9.99815532e-01\n",
      " 1.00000000e+00 1.00000000e+00]\n",
      "***********\n",
      "3796 [  29273.16989661   29272.16989661   23664.31055167 ...  -75990.73952918\n",
      "  -76142.54946793 -124143.46047058]\n"
     ]
    }
   ],
   "source": [
    "print(len(fpr),fpr)\n",
    "print('***********')\n",
    "print(len(tpr),tpr)\n",
    "print('***********')\n",
    "print(len(thresholds),thresholds)"
   ]
  },
  {
   "cell_type": "code",
   "execution_count": 51,
   "id": "22cd6bb1",
   "metadata": {},
   "outputs": [
    {
     "data": {
      "image/png": "[encoded data removed]",
      "text/plain": [
       "<Figure size 432x288 with 1 Axes>"
      ]
     },
     "metadata": {
      "needs_background": "light"
     },
     "output_type": "display_data"
    }
   ],
   "source": [
    "# plot roc_curve\n",
    "# Roc curve is a plot between (TPR vs FPR)/(Recall vs 1-specificity)/(TPR vs 1-TNR)\n",
    "def plot_roc_curve(fpr, tpr, label=None):\n",
    " plt.plot(fpr, tpr, linewidth=2, label=label)\n",
    " plt.plot([0, 1], [0, 1], 'k--')\n",
    " plt.axis([0, 1, 0, 1])\n",
    " plt.xlabel('False Positive Rate')\n",
    " plt.ylabel('True Positive Rate')\n",
    "\n",
    "plot_roc_curve(fpr, tpr)\n",
    "plt.show()"
   ]
  },
  {
   "cell_type": "code",
   "execution_count": 52,
   "id": "445da639",
   "metadata": {},
   "outputs": [
    {
     "data": {
      "text/plain": [
       "'The dotted line represents the ROC curve of a purely random classifier; a good classifier stays as far away from that \\nline as possible (towardthe top-left corner).'"
      ]
     },
     "execution_count": 52,
     "metadata": {},
     "output_type": "execute_result"
    }
   ],
   "source": [
    "'''The dotted line represents the ROC curve of a purely random classifier; a good classifier stays as far away from that \n",
    "line as possible (towardthe top-left corner).'''\n",
    "\n",
    "#AUC: Area under the curve\n",
    "#A per‐fect classifier will have a ROC AUC equal to 1, whereas a purely random classifier will have a ROC AUC equal to 0.5"
   ]
  },
  {
   "cell_type": "code",
   "execution_count": 53,
   "id": "a9ffbafa",
   "metadata": {},
   "outputs": [
    {
     "data": {
      "text/plain": [
       "0.9606506694318553"
      ]
     },
     "execution_count": 53,
     "metadata": {},
     "output_type": "execute_result"
    }
   ],
   "source": [
    "from sklearn.metrics import roc_auc_score\n",
    "roc_auc_score(y_train_5, y_scores)\n"
   ]
  },
  {
   "cell_type": "code",
   "execution_count": 54,
   "id": "a8dfecd5",
   "metadata": {},
   "outputs": [],
   "source": [
    "# lets try out random forest classifier \n",
    "from sklearn.ensemble import RandomForestClassifier\n",
    "\n",
    "forest_clf = RandomForestClassifier(random_state=42)\n",
    "y_probas_forest = cross_val_predict(forest_clf, X_train, y_train_5, cv=3,\n",
    " method=\"predict_proba\")\n"
   ]
  },
  {
   "cell_type": "code",
   "execution_count": 97,
   "id": "68a9d0a3",
   "metadata": {},
   "outputs": [
    {
     "data": {
      "text/plain": [
       "'The output y_pred_proba is an array of predicted probabilities for each class label for each data point in the input dataset, using the specified RandomForestClassifier model and cross-validation method.'"
      ]
     },
     "execution_count": 97,
     "metadata": {},
     "output_type": "execute_result"
    }
   ],
   "source": [
    "'''The output y_pred_proba is an array of predicted probabilities for each class label for each data point in the input dataset, using the specified RandomForestClassifier model and cross-validation method.''' "
   ]
  },
  {
   "cell_type": "code",
   "execution_count": 96,
   "id": "af22078b",
   "metadata": {},
   "outputs": [
    {
     "data": {
      "text/plain": [
       "(60000, 2)"
      ]
     },
     "execution_count": 96,
     "metadata": {},
     "output_type": "execute_result"
    }
   ],
   "source": [
    "y_probas_forest.shape"
   ]
  },
  {
   "cell_type": "code",
   "execution_count": 95,
   "id": "dc4cd67e",
   "metadata": {},
   "outputs": [
    {
     "data": {
      "text/plain": [
       "array([[0.96, 0.04],\n",
       "       [0.05, 0.95],\n",
       "       [1.  , 0.  ],\n",
       "       ...,\n",
       "       [1.  , 0.  ],\n",
       "       [1.  , 0.  ],\n",
       "       [0.97, 0.03]])"
      ]
     },
     "execution_count": 95,
     "metadata": {},
     "output_type": "execute_result"
    }
   ],
   "source": [
    "y_probas_forest"
   ]
  },
  {
   "cell_type": "code",
   "execution_count": null,
   "id": "3757bd03",
   "metadata": {},
   "outputs": [],
   "source": [
    "'''But to plot a ROC curve, you need scores, not probabilities. A simple solution is to use the positive class’s probability as the score'''"
   ]
  },
  {
   "cell_type": "code",
   "execution_count": 98,
   "id": "c21a655e",
   "metadata": {},
   "outputs": [],
   "source": [
    "y_scores_forest = y_probas_forest[:, 1]                # score = proba of positive class\n",
    "fpr_forest, tpr_forest, thresholds_forest = roc_curve(y_train_5,y_scores_forest)"
   ]
  },
  {
   "cell_type": "code",
   "execution_count": 100,
   "id": "43a4ec62",
   "metadata": {},
   "outputs": [
    {
     "data": {
      "image/png": "[encoded data removed]",
      "text/plain": [
       "<Figure size 432x288 with 1 Axes>"
      ]
     },
     "metadata": {
      "needs_background": "light"
     },
     "output_type": "display_data"
    }
   ],
   "source": [
    "plt.plot(fpr, tpr, \"b:\", label=\"SGD\")\n",
    "plot_roc_curve(fpr_forest, tpr_forest, \"Random Forest\")\n",
    "plt.legend(loc=\"lower right\")\n",
    "plt.show()\n"
   ]
  },
  {
   "cell_type": "code",
   "execution_count": 101,
   "id": "58839a15",
   "metadata": {},
   "outputs": [
    {
     "name": "stdout",
     "output_type": "stream",
     "text": [
      "roc auc score of random forest classifier: 0.9983185035294175\n"
     ]
    }
   ],
   "source": [
    "'''the RandomForestClassifier’s ROC curve looks much better than the SGDClassifier’s: it comes much closer to the top-left corner. As a\n",
    "result, its ROC AUC score is also significantly better:'''\n",
    "\n",
    "print('roc auc score of random forest classifier:',roc_auc_score(y_train_5, y_scores_forest))\n"
   ]
  },
  {
   "cell_type": "code",
   "execution_count": 102,
   "id": "d051fa9d",
   "metadata": {},
   "outputs": [
    {
     "data": {
      "text/plain": [
       "'Try measuring the precision and recall scores: you should find 98.5% precision and\\n82.8% recall. Not too bad!'"
      ]
     },
     "execution_count": 102,
     "metadata": {},
     "output_type": "execute_result"
    }
   ],
   "source": [
    "'''Try measuring the precision and recall scores: you should find 98.5% precision and\n",
    "82.8% recall. Not too bad!'''"
   ]
  },
  {
   "cell_type": "code",
   "execution_count": null,
   "id": "6d0cfa72",
   "metadata": {},
   "outputs": [],
   "source": [
    "# Multiclass classification\n",
    "\n",
    "'''\n",
    "Binary classifiers: Logistic Regression, SVM classifier\n",
    "Multiclass classifiers: SGD Classifier,Random Forest Classifier,Naive Bayes classifers\n",
    "'''"
   ]
  }
 ],
 "metadata": {
  "kernelspec": {
   "display_name": "Python 3",
   "language": "python",
   "name": "python3"
  },
  "language_info": {
   "codemirror_mode": {
    "name": "ipython",
    "version": 3
   },
   "file_extension": ".py",
   "mimetype": "text/x-python",
   "name": "python",
   "nbconvert_exporter": "python",
   "pygments_lexer": "ipython3",
   "version": "3.9.12"
  }
 },
 "nbformat": 4,
 "nbformat_minor": 5
}
