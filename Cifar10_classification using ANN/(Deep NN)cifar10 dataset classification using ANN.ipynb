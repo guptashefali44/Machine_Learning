{
 "cells": [
  {
   "cell_type": "code",
   "execution_count": 48,
   "id": "f09d1627",
   "metadata": {},
   "outputs": [],
   "source": [
    "import numpy as np\n",
    "import pandas as pd\n",
    "import tensorflow as tf\n",
    "from tensorflow import keras"
   ]
  },
  {
   "cell_type": "code",
   "execution_count": 49,
   "id": "d8bf2201",
   "metadata": {},
   "outputs": [],
   "source": [
    "import matplotlib.pyplot as plt\n",
    "import seaborn as sns"
   ]
  },
  {
   "cell_type": "code",
   "execution_count": 50,
   "id": "076eb20e",
   "metadata": {},
   "outputs": [],
   "source": [
    "(x_train_full, y_train_full), (x_test, y_test) = keras.datasets.cifar10.load_data()"
   ]
  },
  {
   "cell_type": "code",
   "execution_count": 51,
   "id": "ff098c17",
   "metadata": {},
   "outputs": [
    {
     "name": "stdout",
     "output_type": "stream",
     "text": [
      "(50000, 32, 32, 3) (50000, 1)\n",
      "(10000, 32, 32, 3) (10000, 1)\n"
     ]
    }
   ],
   "source": [
    "print(x_train_full.shape,y_train_full.shape)\n",
    "print(x_test.shape,y_test.shape)"
   ]
  },
  {
   "cell_type": "code",
   "execution_count": 52,
   "id": "c6566509",
   "metadata": {},
   "outputs": [
    {
     "data": {
      "image/png": "[encoded data removed]",
      "text/plain": [
       "<Figure size 144x144 with 1 Axes>"
      ]
     },
     "metadata": {
      "needs_background": "light"
     },
     "output_type": "display_data"
    }
   ],
   "source": [
    "i=13\n",
    "plt.figure(figsize=(2,2))\n",
    "plt.imshow(x_train_full[i])\n",
    "plt.show()"
   ]
  },
  {
   "cell_type": "code",
   "execution_count": 53,
   "id": "ee77d6a2",
   "metadata": {},
   "outputs": [
    {
     "data": {
      "text/plain": [
       "array([2], dtype=uint8)"
      ]
     },
     "execution_count": 53,
     "metadata": {},
     "output_type": "execute_result"
    }
   ],
   "source": [
    "y_train_full[i]"
   ]
  },
  {
   "cell_type": "code",
   "execution_count": 54,
   "id": "157dbe5f",
   "metadata": {},
   "outputs": [],
   "source": [
    "cifar_classes = ['airplane', 'automobile', 'bird', 'cat', 'deer', 'dog', 'frog', 'horse', 'ship', 'truck']"
   ]
  },
  {
   "cell_type": "code",
   "execution_count": 55,
   "id": "b73f7c86",
   "metadata": {},
   "outputs": [],
   "source": [
    "# take out a validation set out of training data\n",
    "x_val=x_train_full[:5000]/255\n",
    "x_train=x_train_full[5000:]/255\n",
    "y_val=y_train_full[:5000]\n",
    "y_train=y_train_full[5000:]\n",
    "x_test=x_test/255\n"
   ]
  },
  {
   "cell_type": "code",
   "execution_count": 56,
   "id": "4ad20145",
   "metadata": {},
   "outputs": [],
   "source": [
    "# Build a simple ANN model\n",
    "tf.compat.v1.reset_default_graph()\n",
    "model=keras.Sequential()\n",
    "model.add(keras.layers.Flatten(input_shape=[32,32,3]))\n",
    "#model.add(keras.layers.Dense(300,activation='relu'))\n",
    "#model.add(keras.layers.Dense(300,activation='relu',kernel_initializer=\"he_normal\"))      # he_normalisation\n",
    "#model.add(keras.layers.Dense(300,activation='selu',kernel_initializer=\"lecun_normal\"))   # lecun_normal\n",
    "model.add(keras.layers.Dense(300,activation=keras.layers.LeakyReLU(alpha=0.2),kernel_initializer=\"he_normal\"))\n",
    "#model.add(keras.layers.Dense(100,activation='relu'))\n",
    "he_avg_init=keras.initializers.VarianceScaling(scale=2,mode=\"fan_avg\",distribution='uniform')\n",
    "model.add(keras.layers.Dense(100,activation='relu',kernel_initializer=he_avg_init))\n",
    "model.add(keras.layers.Dense(10,activation='softmax'))"
   ]
  },
  {
   "cell_type": "code",
   "execution_count": 57,
   "id": "cdb8f0fa",
   "metadata": {},
   "outputs": [
    {
     "name": "stdout",
     "output_type": "stream",
     "text": [
      "Model: \"sequential\"\n",
      "_________________________________________________________________\n",
      " Layer (type)                Output Shape              Param #   \n",
      "=================================================================\n",
      " flatten (Flatten)           (None, 3072)              0         \n",
      "                                                                 \n",
      " dense (Dense)               (None, 300)               921900    \n",
      "                                                                 \n",
      " dense_1 (Dense)             (None, 100)               30100     \n",
      "                                                                 \n",
      " dense_2 (Dense)             (None, 10)                1010      \n",
      "                                                                 \n",
      "=================================================================\n",
      "Total params: 953,010\n",
      "Trainable params: 953,010\n",
      "Non-trainable params: 0\n",
      "_________________________________________________________________\n"
     ]
    }
   ],
   "source": [
    "model.summary()"
   ]
  },
  {
   "cell_type": "code",
   "execution_count": 58,
   "id": "06dd14d8",
   "metadata": {},
   "outputs": [],
   "source": [
    "# Adding Batch Normalisation\n",
    "tf.compat.v1.reset_default_graph()\n",
    "model=keras.Sequential()\n",
    "model.add(keras.layers.Flatten(input_shape=[32,32,3]))\n",
    "model.add(keras.layers.BatchNormalization())\n",
    "#model.add(keras.layers.Dense(300,activation='relu'))\n",
    "#model.add(keras.layers.Dense(300,activation='relu',kernel_initializer=\"he_normal\"))      # he_normalisation\n",
    "#model.add(keras.layers.Dense(300,activation='selu',kernel_initializer=\"lecun_normal\"))   # lecun_normal\n",
    "model.add(keras.layers.Dense(300,activation=keras.layers.LeakyReLU(alpha=0.2),kernel_initializer=\"he_normal\",use_bias=False))\n",
    "model.add(keras.layers.BatchNormalization())\n",
    "#model.add(keras.layers.Dense(100,activation='relu'))\n",
    "he_avg_init=keras.initializers.VarianceScaling(scale=2,mode=\"fan_avg\",distribution='uniform')\n",
    "model.add(keras.layers.Dense(100,activation='relu',kernel_initializer=he_avg_init,use_bias=False))\n",
    "model.add(keras.layers.BatchNormalization())\n",
    "model.add(keras.layers.Dense(10,activation='softmax'))\n"
   ]
  },
  {
   "cell_type": "code",
   "execution_count": 59,
   "id": "ac1c4372",
   "metadata": {},
   "outputs": [
    {
     "name": "stdout",
     "output_type": "stream",
     "text": [
      "Model: \"sequential\"\n",
      "_________________________________________________________________\n",
      " Layer (type)                Output Shape              Param #   \n",
      "=================================================================\n",
      " flatten (Flatten)           (None, 3072)              0         \n",
      "                                                                 \n",
      " batch_normalization (BatchN  (None, 3072)             12288     \n",
      " ormalization)                                                   \n",
      "                                                                 \n",
      " dense (Dense)               (None, 300)               921600    \n",
      "                                                                 \n",
      " batch_normalization_1 (Batc  (None, 300)              1200      \n",
      " hNormalization)                                                 \n",
      "                                                                 \n",
      " dense_1 (Dense)             (None, 100)               30000     \n",
      "                                                                 \n",
      " batch_normalization_2 (Batc  (None, 100)              400       \n",
      " hNormalization)                                                 \n",
      "                                                                 \n",
      " dense_2 (Dense)             (None, 10)                1010      \n",
      "                                                                 \n",
      "=================================================================\n",
      "Total params: 966,498\n",
      "Trainable params: 959,554\n",
      "Non-trainable params: 6,944\n",
      "_________________________________________________________________\n"
     ]
    }
   ],
   "source": [
    "model.summary()"
   ]
  },
  {
   "cell_type": "code",
   "execution_count": 60,
   "id": "4822d4ab",
   "metadata": {},
   "outputs": [
    {
     "data": {
      "text/plain": [
       "[('batch_normalization/gamma:0', True),\n",
       " ('batch_normalization/beta:0', True),\n",
       " ('batch_normalization/moving_mean:0', False),\n",
       " ('batch_normalization/moving_variance:0', False)]"
      ]
     },
     "execution_count": 60,
     "metadata": {},
     "output_type": "execute_result"
    }
   ],
   "source": [
    "[(var.name,var.trainable) for var in model.layers[1].variables]     # check trainable/non-trainable parameters in BN "
   ]
  },
  {
   "cell_type": "code",
   "execution_count": 61,
   "id": "238ca1f5",
   "metadata": {},
   "outputs": [
    {
     "name": "stderr",
     "output_type": "stream",
     "text": [
      "C:\\Users\\ShefaliGupta\\AppData\\Local\\Temp\\ipykernel_13664\\3873162892.py:1: UserWarning: `layer.updates` will be removed in a future version. This property should not be used in TensorFlow 2.0, as `updates` are applied automatically.\n",
      "  model.layers[1].updates\n"
     ]
    },
    {
     "data": {
      "text/plain": [
       "[]"
      ]
     },
     "execution_count": 61,
     "metadata": {},
     "output_type": "execute_result"
    }
   ],
   "source": [
    "model.layers[1].updates"
   ]
  },
  {
   "cell_type": "code",
   "execution_count": 62,
   "id": "f46ca208",
   "metadata": {},
   "outputs": [],
   "source": [
    "input_layer=model.get_layer('flatten')\n",
    "hidden1=model.get_layer('dense')\n",
    "hidden2=model.get_layer('dense_1')\n",
    "output_layer=model.get_layer('dense_2')"
   ]
  },
  {
   "cell_type": "code",
   "execution_count": 66,
   "id": "5a582b6f",
   "metadata": {},
   "outputs": [],
   "source": [
    "#compile the model ans specify the optimiser and accuracy metric\n",
    "# Add Gradient Clipping to the optimizers\n",
    "#model.compile(loss='sparse_categorical_crossentropy',metrics=['accuracy'],optimizer=keras.optimizers.SGD(clipvalue=1))\n",
    "model.compile(loss='sparse_categorical_crossentropy',metrics=['accuracy'],optimizer=keras.optimizers.SGD(clipnorm=1))"
   ]
  },
  {
   "cell_type": "code",
   "execution_count": 13,
   "id": "cb027f3d",
   "metadata": {},
   "outputs": [
    {
     "name": "stdout",
     "output_type": "stream",
     "text": [
      "Epoch 1/30\n",
      "1407/1407 [==============================] - 15s 9ms/step - loss: 1.8891 - accuracy: 0.3195 - val_loss: 1.9096 - val_accuracy: 0.2884\n",
      "Epoch 2/30\n",
      "1407/1407 [==============================] - 12s 9ms/step - loss: 1.6998 - accuracy: 0.3983 - val_loss: 1.8194 - val_accuracy: 0.3802\n",
      "Epoch 3/30\n",
      "1407/1407 [==============================] - 12s 9ms/step - loss: 1.6218 - accuracy: 0.4257 - val_loss: 1.6234 - val_accuracy: 0.4196\n",
      "Epoch 4/30\n",
      "1407/1407 [==============================] - 12s 8ms/step - loss: 1.5681 - accuracy: 0.4454 - val_loss: 1.5818 - val_accuracy: 0.4286\n",
      "Epoch 5/30\n",
      "1407/1407 [==============================] - 12s 8ms/step - loss: 1.5234 - accuracy: 0.4600 - val_loss: 1.6965 - val_accuracy: 0.3878\n",
      "Epoch 6/30\n",
      "1407/1407 [==============================] - 12s 9ms/step - loss: 1.4884 - accuracy: 0.4724 - val_loss: 1.8312 - val_accuracy: 0.3690\n",
      "Epoch 7/30\n",
      "1407/1407 [==============================] - 12s 8ms/step - loss: 1.4553 - accuracy: 0.4845 - val_loss: 1.7035 - val_accuracy: 0.3972\n",
      "Epoch 8/30\n",
      "1407/1407 [==============================] - 12s 8ms/step - loss: 1.4285 - accuracy: 0.4950 - val_loss: 1.5861 - val_accuracy: 0.4424\n",
      "Epoch 9/30\n",
      "1407/1407 [==============================] - 12s 9ms/step - loss: 1.4005 - accuracy: 0.5041 - val_loss: 1.7175 - val_accuracy: 0.3954\n",
      "Epoch 10/30\n",
      "1407/1407 [==============================] - 12s 8ms/step - loss: 1.3790 - accuracy: 0.5102 - val_loss: 1.5136 - val_accuracy: 0.4610\n",
      "Epoch 11/30\n",
      "1407/1407 [==============================] - 11s 8ms/step - loss: 1.3526 - accuracy: 0.5213 - val_loss: 1.5408 - val_accuracy: 0.4566\n",
      "Epoch 12/30\n",
      "1407/1407 [==============================] - 12s 8ms/step - loss: 1.3351 - accuracy: 0.5293 - val_loss: 1.4382 - val_accuracy: 0.4900\n",
      "Epoch 13/30\n",
      "1407/1407 [==============================] - 12s 8ms/step - loss: 1.3125 - accuracy: 0.5365 - val_loss: 1.4618 - val_accuracy: 0.4840\n",
      "Epoch 14/30\n",
      "1407/1407 [==============================] - 12s 9ms/step - loss: 1.2948 - accuracy: 0.5420 - val_loss: 1.4522 - val_accuracy: 0.4810\n",
      "Epoch 15/30\n",
      "1407/1407 [==============================] - 12s 9ms/step - loss: 1.2767 - accuracy: 0.5485 - val_loss: 1.6128 - val_accuracy: 0.4432\n",
      "Epoch 16/30\n",
      "1407/1407 [==============================] - 12s 8ms/step - loss: 1.2597 - accuracy: 0.5539 - val_loss: 1.4866 - val_accuracy: 0.4732\n",
      "Epoch 17/30\n",
      "1407/1407 [==============================] - 12s 9ms/step - loss: 1.2446 - accuracy: 0.5607 - val_loss: 1.5249 - val_accuracy: 0.4632\n",
      "Epoch 18/30\n",
      "1407/1407 [==============================] - 13s 9ms/step - loss: 1.2256 - accuracy: 0.5657 - val_loss: 1.4273 - val_accuracy: 0.5034\n",
      "Epoch 19/30\n",
      "1407/1407 [==============================] - 12s 8ms/step - loss: 1.2107 - accuracy: 0.5729 - val_loss: 1.4807 - val_accuracy: 0.4780\n",
      "Epoch 20/30\n",
      "1407/1407 [==============================] - 12s 8ms/step - loss: 1.1936 - accuracy: 0.5760 - val_loss: 1.5550 - val_accuracy: 0.4668\n",
      "Epoch 21/30\n",
      "1407/1407 [==============================] - 12s 8ms/step - loss: 1.1819 - accuracy: 0.5812 - val_loss: 1.7030 - val_accuracy: 0.4376\n",
      "Epoch 22/30\n",
      "1407/1407 [==============================] - 12s 9ms/step - loss: 1.1677 - accuracy: 0.5855 - val_loss: 1.5494 - val_accuracy: 0.4458\n",
      "Epoch 23/30\n",
      "1407/1407 [==============================] - 12s 9ms/step - loss: 1.1500 - accuracy: 0.5949 - val_loss: 1.8727 - val_accuracy: 0.3746\n",
      "Epoch 24/30\n",
      "1407/1407 [==============================] - 13s 9ms/step - loss: 1.1388 - accuracy: 0.5990 - val_loss: 1.4746 - val_accuracy: 0.4874\n",
      "Epoch 25/30\n",
      "1407/1407 [==============================] - 12s 9ms/step - loss: 1.1226 - accuracy: 0.6022 - val_loss: 1.3834 - val_accuracy: 0.5158\n",
      "Epoch 26/30\n",
      "1407/1407 [==============================] - 12s 8ms/step - loss: 1.1115 - accuracy: 0.6084 - val_loss: 1.5188 - val_accuracy: 0.4864\n",
      "Epoch 27/30\n",
      "1407/1407 [==============================] - 13s 9ms/step - loss: 1.0969 - accuracy: 0.6139 - val_loss: 1.5513 - val_accuracy: 0.4766\n",
      "Epoch 28/30\n",
      "1407/1407 [==============================] - 12s 9ms/step - loss: 1.0834 - accuracy: 0.6188 - val_loss: 1.4974 - val_accuracy: 0.4846\n",
      "Epoch 29/30\n",
      "1407/1407 [==============================] - 13s 9ms/step - loss: 1.0708 - accuracy: 0.6222 - val_loss: 1.5725 - val_accuracy: 0.4662\n",
      "Epoch 30/30\n",
      "1407/1407 [==============================] - 12s 9ms/step - loss: 1.0562 - accuracy: 0.6287 - val_loss: 2.1640 - val_accuracy: 0.3656\n"
     ]
    }
   ],
   "source": [
    "# fit the model by specifying training and validation dataset\n",
    "history=model.fit(x_train,y_train,epochs=30,validation_data=(x_val,y_val))"
   ]
  },
  {
   "cell_type": "code",
   "execution_count": 14,
   "id": "5f89d163",
   "metadata": {},
   "outputs": [
    {
     "data": {
      "image/png": "[encoded data removed]",
      "text/plain": [
       "<Figure size 576x360 with 1 Axes>"
      ]
     },
     "metadata": {
      "needs_background": "light"
     },
     "output_type": "display_data"
    }
   ],
   "source": [
    "pd.DataFrame(history.history).plot(figsize=(8,5))\n",
    "plt.grid(True)\n",
    "#plt.gca().set_ylim(0,1)             # set the vertical range to [0-1]\n",
    "plt.show()"
   ]
  },
  {
   "cell_type": "code",
   "execution_count": 15,
   "id": "ba10665f",
   "metadata": {},
   "outputs": [
    {
     "name": "stdout",
     "output_type": "stream",
     "text": [
      "313/313 [==============================] - 1s 4ms/step - loss: 2.1711 - accuracy: 0.3635\n"
     ]
    },
    {
     "data": {
      "text/plain": [
       "[2.1710712909698486, 0.3634999990463257]"
      ]
     },
     "execution_count": 15,
     "metadata": {},
     "output_type": "execute_result"
    }
   ],
   "source": [
    "# Evaluate model on test set\n",
    "model.evaluate(x_test,y_test)"
   ]
  },
  {
   "cell_type": "code",
   "execution_count": 16,
   "id": "549b1c6b",
   "metadata": {},
   "outputs": [
    {
     "name": "stdout",
     "output_type": "stream",
     "text": [
      "1/1 [==============================] - 0s 265ms/step\n"
     ]
    },
    {
     "data": {
      "text/plain": [
       "array([[2.3427566e-03, 3.0197687e-03, 4.8479390e-01, 1.8784660e-01,\n",
       "        2.7449051e-01, 3.4394547e-02, 7.1196742e-03, 1.8709578e-03,\n",
       "        3.6262008e-03, 4.9509964e-04],\n",
       "       [6.8745362e-03, 7.9962909e-01, 9.2810094e-03, 2.3348791e-04,\n",
       "        1.0822525e-03, 5.7591137e-04, 1.3703784e-04, 5.9648504e-04,\n",
       "        7.0988633e-02, 1.1060156e-01]], dtype=float32)"
      ]
     },
     "execution_count": 16,
     "metadata": {},
     "output_type": "execute_result"
    }
   ],
   "source": [
    "# predict class for test set\n",
    "x_new=x_test[:2]\n",
    "y_prob=model.predict(x_new)\n",
    "y_prob"
   ]
  },
  {
   "cell_type": "code",
   "execution_count": 17,
   "id": "503fac11",
   "metadata": {},
   "outputs": [
    {
     "data": {
      "text/plain": [
       "array([2, 1], dtype=int64)"
      ]
     },
     "execution_count": 17,
     "metadata": {},
     "output_type": "execute_result"
    }
   ],
   "source": [
    "y_class=np.argmax(y_prob,axis=1)\n",
    "y_class"
   ]
  },
  {
   "cell_type": "code",
   "execution_count": 18,
   "id": "fab2dc21",
   "metadata": {},
   "outputs": [
    {
     "data": {
      "text/plain": [
       "array([3], dtype=uint8)"
      ]
     },
     "execution_count": 18,
     "metadata": {},
     "output_type": "execute_result"
    }
   ],
   "source": [
    "y_test[0]"
   ]
  },
  {
   "cell_type": "code",
   "execution_count": 19,
   "id": "0da92a03",
   "metadata": {},
   "outputs": [
    {
     "data": {
      "text/plain": [
       "array([8], dtype=uint8)"
      ]
     },
     "execution_count": 19,
     "metadata": {},
     "output_type": "execute_result"
    }
   ],
   "source": [
    "y_test[1]"
   ]
  },
  {
   "cell_type": "markdown",
   "id": "23b5cd32",
   "metadata": {},
   "source": [
    "#### Improve the model by hyperparameter tuning"
   ]
  },
  {
   "cell_type": "code",
   "execution_count": 20,
   "id": "99740ffc",
   "metadata": {},
   "outputs": [],
   "source": [
    "# create a function that will build and compile a keras model,given a set of hyperparameters\n",
    "def build_model(n_hidden,n_neurons,learning_rate,input_shape=[32,32,3]):\n",
    "    model=keras.Sequential()\n",
    "    model.add(keras.layers.Flatten(input_shape=input_shape))\n",
    "    for layer in range(n_hidden):\n",
    "        model.add(keras.layers.Dense(n_neurons,activation=\"relu\"))\n",
    "    model.add(keras.layers.Dense(10,activation=\"softmax\"))\n",
    "    model.compile(loss='sparse_categorical_crossentropy',metrics=['accuracy'],optimizer='sgd')\n",
    "    return model\n",
    "    \n",
    "    \n",
    "    "
   ]
  },
  {
   "cell_type": "code",
   "execution_count": 21,
   "id": "dfc32c5c",
   "metadata": {},
   "outputs": [
    {
     "name": "stderr",
     "output_type": "stream",
     "text": [
      "C:\\Users\\ShefaliGupta\\AppData\\Local\\Temp\\ipykernel_13720\\805916577.py:1: DeprecationWarning: KerasClassifier is deprecated, use Sci-Keras (https://github.com/adriangb/scikeras) instead. See https://www.adriangb.com/scikeras/stable/migration.html for help migrating.\n",
      "  keras_class=keras.wrappers.scikit_learn.KerasClassifier(build_model)\n"
     ]
    }
   ],
   "source": [
    "keras_class=keras.wrappers.scikit_learn.KerasClassifier(build_model)"
   ]
  },
  {
   "cell_type": "code",
   "execution_count": 22,
   "id": "7eaa222f",
   "metadata": {},
   "outputs": [],
   "source": [
    "#keras_class.fit(x_train,y_train,epochs=100,validation_data=(x_val,y_val),callbacks=[keras.callbacks.EarlyStopping(patience=10)])"
   ]
  },
  {
   "cell_type": "code",
   "execution_count": 23,
   "id": "bab48bd3",
   "metadata": {},
   "outputs": [],
   "source": [
    "from scipy.stats import reciprocal\n",
    "from sklearn.model_selection import RandomizedSearchCV"
   ]
  },
  {
   "cell_type": "code",
   "execution_count": 27,
   "id": "f4248164",
   "metadata": {},
   "outputs": [],
   "source": [
    "param_distribution={\"n_hidden\":[0,1,2,3],\"n_neurons\":np.arange(10,100),\"learning_rate\":reciprocal(3e-4,3e-2)}"
   ]
  },
  {
   "cell_type": "code",
   "execution_count": 28,
   "id": "cb54659d",
   "metadata": {},
   "outputs": [
    {
     "name": "stdout",
     "output_type": "stream",
     "text": [
      "Epoch 1/3\n",
      "938/938 [==============================] - 5s 4ms/step - loss: 1.9902 - accuracy: 0.2849 - val_loss: 1.9166 - val_accuracy: 0.3030\n",
      "Epoch 2/3\n",
      "938/938 [==============================] - 3s 4ms/step - loss: 1.8692 - accuracy: 0.3401 - val_loss: 1.8627 - val_accuracy: 0.3330\n",
      "Epoch 3/3\n",
      "938/938 [==============================] - 3s 4ms/step - loss: 1.8331 - accuracy: 0.3551 - val_loss: 1.8471 - val_accuracy: 0.3352\n",
      "469/469 [==============================] - 2s 3ms/step - loss: 1.8905 - accuracy: 0.3253\n",
      "Epoch 1/3\n",
      "938/938 [==============================] - 5s 4ms/step - loss: 2.0005 - accuracy: 0.2800 - val_loss: 2.0360 - val_accuracy: 0.2850\n",
      "Epoch 2/3\n",
      "938/938 [==============================] - 4s 4ms/step - loss: 1.8778 - accuracy: 0.3352 - val_loss: 1.8521 - val_accuracy: 0.3450\n",
      "Epoch 3/3\n",
      "938/938 [==============================] - 4s 4ms/step - loss: 1.8414 - accuracy: 0.3554 - val_loss: 1.8859 - val_accuracy: 0.3266\n",
      "469/469 [==============================] - 2s 3ms/step - loss: 1.8974 - accuracy: 0.3242\n",
      "Epoch 1/3\n",
      "938/938 [==============================] - 5s 4ms/step - loss: 1.9864 - accuracy: 0.2842 - val_loss: 1.9770 - val_accuracy: 0.2884\n",
      "Epoch 2/3\n",
      "938/938 [==============================] - 4s 4ms/step - loss: 1.8694 - accuracy: 0.3424 - val_loss: 1.9448 - val_accuracy: 0.3106\n",
      "Epoch 3/3\n",
      "938/938 [==============================] - 3s 4ms/step - loss: 1.8326 - accuracy: 0.3562 - val_loss: 1.8188 - val_accuracy: 0.3622\n",
      "469/469 [==============================] - 2s 3ms/step - loss: 1.8454 - accuracy: 0.3562\n",
      "Epoch 1/3\n",
      "938/938 [==============================] - 5s 4ms/step - loss: 1.9904 - accuracy: 0.2822 - val_loss: 1.9160 - val_accuracy: 0.3132\n",
      "Epoch 2/3\n",
      "938/938 [==============================] - 4s 4ms/step - loss: 1.8637 - accuracy: 0.3412 - val_loss: 1.9568 - val_accuracy: 0.2986\n",
      "Epoch 3/3\n",
      "938/938 [==============================] - 4s 4ms/step - loss: 1.8319 - accuracy: 0.3529 - val_loss: 2.0194 - val_accuracy: 0.2854\n",
      "469/469 [==============================] - 2s 3ms/step - loss: 2.0294 - accuracy: 0.2862\n",
      "Epoch 1/3\n",
      "938/938 [==============================] - 5s 5ms/step - loss: 1.9995 - accuracy: 0.2792 - val_loss: 1.9518 - val_accuracy: 0.3076\n",
      "Epoch 2/3\n",
      "938/938 [==============================] - 4s 4ms/step - loss: 1.8824 - accuracy: 0.3376 - val_loss: 1.9504 - val_accuracy: 0.2836\n",
      "Epoch 3/3\n",
      "938/938 [==============================] - 4s 4ms/step - loss: 1.8474 - accuracy: 0.3526 - val_loss: 1.8397 - val_accuracy: 0.3552\n",
      "469/469 [==============================] - 2s 3ms/step - loss: 1.8439 - accuracy: 0.3544\n",
      "Epoch 1/3\n",
      "938/938 [==============================] - 5s 4ms/step - loss: 1.9952 - accuracy: 0.2834 - val_loss: 1.9860 - val_accuracy: 0.2922\n",
      "Epoch 2/3\n",
      "938/938 [==============================] - 4s 4ms/step - loss: 1.8686 - accuracy: 0.3380 - val_loss: 1.8929 - val_accuracy: 0.3340\n",
      "Epoch 3/3\n",
      "938/938 [==============================] - 4s 4ms/step - loss: 1.8346 - accuracy: 0.3562 - val_loss: 1.8892 - val_accuracy: 0.3206\n",
      "469/469 [==============================] - 2s 3ms/step - loss: 1.9196 - accuracy: 0.3172\n",
      "Epoch 1/3\n",
      "938/938 [==============================] - 5s 5ms/step - loss: 2.2152 - accuracy: 0.1789 - val_loss: 2.1517 - val_accuracy: 0.2172\n",
      "Epoch 2/3\n",
      "938/938 [==============================] - 4s 4ms/step - loss: 2.0817 - accuracy: 0.2266 - val_loss: 2.0151 - val_accuracy: 0.2296\n",
      "Epoch 3/3\n",
      "938/938 [==============================] - 4s 4ms/step - loss: 1.9816 - accuracy: 0.2638 - val_loss: 1.9585 - val_accuracy: 0.2816\n",
      "469/469 [==============================] - 2s 3ms/step - loss: 1.9781 - accuracy: 0.2701\n",
      "Epoch 1/3\n",
      "938/938 [==============================] - 5s 4ms/step - loss: 2.1412 - accuracy: 0.1936 - val_loss: 1.9783 - val_accuracy: 0.2492\n",
      "Epoch 2/3\n",
      "938/938 [==============================] - 4s 4ms/step - loss: 1.9481 - accuracy: 0.2809 - val_loss: 1.9310 - val_accuracy: 0.2776\n",
      "Epoch 3/3\n",
      "938/938 [==============================] - 4s 4ms/step - loss: 1.8885 - accuracy: 0.3097 - val_loss: 1.8485 - val_accuracy: 0.3190\n",
      "469/469 [==============================] - 3s 3ms/step - loss: 1.8717 - accuracy: 0.3079\n",
      "Epoch 1/3\n",
      "938/938 [==============================] - 5s 5ms/step - loss: 2.1306 - accuracy: 0.2030 - val_loss: 1.9776 - val_accuracy: 0.2580\n",
      "Epoch 2/3\n",
      "938/938 [==============================] - 4s 4ms/step - loss: 1.9484 - accuracy: 0.2791 - val_loss: 1.8794 - val_accuracy: 0.3134\n",
      "Epoch 3/3\n",
      "938/938 [==============================] - 4s 4ms/step - loss: 1.8858 - accuracy: 0.3084 - val_loss: 2.0038 - val_accuracy: 0.2742\n",
      "469/469 [==============================] - 2s 3ms/step - loss: 2.0293 - accuracy: 0.2699\n",
      "Epoch 1/3\n",
      "938/938 [==============================] - 8s 7ms/step - loss: 1.9690 - accuracy: 0.2856 - val_loss: 1.8563 - val_accuracy: 0.3224\n",
      "Epoch 2/3\n",
      "938/938 [==============================] - 6s 6ms/step - loss: 1.7909 - accuracy: 0.3639 - val_loss: 1.7752 - val_accuracy: 0.3630\n",
      "Epoch 3/3\n",
      "938/938 [==============================] - 6s 6ms/step - loss: 1.7105 - accuracy: 0.3934 - val_loss: 1.7148 - val_accuracy: 0.3858\n",
      "469/469 [==============================] - 2s 3ms/step - loss: 1.7299 - accuracy: 0.3793\n",
      "Epoch 1/3\n",
      "938/938 [==============================] - 7s 7ms/step - loss: 1.9791 - accuracy: 0.2866 - val_loss: 1.8531 - val_accuracy: 0.3206\n",
      "Epoch 2/3\n",
      "938/938 [==============================] - 6s 6ms/step - loss: 1.8099 - accuracy: 0.3554 - val_loss: 1.8190 - val_accuracy: 0.3414\n",
      "Epoch 3/3\n",
      "938/938 [==============================] - 6s 6ms/step - loss: 1.7304 - accuracy: 0.3880 - val_loss: 1.6929 - val_accuracy: 0.3880\n",
      "469/469 [==============================] - 2s 4ms/step - loss: 1.7012 - accuracy: 0.3867\n",
      "Epoch 1/3\n",
      "938/938 [==============================] - 7s 7ms/step - loss: 1.9789 - accuracy: 0.2856 - val_loss: 1.8312 - val_accuracy: 0.3388\n",
      "Epoch 2/3\n",
      "938/938 [==============================] - 6s 6ms/step - loss: 1.7950 - accuracy: 0.3603 - val_loss: 1.7710 - val_accuracy: 0.3566\n",
      "Epoch 3/3\n",
      "938/938 [==============================] - 6s 6ms/step - loss: 1.7165 - accuracy: 0.3910 - val_loss: 1.6903 - val_accuracy: 0.3918\n",
      "469/469 [==============================] - 2s 4ms/step - loss: 1.7181 - accuracy: 0.3921\n",
      "Epoch 1/3\n",
      "938/938 [==============================] - 7s 6ms/step - loss: 2.0468 - accuracy: 0.2505 - val_loss: 1.9169 - val_accuracy: 0.2824\n",
      "Epoch 2/3\n",
      "938/938 [==============================] - 5s 5ms/step - loss: 1.8533 - accuracy: 0.3368 - val_loss: 1.8907 - val_accuracy: 0.3288\n",
      "Epoch 3/3\n",
      "938/938 [==============================] - 5s 5ms/step - loss: 1.7744 - accuracy: 0.3697 - val_loss: 1.7966 - val_accuracy: 0.3402\n",
      "469/469 [==============================] - 2s 3ms/step - loss: 1.8176 - accuracy: 0.3409\n",
      "Epoch 1/3\n",
      "938/938 [==============================] - 6s 5ms/step - loss: 2.0094 - accuracy: 0.2667 - val_loss: 1.8547 - val_accuracy: 0.3362\n",
      "Epoch 2/3\n",
      "938/938 [==============================] - 5s 5ms/step - loss: 1.8395 - accuracy: 0.3382 - val_loss: 1.8287 - val_accuracy: 0.3304\n",
      "Epoch 3/3\n",
      "938/938 [==============================] - 5s 5ms/step - loss: 1.7733 - accuracy: 0.3632 - val_loss: 1.7526 - val_accuracy: 0.3700\n",
      "469/469 [==============================] - 2s 4ms/step - loss: 1.7663 - accuracy: 0.3663\n",
      "Epoch 1/3\n",
      "938/938 [==============================] - 7s 6ms/step - loss: 2.0349 - accuracy: 0.2560 - val_loss: 1.9473 - val_accuracy: 0.3034\n",
      "Epoch 2/3\n",
      "938/938 [==============================] - 5s 5ms/step - loss: 1.8421 - accuracy: 0.3436 - val_loss: 1.8011 - val_accuracy: 0.3602\n",
      "Epoch 3/3\n",
      "938/938 [==============================] - 5s 5ms/step - loss: 1.7662 - accuracy: 0.3715 - val_loss: 1.7565 - val_accuracy: 0.3734\n",
      "469/469 [==============================] - 2s 4ms/step - loss: 1.7816 - accuracy: 0.3686\n",
      "Epoch 1/3\n",
      "938/938 [==============================] - 8s 7ms/step - loss: 1.9656 - accuracy: 0.2907 - val_loss: 1.8133 - val_accuracy: 0.3622\n",
      "Epoch 2/3\n",
      "938/938 [==============================] - 5s 6ms/step - loss: 1.7939 - accuracy: 0.3614 - val_loss: 1.7577 - val_accuracy: 0.3684\n",
      "Epoch 3/3\n",
      "938/938 [==============================] - 5s 6ms/step - loss: 1.7206 - accuracy: 0.3889 - val_loss: 1.7390 - val_accuracy: 0.3690\n",
      "469/469 [==============================] - 2s 3ms/step - loss: 1.7595 - accuracy: 0.3760\n",
      "Epoch 1/3\n"
     ]
    },
    {
     "name": "stdout",
     "output_type": "stream",
     "text": [
      "938/938 [==============================] - 7s 6ms/step - loss: 1.9878 - accuracy: 0.2771 - val_loss: 1.8246 - val_accuracy: 0.3446\n",
      "Epoch 2/3\n",
      "938/938 [==============================] - 6s 6ms/step - loss: 1.8031 - accuracy: 0.3565 - val_loss: 1.8404 - val_accuracy: 0.3434\n",
      "Epoch 3/3\n",
      "938/938 [==============================] - 6s 6ms/step - loss: 1.7239 - accuracy: 0.3852 - val_loss: 1.6837 - val_accuracy: 0.4044\n",
      "469/469 [==============================] - 2s 3ms/step - loss: 1.6982 - accuracy: 0.3985\n",
      "Epoch 1/3\n",
      "938/938 [==============================] - 8s 7ms/step - loss: 1.9761 - accuracy: 0.2821 - val_loss: 1.8492 - val_accuracy: 0.3188\n",
      "Epoch 2/3\n",
      "938/938 [==============================] - 6s 6ms/step - loss: 1.7907 - accuracy: 0.3619 - val_loss: 1.7808 - val_accuracy: 0.3572\n",
      "Epoch 3/3\n",
      "938/938 [==============================] - 6s 6ms/step - loss: 1.7045 - accuracy: 0.3948 - val_loss: 1.7643 - val_accuracy: 0.3780\n",
      "469/469 [==============================] - 2s 3ms/step - loss: 1.7971 - accuracy: 0.3687\n",
      "Epoch 1/3\n",
      "938/938 [==============================] - 7s 6ms/step - loss: 2.0065 - accuracy: 0.2645 - val_loss: 1.8470 - val_accuracy: 0.3294\n",
      "Epoch 2/3\n",
      "938/938 [==============================] - 5s 5ms/step - loss: 1.8257 - accuracy: 0.3412 - val_loss: 1.8578 - val_accuracy: 0.3264\n",
      "Epoch 3/3\n",
      "938/938 [==============================] - 5s 5ms/step - loss: 1.7444 - accuracy: 0.3737 - val_loss: 1.6933 - val_accuracy: 0.3838\n",
      "469/469 [==============================] - 2s 3ms/step - loss: 1.7136 - accuracy: 0.3839\n",
      "Epoch 1/3\n",
      "938/938 [==============================] - 7s 6ms/step - loss: 2.0108 - accuracy: 0.2635 - val_loss: 1.8408 - val_accuracy: 0.3260\n",
      "Epoch 2/3\n",
      "938/938 [==============================] - 5s 5ms/step - loss: 1.8234 - accuracy: 0.3444 - val_loss: 1.7927 - val_accuracy: 0.3376\n",
      "Epoch 3/3\n",
      "938/938 [==============================] - 5s 5ms/step - loss: 1.7389 - accuracy: 0.3776 - val_loss: 1.7556 - val_accuracy: 0.3656\n",
      "469/469 [==============================] - 2s 3ms/step - loss: 1.7605 - accuracy: 0.3662\n",
      "Epoch 1/3\n",
      "938/938 [==============================] - 6s 6ms/step - loss: 2.0109 - accuracy: 0.2598 - val_loss: 1.8709 - val_accuracy: 0.3276\n",
      "Epoch 2/3\n",
      "938/938 [==============================] - 5s 5ms/step - loss: 1.8319 - accuracy: 0.3425 - val_loss: 1.9104 - val_accuracy: 0.3280\n",
      "Epoch 3/3\n",
      "938/938 [==============================] - 5s 5ms/step - loss: 1.7576 - accuracy: 0.3705 - val_loss: 1.7103 - val_accuracy: 0.3946\n",
      "469/469 [==============================] - 2s 3ms/step - loss: 1.7443 - accuracy: 0.3819\n",
      "Epoch 1/3\n",
      "938/938 [==============================] - 7s 5ms/step - loss: 1.9806 - accuracy: 0.2881 - val_loss: 1.8574 - val_accuracy: 0.3346\n",
      "Epoch 2/3\n",
      "938/938 [==============================] - 4s 5ms/step - loss: 1.8113 - accuracy: 0.3607 - val_loss: 1.7552 - val_accuracy: 0.3810\n",
      "Epoch 3/3\n",
      "938/938 [==============================] - 4s 5ms/step - loss: 1.7404 - accuracy: 0.3886 - val_loss: 1.7220 - val_accuracy: 0.3856\n",
      "469/469 [==============================] - 2s 3ms/step - loss: 1.7434 - accuracy: 0.3801\n",
      "Epoch 1/3\n",
      "938/938 [==============================] - 6s 5ms/step - loss: 1.9659 - accuracy: 0.2899 - val_loss: 1.8779 - val_accuracy: 0.3176\n",
      "Epoch 2/3\n",
      "938/938 [==============================] - 5s 5ms/step - loss: 1.8128 - accuracy: 0.3588 - val_loss: 1.8029 - val_accuracy: 0.3524\n",
      "Epoch 3/3\n",
      "938/938 [==============================] - 5s 5ms/step - loss: 1.7476 - accuracy: 0.3841 - val_loss: 1.7291 - val_accuracy: 0.3928\n",
      "469/469 [==============================] - 2s 3ms/step - loss: 1.7365 - accuracy: 0.3894\n",
      "Epoch 1/3\n",
      "938/938 [==============================] - 6s 5ms/step - loss: 1.9688 - accuracy: 0.2895 - val_loss: 1.8627 - val_accuracy: 0.3308\n",
      "Epoch 2/3\n",
      "938/938 [==============================] - 4s 5ms/step - loss: 1.8078 - accuracy: 0.3611 - val_loss: 1.7552 - val_accuracy: 0.3850\n",
      "Epoch 3/3\n",
      "938/938 [==============================] - 5s 5ms/step - loss: 1.7397 - accuracy: 0.3873 - val_loss: 1.7479 - val_accuracy: 0.3828\n",
      "469/469 [==============================] - 2s 3ms/step - loss: 1.7710 - accuracy: 0.3757\n",
      "Epoch 1/3\n",
      "938/938 [==============================] - 5s 4ms/step - loss: 1.9925 - accuracy: 0.2836 - val_loss: 2.0355 - val_accuracy: 0.2710\n",
      "Epoch 2/3\n",
      "938/938 [==============================] - 3s 4ms/step - loss: 1.8694 - accuracy: 0.3381 - val_loss: 1.9708 - val_accuracy: 0.2924\n",
      "Epoch 3/3\n",
      "938/938 [==============================] - 3s 4ms/step - loss: 1.8367 - accuracy: 0.3546 - val_loss: 1.8230 - val_accuracy: 0.3612\n",
      "469/469 [==============================] - 2s 3ms/step - loss: 1.8486 - accuracy: 0.3575\n",
      "Epoch 1/3\n",
      "938/938 [==============================] - 5s 4ms/step - loss: 1.9991 - accuracy: 0.2771 - val_loss: 1.8661 - val_accuracy: 0.3438\n",
      "Epoch 2/3\n",
      "938/938 [==============================] - 3s 4ms/step - loss: 1.8777 - accuracy: 0.3367 - val_loss: 2.0084 - val_accuracy: 0.2750\n",
      "Epoch 3/3\n",
      "938/938 [==============================] - 3s 4ms/step - loss: 1.8413 - accuracy: 0.3516 - val_loss: 1.8920 - val_accuracy: 0.3254\n",
      "469/469 [==============================] - 2s 3ms/step - loss: 1.8845 - accuracy: 0.3343\n",
      "Epoch 1/3\n",
      "938/938 [==============================] - 5s 4ms/step - loss: 1.9828 - accuracy: 0.2849 - val_loss: 1.8897 - val_accuracy: 0.3432\n",
      "Epoch 2/3\n",
      "938/938 [==============================] - 4s 4ms/step - loss: 1.8656 - accuracy: 0.3428 - val_loss: 1.9016 - val_accuracy: 0.3352\n",
      "Epoch 3/3\n",
      "938/938 [==============================] - 149s 159ms/step - loss: 1.8309 - accuracy: 0.3552 - val_loss: 2.1304 - val_accuracy: 0.2544\n",
      "469/469 [==============================] - 1s 2ms/step - loss: 2.1638 - accuracy: 0.2537\n",
      "Epoch 1/3\n",
      "938/938 [==============================] - 7s 6ms/step - loss: 2.0381 - accuracy: 0.2447 - val_loss: 1.8947 - val_accuracy: 0.3030\n",
      "Epoch 2/3\n",
      "938/938 [==============================] - 5s 5ms/step - loss: 1.8688 - accuracy: 0.3282 - val_loss: 1.8261 - val_accuracy: 0.3350\n",
      "Epoch 3/3\n",
      "938/938 [==============================] - 4s 5ms/step - loss: 1.8104 - accuracy: 0.3497 - val_loss: 1.8446 - val_accuracy: 0.3400\n",
      "469/469 [==============================] - 2s 3ms/step - loss: 1.8611 - accuracy: 0.3419\n",
      "Epoch 1/3\n",
      "938/938 [==============================] - 6s 5ms/step - loss: 2.0979 - accuracy: 0.2254 - val_loss: 1.9419 - val_accuracy: 0.3022\n",
      "Epoch 2/3\n",
      "938/938 [==============================] - 4s 4ms/step - loss: 1.8817 - accuracy: 0.3200 - val_loss: 1.8007 - val_accuracy: 0.3514\n",
      "Epoch 3/3\n",
      "938/938 [==============================] - 4s 4ms/step - loss: 1.8002 - accuracy: 0.3497 - val_loss: 1.7714 - val_accuracy: 0.3602\n",
      "469/469 [==============================] - 2s 3ms/step - loss: 1.7730 - accuracy: 0.3594\n",
      "Epoch 1/3\n",
      "938/938 [==============================] - 5s 5ms/step - loss: 2.0061 - accuracy: 0.2656 - val_loss: 1.8491 - val_accuracy: 0.3324\n",
      "Epoch 2/3\n",
      "938/938 [==============================] - 4s 4ms/step - loss: 1.8271 - accuracy: 0.3457 - val_loss: 1.8579 - val_accuracy: 0.3360\n",
      "Epoch 3/3\n",
      "938/938 [==============================] - 4s 4ms/step - loss: 1.7638 - accuracy: 0.3729 - val_loss: 1.7693 - val_accuracy: 0.3664\n",
      "469/469 [==============================] - 2s 3ms/step - loss: 1.8050 - accuracy: 0.3573\n",
      "Epoch 1/3\n",
      "1407/1407 [==============================] - 11s 6ms/step - loss: 1.9136 - accuracy: 0.3115 - val_loss: 1.7923 - val_accuracy: 0.3446\n",
      "Epoch 2/3\n",
      "1407/1407 [==============================] - 8s 6ms/step - loss: 1.7396 - accuracy: 0.3821 - val_loss: 1.7282 - val_accuracy: 0.3894\n",
      "Epoch 3/3\n",
      "1407/1407 [==============================] - 8s 6ms/step - loss: 1.6565 - accuracy: 0.4132 - val_loss: 1.8428 - val_accuracy: 0.3436\n"
     ]
    },
    {
     "data": {
      "text/plain": [
       "RandomizedSearchCV(cv=3,\n",
       "                   estimator=<keras.wrappers.scikit_learn.KerasClassifier object at 0x00000175FAD8EAC0>,\n",
       "                   param_distributions={'learning_rate': <scipy.stats._distn_infrastructure.rv_frozen object at 0x000001762CCEE6A0>,\n",
       "                                        'n_hidden': [0, 1, 2, 3],\n",
       "                                        'n_neurons': array([10, 11, 12, 13, 14, 15, 16, 17, 18, 19, 20, 21, 22, 23, 24, 25, 26,\n",
       "       27, 28, 29, 30, 31, 32, 33, 34, 35, 36, 37, 38, 39, 40, 41, 42, 43,\n",
       "       44, 45, 46, 47, 48, 49, 50, 51, 52, 53, 54, 55, 56, 57, 58, 59, 60,\n",
       "       61, 62, 63, 64, 65, 66, 67, 68, 69, 70, 71, 72, 73, 74, 75, 76, 77,\n",
       "       78, 79, 80, 81, 82, 83, 84, 85, 86, 87, 88, 89, 90, 91, 92, 93, 94,\n",
       "       95, 96, 97, 98, 99])})"
      ]
     },
     "execution_count": 28,
     "metadata": {},
     "output_type": "execute_result"
    }
   ],
   "source": [
    "rdn_search_cv=RandomizedSearchCV(keras_class,param_distribution,n_iter=10,cv=3)\n",
    "rdn_search_cv.fit(x_train,y_train,epochs=3,validation_data=(x_val,y_val),callbacks=[keras.callbacks.EarlyStopping(patience=10)])"
   ]
  },
  {
   "cell_type": "code",
   "execution_count": 29,
   "id": "7ee0b0b3",
   "metadata": {},
   "outputs": [
    {
     "data": {
      "text/plain": [
       "{'learning_rate': 0.002759429090155563, 'n_hidden': 2, 'n_neurons': 97}"
      ]
     },
     "execution_count": 29,
     "metadata": {},
     "output_type": "execute_result"
    }
   ],
   "source": [
    "rdn_search_cv.best_params_"
   ]
  },
  {
   "cell_type": "code",
   "execution_count": 30,
   "id": "54a2f90e",
   "metadata": {},
   "outputs": [
    {
     "data": {
      "text/plain": [
       "<scipy.stats._distn_infrastructure.rv_frozen at 0x175f929ee80>"
      ]
     },
     "execution_count": 30,
     "metadata": {},
     "output_type": "execute_result"
    }
   ],
   "source": [
    "reciprocal(3e-4,3e-2)"
   ]
  },
  {
   "cell_type": "markdown",
   "id": "f3a0200d",
   "metadata": {},
   "source": [
    "#### Convert 3D image to a 2D image and apply ANN Deep Neural Network on it"
   ]
  },
  {
   "cell_type": "code",
   "execution_count": 46,
   "id": "747b8f0f",
   "metadata": {},
   "outputs": [],
   "source": [
    "x_train_full_2D=np.mean(x_train_full, axis=3)\n",
    "x_test_2D=np.mean(x_test,axis=3)"
   ]
  },
  {
   "cell_type": "code",
   "execution_count": 49,
   "id": "beb9a62d",
   "metadata": {},
   "outputs": [
    {
     "name": "stdout",
     "output_type": "stream",
     "text": [
      "(50000, 32, 32, 3) (50000, 32, 32)\n",
      "(10000, 32, 32, 3) (10000, 32, 32)\n",
      "(50000, 1) (10000, 1)\n"
     ]
    }
   ],
   "source": [
    "print(x_train_full.shape,x_train_full_2D.shape)\n",
    "print(x_test.shape,x_test_2D.shape)\n",
    "print(y_train_full.shape,y_test.shape)"
   ]
  },
  {
   "cell_type": "code",
   "execution_count": 48,
   "id": "bf7b419e",
   "metadata": {},
   "outputs": [
    {
     "data": {
      "image/png": "[encoded data removed]",
      "text/plain": [
       "<Figure size 432x288 with 1 Axes>"
      ]
     },
     "metadata": {
      "needs_background": "light"
     },
     "output_type": "display_data"
    }
   ],
   "source": [
    "# Display the 2D image using Matplotlib\n",
    "plt.imshow(x_train_full_2D[1], cmap='gray')\n",
    "plt.axis('off')\n",
    "plt.show()"
   ]
  },
  {
   "cell_type": "code",
   "execution_count": 50,
   "id": "4e82b7a3",
   "metadata": {},
   "outputs": [],
   "source": [
    "# take out a validation set out of training data\n",
    "x_val_2D=x_train_full_2D[:5000]/255\n",
    "x_train_2D=x_train_full_2D[5000:]/255\n",
    "y_val=y_train_full[:5000]\n",
    "y_train=y_train_full[5000:]\n",
    "x_test_2D=x_test_2D/255"
   ]
  },
  {
   "cell_type": "code",
   "execution_count": 52,
   "id": "5a28f365",
   "metadata": {},
   "outputs": [
    {
     "name": "stdout",
     "output_type": "stream",
     "text": [
      "Epoch 1/30\n",
      "1407/1407 [==============================] - 11s 7ms/step - loss: 2.0741 - accuracy: 0.2487 - val_loss: 2.0383 - val_accuracy: 0.2626\n",
      "Epoch 2/30\n",
      "1407/1407 [==============================] - 9s 6ms/step - loss: 1.9484 - accuracy: 0.3114 - val_loss: 1.9472 - val_accuracy: 0.2986\n",
      "Epoch 3/30\n",
      "1407/1407 [==============================] - 9s 6ms/step - loss: 1.8780 - accuracy: 0.3392 - val_loss: 1.8876 - val_accuracy: 0.3260\n",
      "Epoch 4/30\n",
      "1407/1407 [==============================] - 9s 6ms/step - loss: 1.8270 - accuracy: 0.3549 - val_loss: 1.8822 - val_accuracy: 0.3320\n",
      "Epoch 5/30\n",
      "1407/1407 [==============================] - 9s 6ms/step - loss: 1.7899 - accuracy: 0.3682 - val_loss: 1.8482 - val_accuracy: 0.3538\n",
      "Epoch 6/30\n",
      "1407/1407 [==============================] - 9s 6ms/step - loss: 1.7598 - accuracy: 0.3773 - val_loss: 1.7992 - val_accuracy: 0.3618\n",
      "Epoch 7/30\n",
      "1407/1407 [==============================] - 9s 6ms/step - loss: 1.7321 - accuracy: 0.3891 - val_loss: 1.7381 - val_accuracy: 0.3828\n",
      "Epoch 8/30\n",
      "1407/1407 [==============================] - 10s 7ms/step - loss: 1.7080 - accuracy: 0.3984 - val_loss: 1.7822 - val_accuracy: 0.3680\n",
      "Epoch 9/30\n",
      "1407/1407 [==============================] - 9s 7ms/step - loss: 1.6866 - accuracy: 0.4042 - val_loss: 1.9210 - val_accuracy: 0.3292\n",
      "Epoch 10/30\n",
      "1407/1407 [==============================] - 9s 7ms/step - loss: 1.6637 - accuracy: 0.4141 - val_loss: 1.8773 - val_accuracy: 0.3280\n",
      "Epoch 11/30\n",
      "1407/1407 [==============================] - 9s 6ms/step - loss: 1.6464 - accuracy: 0.4224 - val_loss: 1.7443 - val_accuracy: 0.3720\n",
      "Epoch 12/30\n",
      "1407/1407 [==============================] - 9s 6ms/step - loss: 1.6269 - accuracy: 0.4242 - val_loss: 1.7620 - val_accuracy: 0.3776\n",
      "Epoch 13/30\n",
      "1407/1407 [==============================] - 9s 6ms/step - loss: 1.6070 - accuracy: 0.4324 - val_loss: 1.7419 - val_accuracy: 0.3894\n",
      "Epoch 14/30\n",
      "1407/1407 [==============================] - 9s 6ms/step - loss: 1.5899 - accuracy: 0.4412 - val_loss: 1.7182 - val_accuracy: 0.3902\n",
      "Epoch 15/30\n",
      "1407/1407 [==============================] - 9s 6ms/step - loss: 1.5742 - accuracy: 0.4435 - val_loss: 1.7238 - val_accuracy: 0.4058\n",
      "Epoch 16/30\n",
      "1407/1407 [==============================] - 9s 6ms/step - loss: 1.5580 - accuracy: 0.4506 - val_loss: 1.7776 - val_accuracy: 0.3784\n",
      "Epoch 17/30\n",
      "1407/1407 [==============================] - 9s 6ms/step - loss: 1.5441 - accuracy: 0.4515 - val_loss: 1.6379 - val_accuracy: 0.4178\n",
      "Epoch 18/30\n",
      "1407/1407 [==============================] - 9s 7ms/step - loss: 1.5287 - accuracy: 0.4604 - val_loss: 1.9565 - val_accuracy: 0.3518\n",
      "Epoch 19/30\n",
      "1407/1407 [==============================] - 9s 6ms/step - loss: 1.5148 - accuracy: 0.4658 - val_loss: 1.6288 - val_accuracy: 0.4322\n",
      "Epoch 20/30\n",
      "1407/1407 [==============================] - 9s 6ms/step - loss: 1.4998 - accuracy: 0.4738 - val_loss: 1.6658 - val_accuracy: 0.4202\n",
      "Epoch 21/30\n",
      "1407/1407 [==============================] - 9s 6ms/step - loss: 1.4882 - accuracy: 0.4748 - val_loss: 1.6421 - val_accuracy: 0.4296\n",
      "Epoch 22/30\n",
      "1407/1407 [==============================] - 9s 6ms/step - loss: 1.4746 - accuracy: 0.4785 - val_loss: 1.6758 - val_accuracy: 0.4112\n",
      "Epoch 23/30\n",
      "1407/1407 [==============================] - 9s 6ms/step - loss: 1.4640 - accuracy: 0.4812 - val_loss: 1.7794 - val_accuracy: 0.3806\n",
      "Epoch 24/30\n",
      "1407/1407 [==============================] - 9s 7ms/step - loss: 1.4494 - accuracy: 0.4893 - val_loss: 1.7154 - val_accuracy: 0.4046\n",
      "Epoch 25/30\n",
      "1407/1407 [==============================] - 9s 7ms/step - loss: 1.4396 - accuracy: 0.4904 - val_loss: 1.6197 - val_accuracy: 0.4428\n",
      "Epoch 26/30\n",
      "1407/1407 [==============================] - 9s 7ms/step - loss: 1.4284 - accuracy: 0.4947 - val_loss: 1.9263 - val_accuracy: 0.3434\n",
      "Epoch 27/30\n",
      "1407/1407 [==============================] - 9s 6ms/step - loss: 1.4175 - accuracy: 0.4962 - val_loss: 1.8302 - val_accuracy: 0.3760\n",
      "Epoch 28/30\n",
      "1407/1407 [==============================] - 9s 6ms/step - loss: 1.4034 - accuracy: 0.5036 - val_loss: 1.7329 - val_accuracy: 0.4120\n",
      "Epoch 29/30\n",
      "1407/1407 [==============================] - 9s 6ms/step - loss: 1.3936 - accuracy: 0.5090 - val_loss: 1.6199 - val_accuracy: 0.4348\n",
      "Epoch 30/30\n",
      "1407/1407 [==============================] - 9s 6ms/step - loss: 1.3831 - accuracy: 0.5130 - val_loss: 1.5931 - val_accuracy: 0.4550\n"
     ]
    }
   ],
   "source": [
    "# Build a simple ANN model\n",
    "tf.compat.v1.reset_default_graph()\n",
    "model1=keras.Sequential()\n",
    "model1.add(keras.layers.Flatten(input_shape=[32,32]))\n",
    "model1.add(keras.layers.Dense(300,activation='relu'))\n",
    "model1.add(keras.layers.Dense(100,activation='relu'))\n",
    "model1.add(keras.layers.Dense(10,activation='softmax'))\n",
    "model1.compile(optimizer=\"sgd\",loss=\"sparse_categorical_crossentropy\",metrics=[\"accuracy\"])\n",
    "history3=model1.fit(x_train_2D,y_train,epochs=30,validation_data=[x_val_2D,y_val])"
   ]
  },
  {
   "cell_type": "code",
   "execution_count": null,
   "id": "0bf57c7e",
   "metadata": {},
   "outputs": [],
   "source": []
  }
 ],
 "metadata": {
  "kernelspec": {
   "display_name": "Python 3",
   "language": "python",
   "name": "python3"
  },
  "language_info": {
   "codemirror_mode": {
    "name": "ipython",
    "version": 3
   },
   "file_extension": ".py",
   "mimetype": "text/x-python",
   "name": "python",
   "nbconvert_exporter": "python",
   "pygments_lexer": "ipython3",
   "version": "3.9.12"
  }
 },
 "nbformat": 4,
 "nbformat_minor": 5
}
