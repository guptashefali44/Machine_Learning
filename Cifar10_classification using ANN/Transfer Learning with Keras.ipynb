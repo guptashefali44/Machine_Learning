{
 "cells": [
  {
   "cell_type": "code",
   "execution_count": 19,
   "id": "c210b265",
   "metadata": {},
   "outputs": [],
   "source": [
    "import tensorflow as tf\n",
    "from tensorflow import keras\n",
    "\n",
    "import pickle"
   ]
  },
  {
   "cell_type": "code",
   "execution_count": 20,
   "id": "969282f8",
   "metadata": {},
   "outputs": [
    {
     "name": "stdout",
     "output_type": "stream",
     "text": [
      "Keras model archive loading:\n",
      "File Name                                             Modified             Size\n",
      "config.json                                    2023-05-30 16:59:40         3847\n",
      "metadata.json                                  2023-05-30 16:59:40           64\n",
      "variables.h5                                   2023-05-30 16:59:42      7738872\n",
      "Keras weights file (<HDF5 file \"variables.h5\" (mode r)>) loading:\n",
      "...layers\\batch_normalization\n",
      "......vars\n",
      ".........0\n",
      ".........1\n",
      ".........2\n",
      ".........3\n",
      "...layers\\batch_normalization_1\n",
      "......vars\n",
      ".........0\n",
      ".........1\n",
      ".........2\n",
      ".........3\n",
      "...layers\\batch_normalization_2\n",
      "......vars\n",
      ".........0\n",
      ".........1\n",
      ".........2\n",
      ".........3\n",
      "...layers\\dense\n",
      "......vars\n",
      ".........0\n",
      "...layers\\dense\\activation\n",
      "......vars\n",
      "...layers\\dense_1\n",
      "......vars\n",
      ".........0\n",
      "...layers\\dense_2\n",
      "......vars\n",
      ".........0\n",
      ".........1\n",
      "...layers\\flatten\n",
      "......vars\n",
      "...metrics\\mean\n",
      "......vars\n",
      ".........0\n",
      ".........1\n",
      "...metrics\\mean_metric_wrapper\n",
      "......vars\n",
      ".........0\n",
      ".........1\n",
      "...optimizer\n",
      "......vars\n",
      ".........0\n",
      ".........1\n",
      ".........10\n",
      ".........2\n",
      ".........3\n",
      ".........4\n",
      ".........5\n",
      ".........6\n",
      ".........7\n",
      ".........8\n",
      ".........9\n",
      "...vars\n"
     ]
    }
   ],
   "source": [
    "model_A=pickle.load(open('model.pkl', 'rb'))"
   ]
  },
  {
   "cell_type": "code",
   "execution_count": 21,
   "id": "ed84e62f",
   "metadata": {},
   "outputs": [
    {
     "name": "stdout",
     "output_type": "stream",
     "text": [
      "Model: \"sequential\"\n",
      "_________________________________________________________________\n",
      " Layer (type)                Output Shape              Param #   \n",
      "=================================================================\n",
      " flatten (Flatten)           (None, 3072)              0         \n",
      "                                                                 \n",
      " batch_normalization (BatchN  (None, 3072)             12288     \n",
      " ormalization)                                                   \n",
      "                                                                 \n",
      " dense (Dense)               (None, 300)               921600    \n",
      "                                                                 \n",
      " batch_normalization_1 (Batc  (None, 300)              1200      \n",
      " hNormalization)                                                 \n",
      "                                                                 \n",
      " dense_1 (Dense)             (None, 100)               30000     \n",
      "                                                                 \n",
      " batch_normalization_2 (Batc  (None, 100)              400       \n",
      " hNormalization)                                                 \n",
      "                                                                 \n",
      " dense_2 (Dense)             (None, 10)                1010      \n",
      "                                                                 \n",
      "=================================================================\n",
      "Total params: 966,498\n",
      "Trainable params: 959,554\n",
      "Non-trainable params: 6,944\n",
      "_________________________________________________________________\n"
     ]
    }
   ],
   "source": [
    "model_A.summary()"
   ]
  },
  {
   "cell_type": "code",
   "execution_count": null,
   "id": "555ce157",
   "metadata": {},
   "outputs": [],
   "source": [
    "#tf.compat.v1.reset_default_graph()"
   ]
  },
  {
   "cell_type": "code",
   "execution_count": 24,
   "id": "57359c96",
   "metadata": {},
   "outputs": [],
   "source": [
    "model_A_clone=keras.models.clone_model(model_A)\n",
    "model_A_clone.set_weights(model_A.get_weights())"
   ]
  },
  {
   "cell_type": "code",
   "execution_count": 27,
   "id": "6fdceb32",
   "metadata": {},
   "outputs": [
    {
     "data": {
      "text/plain": [
       "[<keras.layers.reshaping.flatten.Flatten at 0x2325891f820>,\n",
       " <keras.layers.normalization.batch_normalization.BatchNormalization at 0x2325891fc70>,\n",
       " <keras.layers.core.dense.Dense at 0x23258930850>,\n",
       " <keras.layers.normalization.batch_normalization.BatchNormalization at 0x2325893a520>,\n",
       " <keras.layers.core.dense.Dense at 0x2325893a040>,\n",
       " <keras.layers.normalization.batch_normalization.BatchNormalization at 0x2325893ff10>,\n",
       " <keras.layers.core.dense.Dense at 0x23258943460>]"
      ]
     },
     "execution_count": 27,
     "metadata": {},
     "output_type": "execute_result"
    }
   ],
   "source": [
    "model_A.layers"
   ]
  },
  {
   "cell_type": "code",
   "execution_count": 26,
   "id": "9e3a61be",
   "metadata": {},
   "outputs": [],
   "source": [
    "model_B_on_A=keras.models.Sequential(model_A.layers[:-1])"
   ]
  },
  {
   "cell_type": "code",
   "execution_count": 28,
   "id": "f99929e1",
   "metadata": {},
   "outputs": [
    {
     "data": {
      "text/plain": [
       "[<keras.layers.reshaping.flatten.Flatten at 0x2325891f820>,\n",
       " <keras.layers.normalization.batch_normalization.BatchNormalization at 0x2325891fc70>,\n",
       " <keras.layers.core.dense.Dense at 0x23258930850>,\n",
       " <keras.layers.normalization.batch_normalization.BatchNormalization at 0x2325893a520>,\n",
       " <keras.layers.core.dense.Dense at 0x2325893a040>,\n",
       " <keras.layers.normalization.batch_normalization.BatchNormalization at 0x2325893ff10>]"
      ]
     },
     "execution_count": 28,
     "metadata": {},
     "output_type": "execute_result"
    }
   ],
   "source": [
    "model_B_on_A.layers"
   ]
  },
  {
   "cell_type": "code",
   "execution_count": 29,
   "id": "aa55af28",
   "metadata": {},
   "outputs": [
    {
     "name": "stdout",
     "output_type": "stream",
     "text": [
      "Model: \"sequential_2\"\n",
      "_________________________________________________________________\n",
      " Layer (type)                Output Shape              Param #   \n",
      "=================================================================\n",
      " flatten (Flatten)           (None, 3072)              0         \n",
      "                                                                 \n",
      " batch_normalization (BatchN  (None, 3072)             12288     \n",
      " ormalization)                                                   \n",
      "                                                                 \n",
      " dense (Dense)               (None, 300)               921600    \n",
      "                                                                 \n",
      " batch_normalization_1 (Batc  (None, 300)              1200      \n",
      " hNormalization)                                                 \n",
      "                                                                 \n",
      " dense_1 (Dense)             (None, 100)               30000     \n",
      "                                                                 \n",
      " batch_normalization_2 (Batc  (None, 100)              400       \n",
      " hNormalization)                                                 \n",
      "                                                                 \n",
      "=================================================================\n",
      "Total params: 965,488\n",
      "Trainable params: 958,544\n",
      "Non-trainable params: 6,944\n",
      "_________________________________________________________________\n"
     ]
    }
   ],
   "source": [
    "model_B_on_A.summary()"
   ]
  },
  {
   "cell_type": "code",
   "execution_count": 30,
   "id": "032df903",
   "metadata": {},
   "outputs": [],
   "source": [
    "model_B_on_A.add(keras.layers.Dense(1,activation=\"sigmoid\",name=\"output\"))"
   ]
  },
  {
   "cell_type": "code",
   "execution_count": 43,
   "id": "9b8183b8",
   "metadata": {},
   "outputs": [],
   "source": [
    "#model_A.get_weights()"
   ]
  },
  {
   "cell_type": "code",
   "execution_count": 44,
   "id": "bb0e65f2",
   "metadata": {},
   "outputs": [],
   "source": [
    "#model_A_clone.get_weights()"
   ]
  },
  {
   "cell_type": "code",
   "execution_count": null,
   "id": "2a67e6d9",
   "metadata": {},
   "outputs": [],
   "source": [
    "#len(model_B_on_A.get_weights())\n",
    "#model_B_on_A.get_weights()[0].shape\n",
    "#model_B_on_A.get_weights()[1].shape\n",
    "#model_A_clone.get_weights()[0].shape\n",
    "#print(model_B_on_A.get_weights()[0])\n",
    "#print(model_A_clone.get_weights()[0])"
   ]
  },
  {
   "cell_type": "markdown",
   "id": "bb119852",
   "metadata": {},
   "source": [
    "#### Freeze the unused layers\n",
    "#### After freezing and Unfreezing the layers compiling the model is necessary"
   ]
  },
  {
   "cell_type": "code",
   "execution_count": 45,
   "id": "8310ed0d",
   "metadata": {},
   "outputs": [
    {
     "data": {
      "text/plain": [
       "[<keras.layers.reshaping.flatten.Flatten at 0x2325891f820>,\n",
       " <keras.layers.normalization.batch_normalization.BatchNormalization at 0x2325891fc70>,\n",
       " <keras.layers.core.dense.Dense at 0x23258930850>,\n",
       " <keras.layers.normalization.batch_normalization.BatchNormalization at 0x2325893a520>,\n",
       " <keras.layers.core.dense.Dense at 0x2325893a040>,\n",
       " <keras.layers.normalization.batch_normalization.BatchNormalization at 0x2325893ff10>]"
      ]
     },
     "execution_count": 45,
     "metadata": {},
     "output_type": "execute_result"
    }
   ],
   "source": [
    "model_B_on_A.layers[:-1]"
   ]
  },
  {
   "cell_type": "code",
   "execution_count": 46,
   "id": "eada2f21",
   "metadata": {},
   "outputs": [],
   "source": [
    "for layer in model_B_on_A.layers[:-1]:\n",
    "    layer.trainable=False"
   ]
  },
  {
   "cell_type": "code",
   "execution_count": 48,
   "id": "c72cb7c1",
   "metadata": {},
   "outputs": [],
   "source": [
    "# compile model after freezing layer\n",
    "model_B_on_A.compile(loss=\"binary_crossentropy\",optimizer=\"sgd\",metrics=[\"accuracy\"])"
   ]
  },
  {
   "cell_type": "code",
   "execution_count": null,
   "id": "6d8ff229",
   "metadata": {},
   "outputs": [],
   "source": [
    "#history = model_B_on_A.fit(X_train_B, y_train_B, epochs=4,validation_data=(X_valid_B, y_valid_B))\n",
    "#for layer in model_B_on_A.layers[:-1]:\n",
    "    #layer.trainable=True\n",
    "\n",
    "#optimizer = keras.optimizers.SGD(lr=1e-4) # the default lr is 1e-3\n",
    "#model_B_on_A.compile(loss=\"binary_crossentropy\", optimizer=optimizer,metrics=[\"accuracy\"])\n",
    "#history = model_B_on_A.fit(X_train_B, y_train_B, epochs=16,validation_data=(X_valid_B, y_valid_B))"
   ]
  },
  {
   "cell_type": "code",
   "execution_count": null,
   "id": "11f58b14",
   "metadata": {},
   "outputs": [],
   "source": [
    "#  model_B_on_A.evaluate(X_test_B, y_test_B)"
   ]
  },
  {
   "cell_type": "code",
   "execution_count": null,
   "id": "090c4af2",
   "metadata": {},
   "outputs": [],
   "source": []
  }
 ],
 "metadata": {
  "kernelspec": {
   "display_name": "Python 3",
   "language": "python",
   "name": "python3"
  },
  "language_info": {
   "codemirror_mode": {
    "name": "ipython",
    "version": 3
   },
   "file_extension": ".py",
   "mimetype": "text/x-python",
   "name": "python",
   "nbconvert_exporter": "python",
   "pygments_lexer": "ipython3",
   "version": "3.9.12"
  }
 },
 "nbformat": 4,
 "nbformat_minor": 5
}
