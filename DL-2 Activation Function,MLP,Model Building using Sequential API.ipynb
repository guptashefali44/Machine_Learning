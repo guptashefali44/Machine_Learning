{
 "cells": [
  {
   "cell_type": "markdown",
   "id": "9c5d6bc3",
   "metadata": {},
   "source": [
    "### 1. Activation Function"
   ]
  },
  {
   "attachments": {
    "image.png": {
     "image/png": "[encoded data removed]"
    }
   },
   "cell_type": "markdown",
   "id": "d197f8a1",
   "metadata": {},
   "source": [
    "#### 1.a sigmoid\n",
    "\n",
    "![image.png](attachment:image.png)\n",
    "   * **Range**: 0-1\n",
    "   * **Use**:Often used in the output layer for **binary classification problems** or when you need a **probability-like output**.\n",
    "   * **Advantages**:It squashes the input into a small range, making it useful for models where you want to model probabilities.\n",
    "   * **Disadvantages**:Sigmoid functions suffer from the vanishing gradient problem, which can slow down the learning process."
   ]
  },
  {
   "cell_type": "markdown",
   "id": "198a4a85",
   "metadata": {},
   "source": [
    "#### 1.b Tanh\n",
    "  * **Range**:(-1 to 1)\n",
    "  * **Use**:Similar to sigmoid, tanh is also used in the hidden layers of neural networks or as an alternative to sigmoid in the output layer for classification problems.\n",
    "  * **Advantages**:It squashes the input into a small range and is zero-centered, making it useful for models that benefit from normalization.\n",
    "  * **Disadvantages**:Like sigmoid, tanh also suffers from the vanishing gradient problem."
   ]
  },
  {
   "cell_type": "markdown",
   "id": "f8b06c0c",
   "metadata": {},
   "source": [
    "#### 1.c ReLU\n",
    "\n",
    "  * **Range**:[0,+∞]\n",
    "  * **Use**: Most commonly used activation function in deep neural networks.\n",
    "  * **Advantages**: \n",
    "       * Computationally efficient.\n",
    "       * Overcomes vanishing gradient problem.\n",
    "       * It helps the network learn faster and can be more robust to noisy data.\n",
    "  * **Disadvantages**:ReLU can cause **\"dead neurons\"** where the neuron becomes inactive and does not fire. This can happen if the **input is negative**, resulting in a zero gradient and no learning."
   ]
  },
  {
   "cell_type": "markdown",
   "id": "925c7f77",
   "metadata": {},
   "source": [
    "#### 1.d Leaky ReLU\n",
    "\n",
    "  * **Range**:(-∞, +∞)\n",
    "  * **Use**:Leaky ReLU is a modification of ReLU and aims to address the \"dead neuron\" problem.\n",
    "  * **Advantages**: Leaky ReLU allows a small positive gradient for negative inputs, which helps in avoiding the \"dead neuron\" issue.\n",
    "  * **Disadvantages**:Choosing the leakage parameter is empirical and might require tuning."
   ]
  },
  {
   "cell_type": "markdown",
   "id": "1a40ce8e",
   "metadata": {},
   "source": [
    "#### 1.e Parametric ReLU(PReLU):\n",
    "\n",
    "   * **Range**:\n",
    "   * **Use**:\n",
    "   * **Advantages**:\n",
    "   * **Disadvantages**:"
   ]
  },
  {
   "cell_type": "markdown",
   "id": "51de9a84",
   "metadata": {},
   "source": [
    "### 2. MLP(Multi layer Perceptron)"
   ]
  },
  {
   "cell_type": "markdown",
   "id": "2e38a2d6",
   "metadata": {},
   "source": [
    "### 3. Model Building using the sequential API"
   ]
  },
  {
   "cell_type": "markdown",
   "id": "826906ea",
   "metadata": {},
   "source": [
    "#### 3.a Building an Image classifier using sequential API"
   ]
  },
  {
   "cell_type": "code",
   "execution_count": 1,
   "id": "f7219cfd",
   "metadata": {},
   "outputs": [],
   "source": [
    "import numpy as np\n",
    "import pandas as pd"
   ]
  },
  {
   "cell_type": "code",
   "execution_count": 2,
   "id": "76a52b54",
   "metadata": {},
   "outputs": [],
   "source": [
    "import matplotlib.pyplot as plt\n",
    "import seaborn as sns"
   ]
  },
  {
   "cell_type": "code",
   "execution_count": 3,
   "id": "dea61a01",
   "metadata": {},
   "outputs": [],
   "source": [
    "import tensorflow as tf"
   ]
  },
  {
   "cell_type": "code",
   "execution_count": 4,
   "id": "5280e527",
   "metadata": {},
   "outputs": [],
   "source": [
    "from tensorflow import keras"
   ]
  },
  {
   "cell_type": "code",
   "execution_count": 5,
   "id": "cfea6860",
   "metadata": {},
   "outputs": [
    {
     "name": "stdout",
     "output_type": "stream",
     "text": [
      "2.11.0\n",
      "2.11.0\n"
     ]
    }
   ],
   "source": [
    "print(tf.__version__)\n",
    "print(keras.__version__)"
   ]
  },
  {
   "cell_type": "code",
   "execution_count": 6,
   "id": "0297ba40",
   "metadata": {},
   "outputs": [
    {
     "name": "stdout",
     "output_type": "stream",
     "text": [
      "<class 'module'>\n"
     ]
    }
   ],
   "source": [
    "# Load fashion mnist dataset from keras datasets\n",
    "fashion_mnsit=keras.datasets.fashion_mnist\n",
    "print(type(fashion_mnsit))"
   ]
  },
  {
   "cell_type": "code",
   "execution_count": 7,
   "id": "188e152b",
   "metadata": {},
   "outputs": [
    {
     "name": "stdout",
     "output_type": "stream",
     "text": [
      "<class 'numpy.ndarray'> <class 'numpy.ndarray'> <class 'numpy.ndarray'> <class 'numpy.ndarray'>\n",
      "(60000, 28, 28)\n",
      "(60000,)\n",
      "(10000, 28, 28)\n",
      "(10000,)\n"
     ]
    }
   ],
   "source": [
    "((X_train_full,y_train_full),(X_test,y_test))=fashion_mnsit.load_data()\n",
    "print(type(X_train_full),type(y_train_full),type(X_test),type(y_test))\n",
    "print(X_train_full.shape)\n",
    "print(y_train_full.shape)\n",
    "print(X_test.shape)\n",
    "print(y_test.shape)\n"
   ]
  },
  {
   "cell_type": "code",
   "execution_count": 8,
   "id": "899a3fa4",
   "metadata": {},
   "outputs": [
    {
     "name": "stdout",
     "output_type": "stream",
     "text": [
      "(55000, 28, 28) (55000,)\n",
      "(5000,) (55000,)\n"
     ]
    }
   ],
   "source": [
    "# creating validation set and scaling the data for faster conversion in gradient descent\n",
    "X_val,X_train=X_train_full[:5000]/255,X_train_full[5000:]/255\n",
    "y_val,y_train=y_train_full[:5000],y_train_full[5000:]\n",
    "print(X_train.shape,y_train.shape)\n",
    "print(y_val.shape,y_train.shape)"
   ]
  },
  {
   "cell_type": "code",
   "execution_count": 9,
   "id": "1ac57bb0",
   "metadata": {},
   "outputs": [
    {
     "data": {
      "text/plain": [
       "array([0, 1, 2, 3, 4, 5, 6, 7, 8, 9], dtype=uint8)"
      ]
     },
     "execution_count": 9,
     "metadata": {},
     "output_type": "execute_result"
    }
   ],
   "source": [
    "np.unique(y_train)"
   ]
  },
  {
   "cell_type": "code",
   "execution_count": 10,
   "id": "114e35de",
   "metadata": {},
   "outputs": [
    {
     "data": {
      "text/plain": [
       "array([0, 1, 2, 3, 4, 5, 6, 7, 8, 9], dtype=uint8)"
      ]
     },
     "execution_count": 10,
     "metadata": {},
     "output_type": "execute_result"
    }
   ],
   "source": [
    "np.unique(y_test)"
   ]
  },
  {
   "cell_type": "code",
   "execution_count": 11,
   "id": "9f6dc59c",
   "metadata": {},
   "outputs": [],
   "source": [
    "map_class={0:'T-shirt/top',1:'Trouser',2:'Pullover',3:'Dress',4:'Coat',5:'Sandal',6:'Shirt',7:'Sneaker',8:'Bag',9:'Ankle boot'}\n",
    "class_names = [\"T-shirt/top\", \"Trouser\", \"Pullover\", \"Dress\", \"Coat\",\n",
    " \"Sandal\", \"Shirt\", \"Sneaker\", \"Bag\", \"Ankle boot\"]\n"
   ]
  },
  {
   "cell_type": "code",
   "execution_count": 12,
   "id": "46a5b5b7",
   "metadata": {},
   "outputs": [
    {
     "data": {
      "text/plain": [
       "'Coat'"
      ]
     },
     "execution_count": 12,
     "metadata": {},
     "output_type": "execute_result"
    }
   ],
   "source": [
    "class_names[y_train[0]]"
   ]
  },
  {
   "cell_type": "code",
   "execution_count": 13,
   "id": "68808fc5",
   "metadata": {},
   "outputs": [
    {
     "data": {
      "image/png": "[encoded data removed]",
      "text/plain": [
       "<Figure size 720x576 with 12 Axes>"
      ]
     },
     "metadata": {
      "needs_background": "light"
     },
     "output_type": "display_data"
    }
   ],
   "source": [
    "plt.figure(figsize=(10,8))\n",
    "for i in range(12):\n",
    "    plt.subplot(4,3,i+1)\n",
    "    plt.imshow(X_train[i],cmap='gray')\n",
    "    plt.title(map_class[y_train[i]],loc='right')\n",
    "plt.show()"
   ]
  },
  {
   "cell_type": "code",
   "execution_count": 24,
   "id": "6c8a38e4",
   "metadata": {},
   "outputs": [],
   "source": [
    "# build sequential model\n",
    "tf.compat.v1.reset_default_graph()\n",
    "model=keras.Sequential()\n",
    "model.add(keras.layers.Flatten(input_shape=[28,28]))\n",
    "model.add(keras.layers.Dense(300,activation='relu'))\n",
    "model.add(keras.layers.Dense(100,activation='relu'))\n",
    "model.add(keras.layers.Dense(10,activation='softmax'))\n"
   ]
  },
  {
   "cell_type": "code",
   "execution_count": 25,
   "id": "de5c5e1c",
   "metadata": {},
   "outputs": [
    {
     "name": "stdout",
     "output_type": "stream",
     "text": [
      "Model: \"sequential\"\n",
      "_________________________________________________________________\n",
      " Layer (type)                Output Shape              Param #   \n",
      "=================================================================\n",
      " flatten (Flatten)           (None, 784)               0         \n",
      "                                                                 \n",
      " dense (Dense)               (None, 300)               235500    \n",
      "                                                                 \n",
      " dense_1 (Dense)             (None, 100)               30100     \n",
      "                                                                 \n",
      " dense_2 (Dense)             (None, 10)                1010      \n",
      "                                                                 \n",
      "=================================================================\n",
      "Total params: 266,610\n",
      "Trainable params: 266,610\n",
      "Non-trainable params: 0\n",
      "_________________________________________________________________\n"
     ]
    }
   ],
   "source": [
    "model.summary()"
   ]
  },
  {
   "cell_type": "code",
   "execution_count": 26,
   "id": "d6bb8889",
   "metadata": {},
   "outputs": [
    {
     "data": {
      "text/plain": [
       "[<keras.layers.reshaping.flatten.Flatten at 0x21feda126d0>,\n",
       " <keras.layers.core.dense.Dense at 0x21feda4e190>,\n",
       " <keras.layers.core.dense.Dense at 0x21feda19d00>,\n",
       " <keras.layers.core.dense.Dense at 0x21fc5442ca0>]"
      ]
     },
     "execution_count": 26,
     "metadata": {},
     "output_type": "execute_result"
    }
   ],
   "source": [
    "model.layers"
   ]
  },
  {
   "cell_type": "code",
   "execution_count": 27,
   "id": "9fe5233a",
   "metadata": {},
   "outputs": [
    {
     "data": {
      "text/plain": [
       "'dense'"
      ]
     },
     "execution_count": 27,
     "metadata": {},
     "output_type": "execute_result"
    }
   ],
   "source": [
    "model.layers[1].name"
   ]
  },
  {
   "cell_type": "code",
   "execution_count": 28,
   "id": "1f462d35",
   "metadata": {},
   "outputs": [
    {
     "data": {
      "text/plain": [
       "'dense_1'"
      ]
     },
     "execution_count": 28,
     "metadata": {},
     "output_type": "execute_result"
    }
   ],
   "source": [
    "model.get_layer('dense_1').name"
   ]
  },
  {
   "cell_type": "code",
   "execution_count": 29,
   "id": "abf0c0d6",
   "metadata": {},
   "outputs": [],
   "source": [
    "input_layer=model.get_layer('flatten')\n",
    "hidden1=model.get_layer('dense')\n",
    "hidden2=model.get_layer('dense_1')\n",
    "output_layer=model.get_layer('dense_2')"
   ]
  },
  {
   "cell_type": "code",
   "execution_count": 30,
   "id": "42ed8cf5",
   "metadata": {},
   "outputs": [
    {
     "name": "stdout",
     "output_type": "stream",
     "text": [
      "(784, 300)\n",
      "(300,)\n"
     ]
    }
   ],
   "source": [
    "weights,biases=hidden1.get_weights()\n",
    "print(weights.shape)\n",
    "print(biases.shape)"
   ]
  },
  {
   "cell_type": "code",
   "execution_count": 31,
   "id": "02fdaa82",
   "metadata": {},
   "outputs": [],
   "source": [
    "# compile the model\n",
    "# sparse_categorical_crossentropy:sparse categorical variables,categorical_crossentropy:one hot encoded categorical variables,\n",
    "# binary_crossentropy:binary categories\n",
    "model.compile(loss='sparse_categorical_crossentropy',metrics=['accuracy'],optimizer='sgd')"
   ]
  },
  {
   "cell_type": "code",
   "execution_count": 32,
   "id": "2a4172f2",
   "metadata": {},
   "outputs": [
    {
     "name": "stdout",
     "output_type": "stream",
     "text": [
      "(55000, 28, 28) (55000,)\n",
      "(5000, 28, 28) (5000,)\n"
     ]
    }
   ],
   "source": [
    "print(X_train.shape,y_train.shape)\n",
    "print(X_val.shape,y_val.shape)\n"
   ]
  },
  {
   "cell_type": "code",
   "execution_count": 41,
   "id": "4d979426",
   "metadata": {},
   "outputs": [
    {
     "name": "stdout",
     "output_type": "stream",
     "text": [
      "Epoch 1/30\n",
      "1719/1719 [==============================] - 4s 2ms/step - loss: 0.1812 - accuracy: 0.9353 - val_loss: 0.2927 - val_accuracy: 0.8972\n",
      "Epoch 2/30\n",
      "1719/1719 [==============================] - 4s 2ms/step - loss: 0.1783 - accuracy: 0.9365 - val_loss: 0.2998 - val_accuracy: 0.8890\n",
      "Epoch 3/30\n",
      "1719/1719 [==============================] - 4s 2ms/step - loss: 0.1764 - accuracy: 0.9377 - val_loss: 0.2787 - val_accuracy: 0.8982\n",
      "Epoch 4/30\n",
      "1719/1719 [==============================] - 4s 2ms/step - loss: 0.1729 - accuracy: 0.9377 - val_loss: 0.2901 - val_accuracy: 0.8936\n",
      "Epoch 5/30\n",
      "1719/1719 [==============================] - 4s 2ms/step - loss: 0.1701 - accuracy: 0.9390 - val_loss: 0.2959 - val_accuracy: 0.8960\n",
      "Epoch 6/30\n",
      "1719/1719 [==============================] - 4s 2ms/step - loss: 0.1684 - accuracy: 0.9407 - val_loss: 0.3017 - val_accuracy: 0.8946\n",
      "Epoch 7/30\n",
      "1719/1719 [==============================] - 4s 2ms/step - loss: 0.1654 - accuracy: 0.9415 - val_loss: 0.2928 - val_accuracy: 0.8974\n",
      "Epoch 8/30\n",
      "1719/1719 [==============================] - 4s 3ms/step - loss: 0.1620 - accuracy: 0.9423 - val_loss: 0.2995 - val_accuracy: 0.8958\n",
      "Epoch 9/30\n",
      "1719/1719 [==============================] - 4s 3ms/step - loss: 0.1608 - accuracy: 0.9424 - val_loss: 0.2819 - val_accuracy: 0.9024\n",
      "Epoch 10/30\n",
      "1719/1719 [==============================] - 4s 2ms/step - loss: 0.1584 - accuracy: 0.9435 - val_loss: 0.2991 - val_accuracy: 0.8940\n",
      "Epoch 11/30\n",
      "1719/1719 [==============================] - 4s 2ms/step - loss: 0.1552 - accuracy: 0.9448 - val_loss: 0.3066 - val_accuracy: 0.8952\n",
      "Epoch 12/30\n",
      "1719/1719 [==============================] - 4s 2ms/step - loss: 0.1524 - accuracy: 0.9474 - val_loss: 0.2885 - val_accuracy: 0.8972\n",
      "Epoch 13/30\n",
      "1719/1719 [==============================] - 4s 2ms/step - loss: 0.1507 - accuracy: 0.9463 - val_loss: 0.2986 - val_accuracy: 0.8964\n",
      "Epoch 14/30\n",
      "1719/1719 [==============================] - 4s 2ms/step - loss: 0.1485 - accuracy: 0.9477 - val_loss: 0.2943 - val_accuracy: 0.8948\n",
      "Epoch 15/30\n",
      "1719/1719 [==============================] - 4s 3ms/step - loss: 0.1457 - accuracy: 0.9502 - val_loss: 0.3083 - val_accuracy: 0.8938\n",
      "Epoch 16/30\n",
      "1719/1719 [==============================] - 4s 2ms/step - loss: 0.1434 - accuracy: 0.9494 - val_loss: 0.2935 - val_accuracy: 0.8994\n",
      "Epoch 17/30\n",
      "1719/1719 [==============================] - 4s 2ms/step - loss: 0.1419 - accuracy: 0.9499 - val_loss: 0.3099 - val_accuracy: 0.8942\n",
      "Epoch 18/30\n",
      "1719/1719 [==============================] - 4s 2ms/step - loss: 0.1398 - accuracy: 0.9506 - val_loss: 0.2993 - val_accuracy: 0.8978\n",
      "Epoch 19/30\n",
      "1719/1719 [==============================] - 4s 2ms/step - loss: 0.1366 - accuracy: 0.9519 - val_loss: 0.2936 - val_accuracy: 0.8982\n",
      "Epoch 20/30\n",
      "1719/1719 [==============================] - 4s 2ms/step - loss: 0.1345 - accuracy: 0.9532 - val_loss: 0.3021 - val_accuracy: 0.8964\n",
      "Epoch 21/30\n",
      "1719/1719 [==============================] - 4s 3ms/step - loss: 0.1329 - accuracy: 0.9530 - val_loss: 0.3136 - val_accuracy: 0.8958\n",
      "Epoch 22/30\n",
      "1719/1719 [==============================] - 4s 3ms/step - loss: 0.1310 - accuracy: 0.9534 - val_loss: 0.3100 - val_accuracy: 0.8920\n",
      "Epoch 23/30\n",
      "1719/1719 [==============================] - 4s 3ms/step - loss: 0.1284 - accuracy: 0.9552 - val_loss: 0.3091 - val_accuracy: 0.8962\n",
      "Epoch 24/30\n",
      "1719/1719 [==============================] - 4s 3ms/step - loss: 0.1251 - accuracy: 0.9564 - val_loss: 0.3172 - val_accuracy: 0.8966\n",
      "Epoch 25/30\n",
      "1719/1719 [==============================] - 4s 3ms/step - loss: 0.1239 - accuracy: 0.9565 - val_loss: 0.3236 - val_accuracy: 0.8950\n",
      "Epoch 26/30\n",
      "1719/1719 [==============================] - 4s 3ms/step - loss: 0.1220 - accuracy: 0.9573 - val_loss: 0.3135 - val_accuracy: 0.9008\n",
      "Epoch 27/30\n",
      "1719/1719 [==============================] - 4s 3ms/step - loss: 0.1193 - accuracy: 0.9587 - val_loss: 0.3013 - val_accuracy: 0.8974\n",
      "Epoch 28/30\n",
      "1719/1719 [==============================] - 4s 3ms/step - loss: 0.1166 - accuracy: 0.9592 - val_loss: 0.2952 - val_accuracy: 0.9008\n",
      "Epoch 29/30\n",
      "1719/1719 [==============================] - 4s 3ms/step - loss: 0.1152 - accuracy: 0.9597 - val_loss: 0.3426 - val_accuracy: 0.8870\n",
      "Epoch 30/30\n",
      "1719/1719 [==============================] - 4s 3ms/step - loss: 0.1142 - accuracy: 0.9595 - val_loss: 0.3112 - val_accuracy: 0.9006\n"
     ]
    }
   ],
   "source": [
    "# Training and evaluating the model\n",
    "hostory=model.fit(X_train,y_train,epochs=30,validation_data=(X_val,y_val))"
   ]
  },
  {
   "cell_type": "code",
   "execution_count": 47,
   "id": "c9d22e06",
   "metadata": {},
   "outputs": [
    {
     "data": {
      "image/png": "[encoded data removed]",
      "text/plain": [
       "<Figure size 576x360 with 1 Axes>"
      ]
     },
     "metadata": {
      "needs_background": "light"
     },
     "output_type": "display_data"
    }
   ],
   "source": [
    "pd.DataFrame(hostory.history).plot(figsize=(8,5))\n",
    "plt.grid(True)\n",
    "plt.gca().set_ylim(0,1)             # set the vertical range to [0-1]\n",
    "plt.show()"
   ]
  },
  {
   "cell_type": "code",
   "execution_count": 48,
   "id": "cc368e04",
   "metadata": {},
   "outputs": [
    {
     "name": "stdout",
     "output_type": "stream",
     "text": [
      "313/313 [==============================] - 1s 2ms/step - loss: 78.4226 - accuracy: 0.8592\n"
     ]
    },
    {
     "data": {
      "text/plain": [
       "[78.42263793945312, 0.8592000007629395]"
      ]
     },
     "execution_count": 48,
     "metadata": {},
     "output_type": "execute_result"
    }
   ],
   "source": [
    "# Evaluate Model\n",
    "model.evaluate(X_test,y_test)"
   ]
  },
  {
   "cell_type": "code",
   "execution_count": 50,
   "id": "fe0c4a1e",
   "metadata": {},
   "outputs": [
    {
     "name": "stdout",
     "output_type": "stream",
     "text": [
      "1/1 [==============================] - 0s 22ms/step\n"
     ]
    },
    {
     "data": {
      "text/plain": [
       "array([[0., 0., 0., 0., 0., 0., 0., 0., 0., 1.],\n",
       "       [0., 0., 1., 0., 0., 0., 0., 0., 0., 0.],\n",
       "       [0., 1., 0., 0., 0., 0., 0., 0., 0., 0.]], dtype=float32)"
      ]
     },
     "execution_count": 50,
     "metadata": {},
     "output_type": "execute_result"
    }
   ],
   "source": [
    "# Use the model to make predictions\n",
    "X_new=X_test[:3]\n",
    "y_proba=model.predict(X_new)\n",
    "y_proba.round(3)"
   ]
  },
  {
   "cell_type": "code",
   "execution_count": 55,
   "id": "7861f937",
   "metadata": {},
   "outputs": [
    {
     "data": {
      "text/plain": [
       "array([9, 2, 1], dtype=int64)"
      ]
     },
     "execution_count": 55,
     "metadata": {},
     "output_type": "execute_result"
    }
   ],
   "source": [
    "#Predict classes\n",
    "y_classes=np.argmax(y_proba,axis=1)\n",
    "y_classes"
   ]
  },
  {
   "cell_type": "markdown",
   "id": "863d999b",
   "metadata": {},
   "source": [
    "#### 3.b Building a Regression MLP using the sequential API"
   ]
  },
  {
   "cell_type": "code",
   "execution_count": null,
   "id": "4bf56005",
   "metadata": {},
   "outputs": [],
   "source": []
  }
 ],
 "metadata": {
  "kernelspec": {
   "display_name": "Python 3",
   "language": "python",
   "name": "python3"
  },
  "language_info": {
   "codemirror_mode": {
    "name": "ipython",
    "version": 3
   },
   "file_extension": ".py",
   "mimetype": "text/x-python",
   "name": "python",
   "nbconvert_exporter": "python",
   "pygments_lexer": "ipython3",
   "version": "3.9.12"
  }
 },
 "nbformat": 4,
 "nbformat_minor": 5
}
